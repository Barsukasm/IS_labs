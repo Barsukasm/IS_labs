{
 "cells": [
  {
   "cell_type": "code",
   "execution_count": 1,
   "metadata": {},
   "outputs": [],
   "source": [
    "import pandas as pd\n",
    "import numpy as np\n",
    "\n",
    "import skfuzzy as fuzz\n",
    "from skfuzzy import control as ctrl\n",
    "\n",
    "from sklearn import tree\n",
    "from sklearn import metrics\n",
    "from sklearn.model_selection import train_test_split, cross_val_score\n",
    "\n",
    "import networkx as nx\n",
    "import seaborn as sns; sns.set()\n",
    "import matplotlib.pyplot as plt\n",
    "from sklearn.tree import export_graphviz\n",
    "\n",
    "pd.set_option('display.precision', 3);\n",
    "%matplotlib inline"
   ]
  },
  {
   "cell_type": "markdown",
   "metadata": {},
   "source": [
    "# 1. Подготовка"
   ]
  },
  {
   "cell_type": "markdown",
   "metadata": {},
   "source": [
    "## 1.1. Загрузка данных"
   ]
  },
  {
   "cell_type": "code",
   "execution_count": 2,
   "metadata": {},
   "outputs": [],
   "source": [
    "data = pd.read_csv(\"./data.csv\", sep=',', header=0)"
   ]
  },
  {
   "cell_type": "code",
   "execution_count": 3,
   "metadata": {},
   "outputs": [],
   "source": [
    "features = ['RESIDENTIAL UNITS', 'TAX CLASS AT TIME OF SALE']\n",
    "target = ['SALE PRICE']"
   ]
  },
  {
   "cell_type": "code",
   "execution_count": 4,
   "metadata": {},
   "outputs": [
    {
     "data": {
      "text/plain": [
       "(40196, 22)"
      ]
     },
     "execution_count": 4,
     "metadata": {},
     "output_type": "execute_result"
    }
   ],
   "source": [
    "data.shape"
   ]
  },
  {
   "cell_type": "code",
   "execution_count": 5,
   "metadata": {},
   "outputs": [
    {
     "name": "stdout",
     "output_type": "stream",
     "text": [
      "<class 'pandas.core.frame.DataFrame'>\n",
      "RangeIndex: 40196 entries, 0 to 40195\n",
      "Data columns (total 22 columns):\n",
      "Unnamed: 0                        40196 non-null int64\n",
      "BOROUGH                           40196 non-null int64\n",
      "NEIGHBORHOOD                      40196 non-null object\n",
      "BUILDING CLASS CATEGORY           40196 non-null object\n",
      "TAX CLASS AT PRESENT              40196 non-null object\n",
      "BLOCK                             40196 non-null int64\n",
      "LOT                               40196 non-null int64\n",
      "EASE-MENT                         40196 non-null object\n",
      "BUILDING CLASS AT PRESENT         40196 non-null object\n",
      "ADDRESS                           40196 non-null object\n",
      "APARTMENT NUMBER                  40196 non-null object\n",
      "ZIP CODE                          40196 non-null int64\n",
      "RESIDENTIAL UNITS                 40196 non-null int64\n",
      "COMMERCIAL UNITS                  40196 non-null int64\n",
      "TOTAL UNITS                       40196 non-null int64\n",
      "LAND SQUARE FEET                  40196 non-null object\n",
      "GROSS SQUARE FEET                 40196 non-null object\n",
      "YEAR BUILT                        40196 non-null int64\n",
      "TAX CLASS AT TIME OF SALE         40196 non-null int64\n",
      "BUILDING CLASS AT TIME OF SALE    40196 non-null object\n",
      "SALE PRICE                        40196 non-null int64\n",
      "SALE DATE                         40196 non-null object\n",
      "dtypes: int64(11), object(11)\n",
      "memory usage: 6.7+ MB\n"
     ]
    }
   ],
   "source": [
    "data.info()"
   ]
  },
  {
   "cell_type": "code",
   "execution_count": 6,
   "metadata": {},
   "outputs": [
    {
     "data": {
      "text/html": [
       "<div>\n",
       "<style scoped>\n",
       "    .dataframe tbody tr th:only-of-type {\n",
       "        vertical-align: middle;\n",
       "    }\n",
       "\n",
       "    .dataframe tbody tr th {\n",
       "        vertical-align: top;\n",
       "    }\n",
       "\n",
       "    .dataframe thead th {\n",
       "        text-align: right;\n",
       "    }\n",
       "</style>\n",
       "<table border=\"1\" class=\"dataframe\">\n",
       "  <thead>\n",
       "    <tr style=\"text-align: right;\">\n",
       "      <th></th>\n",
       "      <th>Unnamed: 0</th>\n",
       "      <th>BOROUGH</th>\n",
       "      <th>NEIGHBORHOOD</th>\n",
       "      <th>BUILDING CLASS CATEGORY</th>\n",
       "      <th>TAX CLASS AT PRESENT</th>\n",
       "      <th>BLOCK</th>\n",
       "      <th>LOT</th>\n",
       "      <th>EASE-MENT</th>\n",
       "      <th>BUILDING CLASS AT PRESENT</th>\n",
       "      <th>ADDRESS</th>\n",
       "      <th>...</th>\n",
       "      <th>RESIDENTIAL UNITS</th>\n",
       "      <th>COMMERCIAL UNITS</th>\n",
       "      <th>TOTAL UNITS</th>\n",
       "      <th>LAND SQUARE FEET</th>\n",
       "      <th>GROSS SQUARE FEET</th>\n",
       "      <th>YEAR BUILT</th>\n",
       "      <th>TAX CLASS AT TIME OF SALE</th>\n",
       "      <th>BUILDING CLASS AT TIME OF SALE</th>\n",
       "      <th>SALE PRICE</th>\n",
       "      <th>SALE DATE</th>\n",
       "    </tr>\n",
       "  </thead>\n",
       "  <tbody>\n",
       "    <tr>\n",
       "      <th>count</th>\n",
       "      <td>40196.000</td>\n",
       "      <td>40196.000</td>\n",
       "      <td>40196</td>\n",
       "      <td>40196</td>\n",
       "      <td>40196</td>\n",
       "      <td>40196.000</td>\n",
       "      <td>40196.000</td>\n",
       "      <td>40196</td>\n",
       "      <td>40196</td>\n",
       "      <td>40196</td>\n",
       "      <td>...</td>\n",
       "      <td>40196.000</td>\n",
       "      <td>40196.000</td>\n",
       "      <td>40196.000</td>\n",
       "      <td>40196</td>\n",
       "      <td>40196</td>\n",
       "      <td>40196.000</td>\n",
       "      <td>40196.000</td>\n",
       "      <td>40196</td>\n",
       "      <td>4.020e+04</td>\n",
       "      <td>40196</td>\n",
       "    </tr>\n",
       "    <tr>\n",
       "      <th>unique</th>\n",
       "      <td>NaN</td>\n",
       "      <td>NaN</td>\n",
       "      <td>247</td>\n",
       "      <td>30</td>\n",
       "      <td>9</td>\n",
       "      <td>NaN</td>\n",
       "      <td>NaN</td>\n",
       "      <td>1</td>\n",
       "      <td>72</td>\n",
       "      <td>31576</td>\n",
       "      <td>...</td>\n",
       "      <td>NaN</td>\n",
       "      <td>NaN</td>\n",
       "      <td>NaN</td>\n",
       "      <td>4107</td>\n",
       "      <td>3930</td>\n",
       "      <td>NaN</td>\n",
       "      <td>NaN</td>\n",
       "      <td>73</td>\n",
       "      <td>NaN</td>\n",
       "      <td>332</td>\n",
       "    </tr>\n",
       "    <tr>\n",
       "      <th>top</th>\n",
       "      <td>NaN</td>\n",
       "      <td>NaN</td>\n",
       "      <td>FLUSHING-NORTH</td>\n",
       "      <td>01 ONE FAMILY DWELLINGS</td>\n",
       "      <td>1</td>\n",
       "      <td>NaN</td>\n",
       "      <td>NaN</td>\n",
       "      <td></td>\n",
       "      <td>R4</td>\n",
       "      <td>131-05 40TH   ROAD</td>\n",
       "      <td>...</td>\n",
       "      <td>NaN</td>\n",
       "      <td>NaN</td>\n",
       "      <td>NaN</td>\n",
       "      <td>-</td>\n",
       "      <td>-</td>\n",
       "      <td>NaN</td>\n",
       "      <td>NaN</td>\n",
       "      <td>R4</td>\n",
       "      <td>NaN</td>\n",
       "      <td>2016-12-22 00:00:00</td>\n",
       "    </tr>\n",
       "    <tr>\n",
       "      <th>freq</th>\n",
       "      <td>NaN</td>\n",
       "      <td>NaN</td>\n",
       "      <td>1568</td>\n",
       "      <td>12787</td>\n",
       "      <td>25095</td>\n",
       "      <td>NaN</td>\n",
       "      <td>NaN</td>\n",
       "      <td>40196</td>\n",
       "      <td>9759</td>\n",
       "      <td>209</td>\n",
       "      <td>...</td>\n",
       "      <td>NaN</td>\n",
       "      <td>NaN</td>\n",
       "      <td>NaN</td>\n",
       "      <td>8488</td>\n",
       "      <td>8622</td>\n",
       "      <td>NaN</td>\n",
       "      <td>NaN</td>\n",
       "      <td>9760</td>\n",
       "      <td>NaN</td>\n",
       "      <td>261</td>\n",
       "    </tr>\n",
       "    <tr>\n",
       "      <th>mean</th>\n",
       "      <td>10119.045</td>\n",
       "      <td>3.178</td>\n",
       "      <td>NaN</td>\n",
       "      <td>NaN</td>\n",
       "      <td>NaN</td>\n",
       "      <td>4601.612</td>\n",
       "      <td>469.297</td>\n",
       "      <td>NaN</td>\n",
       "      <td>NaN</td>\n",
       "      <td>NaN</td>\n",
       "      <td>...</td>\n",
       "      <td>2.016</td>\n",
       "      <td>0.051</td>\n",
       "      <td>2.066</td>\n",
       "      <td>NaN</td>\n",
       "      <td>NaN</td>\n",
       "      <td>1832.338</td>\n",
       "      <td>1.354</td>\n",
       "      <td>NaN</td>\n",
       "      <td>1.186e+06</td>\n",
       "      <td>NaN</td>\n",
       "    </tr>\n",
       "    <tr>\n",
       "      <th>std</th>\n",
       "      <td>7377.235</td>\n",
       "      <td>1.254</td>\n",
       "      <td>NaN</td>\n",
       "      <td>NaN</td>\n",
       "      <td>NaN</td>\n",
       "      <td>3751.748</td>\n",
       "      <td>717.477</td>\n",
       "      <td>NaN</td>\n",
       "      <td>NaN</td>\n",
       "      <td>NaN</td>\n",
       "      <td>...</td>\n",
       "      <td>5.046</td>\n",
       "      <td>0.351</td>\n",
       "      <td>5.139</td>\n",
       "      <td>NaN</td>\n",
       "      <td>NaN</td>\n",
       "      <td>470.695</td>\n",
       "      <td>0.506</td>\n",
       "      <td>NaN</td>\n",
       "      <td>1.865e+06</td>\n",
       "      <td>NaN</td>\n",
       "    </tr>\n",
       "    <tr>\n",
       "      <th>min</th>\n",
       "      <td>4.000</td>\n",
       "      <td>1.000</td>\n",
       "      <td>NaN</td>\n",
       "      <td>NaN</td>\n",
       "      <td>NaN</td>\n",
       "      <td>1.000</td>\n",
       "      <td>1.000</td>\n",
       "      <td>NaN</td>\n",
       "      <td>NaN</td>\n",
       "      <td>NaN</td>\n",
       "      <td>...</td>\n",
       "      <td>1.000</td>\n",
       "      <td>0.000</td>\n",
       "      <td>1.000</td>\n",
       "      <td>NaN</td>\n",
       "      <td>NaN</td>\n",
       "      <td>0.000</td>\n",
       "      <td>1.000</td>\n",
       "      <td>NaN</td>\n",
       "      <td>1.000e+00</td>\n",
       "      <td>NaN</td>\n",
       "    </tr>\n",
       "    <tr>\n",
       "      <th>25%</th>\n",
       "      <td>3864.000</td>\n",
       "      <td>2.000</td>\n",
       "      <td>NaN</td>\n",
       "      <td>NaN</td>\n",
       "      <td>NaN</td>\n",
       "      <td>1438.000</td>\n",
       "      <td>28.000</td>\n",
       "      <td>NaN</td>\n",
       "      <td>NaN</td>\n",
       "      <td>NaN</td>\n",
       "      <td>...</td>\n",
       "      <td>1.000</td>\n",
       "      <td>0.000</td>\n",
       "      <td>1.000</td>\n",
       "      <td>NaN</td>\n",
       "      <td>NaN</td>\n",
       "      <td>1920.000</td>\n",
       "      <td>1.000</td>\n",
       "      <td>NaN</td>\n",
       "      <td>4.500e+05</td>\n",
       "      <td>NaN</td>\n",
       "    </tr>\n",
       "    <tr>\n",
       "      <th>50%</th>\n",
       "      <td>8217.500</td>\n",
       "      <td>3.000</td>\n",
       "      <td>NaN</td>\n",
       "      <td>NaN</td>\n",
       "      <td>NaN</td>\n",
       "      <td>3911.500</td>\n",
       "      <td>62.000</td>\n",
       "      <td>NaN</td>\n",
       "      <td>NaN</td>\n",
       "      <td>NaN</td>\n",
       "      <td>...</td>\n",
       "      <td>1.000</td>\n",
       "      <td>0.000</td>\n",
       "      <td>1.000</td>\n",
       "      <td>NaN</td>\n",
       "      <td>NaN</td>\n",
       "      <td>1935.000</td>\n",
       "      <td>1.000</td>\n",
       "      <td>NaN</td>\n",
       "      <td>6.900e+05</td>\n",
       "      <td>NaN</td>\n",
       "    </tr>\n",
       "    <tr>\n",
       "      <th>75%</th>\n",
       "      <td>15966.250</td>\n",
       "      <td>4.000</td>\n",
       "      <td>NaN</td>\n",
       "      <td>NaN</td>\n",
       "      <td>NaN</td>\n",
       "      <td>6720.250</td>\n",
       "      <td>1032.000</td>\n",
       "      <td>NaN</td>\n",
       "      <td>NaN</td>\n",
       "      <td>NaN</td>\n",
       "      <td>...</td>\n",
       "      <td>2.000</td>\n",
       "      <td>0.000</td>\n",
       "      <td>2.000</td>\n",
       "      <td>NaN</td>\n",
       "      <td>NaN</td>\n",
       "      <td>1986.000</td>\n",
       "      <td>2.000</td>\n",
       "      <td>NaN</td>\n",
       "      <td>1.125e+06</td>\n",
       "      <td>NaN</td>\n",
       "    </tr>\n",
       "    <tr>\n",
       "      <th>max</th>\n",
       "      <td>26671.000</td>\n",
       "      <td>5.000</td>\n",
       "      <td>NaN</td>\n",
       "      <td>NaN</td>\n",
       "      <td>NaN</td>\n",
       "      <td>16319.000</td>\n",
       "      <td>9106.000</td>\n",
       "      <td>NaN</td>\n",
       "      <td>NaN</td>\n",
       "      <td>NaN</td>\n",
       "      <td>...</td>\n",
       "      <td>193.000</td>\n",
       "      <td>25.000</td>\n",
       "      <td>193.000</td>\n",
       "      <td>NaN</td>\n",
       "      <td>NaN</td>\n",
       "      <td>2017.000</td>\n",
       "      <td>4.000</td>\n",
       "      <td>NaN</td>\n",
       "      <td>2.300e+07</td>\n",
       "      <td>NaN</td>\n",
       "    </tr>\n",
       "  </tbody>\n",
       "</table>\n",
       "<p>11 rows × 22 columns</p>\n",
       "</div>"
      ],
      "text/plain": [
       "        Unnamed: 0    BOROUGH    NEIGHBORHOOD  \\\n",
       "count    40196.000  40196.000           40196   \n",
       "unique         NaN        NaN             247   \n",
       "top            NaN        NaN  FLUSHING-NORTH   \n",
       "freq           NaN        NaN            1568   \n",
       "mean     10119.045      3.178             NaN   \n",
       "std       7377.235      1.254             NaN   \n",
       "min          4.000      1.000             NaN   \n",
       "25%       3864.000      2.000             NaN   \n",
       "50%       8217.500      3.000             NaN   \n",
       "75%      15966.250      4.000             NaN   \n",
       "max      26671.000      5.000             NaN   \n",
       "\n",
       "                            BUILDING CLASS CATEGORY TAX CLASS AT PRESENT  \\\n",
       "count                                         40196                40196   \n",
       "unique                                           30                    9   \n",
       "top     01 ONE FAMILY DWELLINGS                                        1   \n",
       "freq                                          12787                25095   \n",
       "mean                                            NaN                  NaN   \n",
       "std                                             NaN                  NaN   \n",
       "min                                             NaN                  NaN   \n",
       "25%                                             NaN                  NaN   \n",
       "50%                                             NaN                  NaN   \n",
       "75%                                             NaN                  NaN   \n",
       "max                                             NaN                  NaN   \n",
       "\n",
       "            BLOCK        LOT EASE-MENT BUILDING CLASS AT PRESENT  \\\n",
       "count   40196.000  40196.000     40196                     40196   \n",
       "unique        NaN        NaN         1                        72   \n",
       "top           NaN        NaN                                  R4   \n",
       "freq          NaN        NaN     40196                      9759   \n",
       "mean     4601.612    469.297       NaN                       NaN   \n",
       "std      3751.748    717.477       NaN                       NaN   \n",
       "min         1.000      1.000       NaN                       NaN   \n",
       "25%      1438.000     28.000       NaN                       NaN   \n",
       "50%      3911.500     62.000       NaN                       NaN   \n",
       "75%      6720.250   1032.000       NaN                       NaN   \n",
       "max     16319.000   9106.000       NaN                       NaN   \n",
       "\n",
       "                   ADDRESS  ... RESIDENTIAL UNITS  COMMERCIAL UNITS  \\\n",
       "count                40196  ...         40196.000         40196.000   \n",
       "unique               31576  ...               NaN               NaN   \n",
       "top     131-05 40TH   ROAD  ...               NaN               NaN   \n",
       "freq                   209  ...               NaN               NaN   \n",
       "mean                   NaN  ...             2.016             0.051   \n",
       "std                    NaN  ...             5.046             0.351   \n",
       "min                    NaN  ...             1.000             0.000   \n",
       "25%                    NaN  ...             1.000             0.000   \n",
       "50%                    NaN  ...             1.000             0.000   \n",
       "75%                    NaN  ...             2.000             0.000   \n",
       "max                    NaN  ...           193.000            25.000   \n",
       "\n",
       "        TOTAL UNITS  LAND SQUARE FEET  GROSS SQUARE FEET YEAR BUILT  \\\n",
       "count     40196.000             40196              40196  40196.000   \n",
       "unique          NaN              4107               3930        NaN   \n",
       "top             NaN               -                  -          NaN   \n",
       "freq            NaN              8488               8622        NaN   \n",
       "mean          2.066               NaN                NaN   1832.338   \n",
       "std           5.139               NaN                NaN    470.695   \n",
       "min           1.000               NaN                NaN      0.000   \n",
       "25%           1.000               NaN                NaN   1920.000   \n",
       "50%           1.000               NaN                NaN   1935.000   \n",
       "75%           2.000               NaN                NaN   1986.000   \n",
       "max         193.000               NaN                NaN   2017.000   \n",
       "\n",
       "       TAX CLASS AT TIME OF SALE  BUILDING CLASS AT TIME OF SALE  SALE PRICE  \\\n",
       "count                  40196.000                           40196   4.020e+04   \n",
       "unique                       NaN                              73         NaN   \n",
       "top                          NaN                              R4         NaN   \n",
       "freq                         NaN                            9760         NaN   \n",
       "mean                       1.354                             NaN   1.186e+06   \n",
       "std                        0.506                             NaN   1.865e+06   \n",
       "min                        1.000                             NaN   1.000e+00   \n",
       "25%                        1.000                             NaN   4.500e+05   \n",
       "50%                        1.000                             NaN   6.900e+05   \n",
       "75%                        2.000                             NaN   1.125e+06   \n",
       "max                        4.000                             NaN   2.300e+07   \n",
       "\n",
       "                  SALE DATE  \n",
       "count                 40196  \n",
       "unique                  332  \n",
       "top     2016-12-22 00:00:00  \n",
       "freq                    261  \n",
       "mean                    NaN  \n",
       "std                     NaN  \n",
       "min                     NaN  \n",
       "25%                     NaN  \n",
       "50%                     NaN  \n",
       "75%                     NaN  \n",
       "max                     NaN  \n",
       "\n",
       "[11 rows x 22 columns]"
      ]
     },
     "execution_count": 6,
     "metadata": {},
     "output_type": "execute_result"
    }
   ],
   "source": [
    "data.describe(include='all') "
   ]
  },
  {
   "cell_type": "code",
   "execution_count": 7,
   "metadata": {},
   "outputs": [],
   "source": [
    "data_origin = data"
   ]
  },
  {
   "cell_type": "markdown",
   "metadata": {},
   "source": [
    "## 1.2. Коэфф. корреляции"
   ]
  },
  {
   "cell_type": "code",
   "execution_count": 8,
   "metadata": {},
   "outputs": [],
   "source": [
    "corr_matrix_all = data.corr()"
   ]
  },
  {
   "cell_type": "code",
   "execution_count": 9,
   "metadata": {},
   "outputs": [
    {
     "data": {
      "image/png": "[encoded data removed]",
      "text/plain": [
       "<Figure size 144x288 with 2 Axes>"
      ]
     },
     "metadata": {
      "needs_background": "light"
     },
     "output_type": "display_data"
    }
   ],
   "source": [
    "# цветовая карта\n",
    "p = sns.diverging_palette(240, # HSV тон положительного\n",
    "                          0,   # HSV тон отрицательного\n",
    "                          s=80, # насыщенность.\n",
    "                          l=60, # яркость\n",
    "                          sep=20, # ширина центральной \"нечувствительной\" области\n",
    "                          n=6,\n",
    "                          center='light',\n",
    "                          as_cmap=True)\n",
    "\n",
    "plt.figure(figsize=(2,4))\n",
    "\n",
    "# выбор столбца матрицы корреляции с значениями для целевой переменной \n",
    "corr_sorted = corr_matrix_all[ target ] \\\n",
    "  .sort_values(target, axis=0, ascending=False) # сортировка значений\n",
    "\n",
    "# вывод в виде тепловой карты\n",
    "sns.heatmap(\n",
    "   data=corr_sorted,  # данные\n",
    "   cmap=p,  # цветовая карта\n",
    "   annot=True, # вывод значений\n",
    "   fmt=\".2f\", # формат вывода значений\n",
    "   vmin=-1, vmax=1, # граничные значения для цветовой карты \n",
    "   linewidths=.5, # расстояние между ячейками\n",
    ");"
   ]
  },
  {
   "cell_type": "markdown",
   "metadata": {},
   "source": [
    "# 2. Модель нечеткой логики"
   ]
  },
  {
   "cell_type": "markdown",
   "metadata": {},
   "source": [
    "## 2.1 Описание"
   ]
  },
  {
   "cell_type": "markdown",
   "metadata": {},
   "source": [
    "Определим граничные значения диапазонов для выбранных независимых признаков и целевой переменной."
   ]
  },
  {
   "cell_type": "code",
   "execution_count": 10,
   "metadata": {},
   "outputs": [
    {
     "data": {
      "text/html": [
       "<div>\n",
       "<style scoped>\n",
       "    .dataframe tbody tr th:only-of-type {\n",
       "        vertical-align: middle;\n",
       "    }\n",
       "\n",
       "    .dataframe tbody tr th {\n",
       "        vertical-align: top;\n",
       "    }\n",
       "\n",
       "    .dataframe thead th {\n",
       "        text-align: right;\n",
       "    }\n",
       "</style>\n",
       "<table border=\"1\" class=\"dataframe\">\n",
       "  <thead>\n",
       "    <tr style=\"text-align: right;\">\n",
       "      <th></th>\n",
       "      <th>min</th>\n",
       "      <th>max</th>\n",
       "    </tr>\n",
       "  </thead>\n",
       "  <tbody>\n",
       "    <tr>\n",
       "      <th>RESIDENTIAL UNITS</th>\n",
       "      <td>1</td>\n",
       "      <td>193</td>\n",
       "    </tr>\n",
       "    <tr>\n",
       "      <th>TAX CLASS AT TIME OF SALE</th>\n",
       "      <td>1</td>\n",
       "      <td>4</td>\n",
       "    </tr>\n",
       "    <tr>\n",
       "      <th>SALE PRICE</th>\n",
       "      <td>1</td>\n",
       "      <td>23000000</td>\n",
       "    </tr>\n",
       "  </tbody>\n",
       "</table>\n",
       "</div>"
      ],
      "text/plain": [
       "                           min       max\n",
       "RESIDENTIAL UNITS            1       193\n",
       "TAX CLASS AT TIME OF SALE    1         4\n",
       "SALE PRICE                   1  23000000"
      ]
     },
     "execution_count": 10,
     "metadata": {},
     "output_type": "execute_result"
    }
   ],
   "source": [
    "pd.concat( [ \n",
    "        data[features+target].min(),\n",
    "        data[features+target].max(),\n",
    "    ],\n",
    "    axis=1,\n",
    "    keys=['min', 'max'])"
   ]
  },
  {
   "cell_type": "markdown",
   "metadata": {},
   "source": [
    "## 2.2. Формирование базового набора ЛП"
   ]
  },
  {
   "cell_type": "code",
   "execution_count": 11,
   "metadata": {},
   "outputs": [
    {
     "name": "stdout",
     "output_type": "stream",
     "text": [
      "Входные (Antecedent - посылка)\n",
      "  RESIDENTIAL UNITS - Универс: [1, 193]\n",
      "  TAX CLASS AT TIME OF SALE - Универс: [1, 4]\n",
      "\n",
      "Выходные (Consequent - заключение)\n",
      "  SALE PRICE - Универс: [1, 23000000]\n"
     ]
    }
   ],
   "source": [
    "print \"Входные (Antecedent - посылка)\"\n",
    "for i in range(0, len(features)):\n",
    "    print \"  {} - Универс: [{}, {}]\".format(features[i], data[features].min()[i], data[features].max()[i])\n",
    "print \"\"   \n",
    "print \"Выходные (Consequent - заключение)\"\n",
    "print \"  {} - Универс: [{}, {}]\".format(target[0], data[target].min()[0], data[target].max()[0])"
   ]
  },
  {
   "cell_type": "code",
   "execution_count": 12,
   "metadata": {},
   "outputs": [],
   "source": [
    "# посылка - RESIDENTIAL UNITS [1, 193]\n",
    "residential_un = np.arange(1, 193+1, 1)\n",
    "lv_residential = ctrl.Antecedent(residential_un, \"RESIDENTIAL UNITS\")\n",
    "\n",
    "# посылка - TAX CLASS AT TIME OF SALE  [1, 4]\n",
    "tax_un = np.arange(1, 4+1, 1)\n",
    "lv_tax = ctrl.Antecedent(tax_un, \"TAX CLASS AT TIME OF SALE\")\n",
    "\n",
    "# заключение - SALE PRICE [1, 23000000]\n",
    "price_un = np.arange(0,  23000000+1, 1000)\n",
    "lv_price = ctrl.Consequent(price_un, \"SALE PRICE\")"
   ]
  },
  {
   "cell_type": "code",
   "execution_count": 13,
   "metadata": {},
   "outputs": [
    {
     "name": "stdout",
     "output_type": "stream",
     "text": [
      "* 193 RESIDENTIAL UNITS [  1   2   3   4   5   6   7   8   9  10  11  12  13  14  15  16  17  18\n",
      "  19  20  21  22  23  24  25  26  27  28  29  30  31  32  33  34  35  36\n",
      "  37  38  39  40  41  42  43  44  45  46  47  48  49  50  51  52  53  54\n",
      "  55  56  57  58  59  60  61  62  63  64  65  66  67  68  69  70  71  72\n",
      "  73  74  75  76  77  78  79  80  81  82  83  84  85  86  87  88  89  90\n",
      "  91  92  93  94  95  96  97  98  99 100 101 102 103 104 105 106 107 108\n",
      " 109 110 111 112 113 114 115 116 117 118 119 120 121 122 123 124 125 126\n",
      " 127 128 129 130 131 132 133 134 135 136 137 138 139 140 141 142 143 144\n",
      " 145 146 147 148 149 150 151 152 153 154 155 156 157 158 159 160 161 162\n",
      " 163 164 165 166 167 168 169 170 171 172 173 174 175 176 177 178 179 180\n",
      " 181 182 183 184 185 186 187 188 189 190 191 192 193]\n",
      "* 4 TAX CLASS AT TIME OF SALE [1 2 3 4]\n",
      "* 23001 SALE PRICE [       0     1000     2000 ... 22998000 22999000 23000000]\n"
     ]
    }
   ],
   "source": [
    "print \"*\", len(lv_residential.universe),     lv_residential.label,     lv_residential.universe\n",
    "print \"*\", len(lv_tax.universe),     lv_tax.label,     lv_tax.universe\n",
    "print \"*\", len(lv_price.universe),     lv_price.label,     lv_price.universe"
   ]
  },
  {
   "cell_type": "markdown",
   "metadata": {},
   "source": [
    "## 2.3. Формирование базовых терм-множеств"
   ]
  },
  {
   "cell_type": "markdown",
   "metadata": {},
   "source": [
    "### 2.3.2. Формирование терм-множеств"
   ]
  },
  {
   "cell_type": "markdown",
   "metadata": {},
   "source": [
    "## Итерация 1"
   ]
  },
  {
   "cell_type": "code",
   "execution_count": 14,
   "metadata": {},
   "outputs": [
    {
     "name": "stderr",
     "output_type": "stream",
     "text": [
      "/usr/local/lib/python2.7/dist-packages/matplotlib/figure.py:457: UserWarning: matplotlib is currently using a non-GUI backend, so cannot show the figure\n",
      "  \"matplotlib is currently using a non-GUI backend, \"\n"
     ]
    },
    {
     "data": {
      "image/png": "[encoded data removed]",
      "text/plain": [
       "<Figure size 432x288 with 1 Axes>"
      ]
     },
     "metadata": {
      "needs_background": "light"
     },
     "output_type": "display_data"
    }
   ],
   "source": [
    "#RESIDENTIAL UNITS\n",
    "lv_residential[\"small\"] = fuzz.gaussmf(lv_residential.universe, 1, 40)\n",
    "lv_residential[\"mid\"] = fuzz.gaussmf(lv_residential.universe, 100, 25)\n",
    "lv_residential[\"big\"] = fuzz.smf(lv_residential.universe,90, 193)\n",
    "lv_residential.view()"
   ]
  },
  {
   "cell_type": "code",
   "execution_count": 15,
   "metadata": {},
   "outputs": [
    {
     "data": {
      "image/png": "[encoded data removed]",
      "text/plain": [
       "<Figure size 432x288 with 1 Axes>"
      ]
     },
     "metadata": {
      "needs_background": "light"
     },
     "output_type": "display_data"
    }
   ],
   "source": [
    "#TAX CLASS AT TIME OF SALE\n",
    "lv_tax[\"low\"] = fuzz.zmf(lv_tax.universe, 1, 2)\n",
    "lv_tax[\"mid\"] = fuzz.trapmf(lv_tax.universe,[ 1, 2, 3, 4])\n",
    "lv_tax[\"high\"] = fuzz.trapmf(lv_tax.universe,[3, 4, 4 ,4])\n",
    "lv_tax.view()"
   ]
  },
  {
   "cell_type": "code",
   "execution_count": 16,
   "metadata": {},
   "outputs": [
    {
     "data": {
      "image/png": "[encoded data removed]",
      "text/plain": [
       "<Figure size 432x288 with 1 Axes>"
      ]
     },
     "metadata": {
      "needs_background": "light"
     },
     "output_type": "display_data"
    }
   ],
   "source": [
    "#SALE PRICE\n",
    "lv_price[\"low\"] = fuzz.zmf(lv_price.universe, 0, 2500000)\n",
    "lv_price[\"mid\"] = fuzz.pimf(lv_price.universe, 1000000,2000000, 3000000, 10000000)\n",
    "lv_price[\"high\"] = fuzz.smf(lv_price.universe, 1000000, 7000000)\n",
    "lv_price.view()"
   ]
  },
  {
   "cell_type": "markdown",
   "metadata": {},
   "source": [
    "## 2.4. Формирование нечеткой базы знаний"
   ]
  },
  {
   "cell_type": "code",
   "execution_count": 17,
   "metadata": {},
   "outputs": [],
   "source": [
    "#1) ЕСЛИ () ИЛИ (), ТО ().\n",
    "rule_1 = ctrl.Rule(\n",
    "lv_residential[\"small\"] & lv_tax[\"low\"] ,\n",
    "lv_price[\"low\"],\n",
    "\"firstRule\")"
   ]
  },
  {
   "cell_type": "code",
   "execution_count": 18,
   "metadata": {},
   "outputs": [],
   "source": [
    "#2) ЕСЛИ () ИЛИ (), ТО ().\n",
    "rule_2 = ctrl.Rule(\n",
    "lv_residential[\"small\"] & lv_tax[\"mid\"] ,\n",
    "lv_price[\"low\"],\n",
    "\"secondRule\")"
   ]
  },
  {
   "cell_type": "code",
   "execution_count": 19,
   "metadata": {},
   "outputs": [],
   "source": [
    "#3) ЕСЛИ () ИЛИ (), ТО ().\n",
    "rule_3 = ctrl.Rule(\n",
    "lv_residential[\"mid\"] & lv_tax[\"mid\"] ,\n",
    "lv_price[\"mid\"],\n",
    "\"thirdRule\")"
   ]
  },
  {
   "cell_type": "code",
   "execution_count": 20,
   "metadata": {},
   "outputs": [],
   "source": [
    "#4) ЕСЛИ () ИЛИ (), ТО ().\n",
    "rule_4 = ctrl.Rule(\n",
    "lv_residential[\"mid\"] & lv_tax[\"high\"] ,\n",
    "lv_price[\"mid\"],\n",
    "\"fourthRule\")"
   ]
  },
  {
   "cell_type": "code",
   "execution_count": 21,
   "metadata": {},
   "outputs": [],
   "source": [
    "#5) ЕСЛИ () ИЛИ (), ТО ().\n",
    "rule_5 = ctrl.Rule(\n",
    "lv_residential[\"big\"] & lv_tax[\"mid\"] ,\n",
    "lv_price[\"mid\"],\n",
    "\"fifthRule\")"
   ]
  },
  {
   "cell_type": "code",
   "execution_count": 22,
   "metadata": {},
   "outputs": [],
   "source": [
    "#6) ЕСЛИ () ИЛИ (), ТО ().\n",
    "rule_6 = ctrl.Rule(\n",
    "lv_residential[\"small\"] & lv_tax[\"high\"] ,\n",
    "lv_price[\"mid\"],\n",
    "\"sixthRule\")"
   ]
  },
  {
   "cell_type": "code",
   "execution_count": 23,
   "metadata": {},
   "outputs": [],
   "source": [
    "#7) ЕСЛИ () ИЛИ (), ТО ().\n",
    "rule_7 = ctrl.Rule(\n",
    "lv_residential[\"mid\"] & lv_tax[\"low\"] ,\n",
    "lv_price[\"low\"],\n",
    "\"seventhRule\")"
   ]
  },
  {
   "cell_type": "code",
   "execution_count": 24,
   "metadata": {},
   "outputs": [],
   "source": [
    "#8) ЕСЛИ () ИЛИ (), ТО ().\n",
    "rule_8 = ctrl.Rule(\n",
    "lv_residential[\"big\"] & lv_tax[\"low\"] ,\n",
    "lv_price[\"high\"],\n",
    "\"eighthRule\")"
   ]
  },
  {
   "cell_type": "code",
   "execution_count": 25,
   "metadata": {},
   "outputs": [],
   "source": [
    "#9) ЕСЛИ () ИЛИ (), ТО ().\n",
    "rule_9 = ctrl.Rule(\n",
    "lv_residential[\"big\"] & lv_tax[\"high\"] ,\n",
    "lv_price[\"high\"],\n",
    "\"ninthRule\")"
   ]
  },
  {
   "cell_type": "markdown",
   "metadata": {},
   "source": [
    "## 2.5. Тестирование нечеткой базы знаний"
   ]
  },
  {
   "cell_type": "markdown",
   "metadata": {},
   "source": [
    "### 2.5.1. Этап подготовки"
   ]
  },
  {
   "cell_type": "code",
   "execution_count": 26,
   "metadata": {},
   "outputs": [],
   "source": [
    "price_ctrl = ctrl.ControlSystem([rule_1, rule_2, rule_3, rule_4, rule_5, rule_6, rule_7, rule_8, rule_9])\n",
    "price_SIM = ctrl.ControlSystemSimulation(price_ctrl)"
   ]
  },
  {
   "cell_type": "code",
   "execution_count": 27,
   "metadata": {},
   "outputs": [],
   "source": [
    "# Создадим функцию для вывода степени вероятности принадлежности переданного значения\n",
    "def printTerm(lingVal, value):\n",
    "    print \"\\n  {:>10} = {:>10}\".format(lingVal.label, value[0]),\n",
    "    for term in lingVal.terms:\n",
    "        print \"{} {:>7} {:.2f},\".format(\" \", term, fuzz.interp_membership( lingVal.universe, lingVal[term].mf,   value[0])),"
   ]
  },
  {
   "cell_type": "markdown",
   "metadata": {},
   "source": [
    "Сформируем тестовое множество"
   ]
  },
  {
   "cell_type": "code",
   "execution_count": 28,
   "metadata": {},
   "outputs": [
    {
     "name": "stdout",
     "output_type": "stream",
     "text": [
      "Кол-во элементов: \n",
      "  x_train: 28137, y_train 28137 \n",
      "  x_test:  12059, y_test  12059 \n",
      "  total x: 40196, total y 40196 \n"
     ]
    }
   ],
   "source": [
    "valid_size = 0.3 # доля тестовой части в выборке\n",
    "rand_seed = 8 # начальное состояние генератора случ. чисел\n",
    "\n",
    "x_train, x_test, y_train, y_test =  train_test_split(\n",
    "    data[features], data[target], # исходные данные\n",
    "    test_size = valid_size, \n",
    "    random_state=rand_seed, \n",
    "    shuffle=True # перемешивание\n",
    ") \n",
    "print \"Кол-во элементов: \\n  x_train: {}, y_train {} \\n  x_test:  {}, y_test  {} \\n  total x: {}, total y {} \".format  (\n",
    "    len(x_train), len(y_train),\n",
    "    len(x_test),  len(x_test), \n",
    "    len(x_train)+len(x_test), len(y_train)+len(x_test),\n",
    ")"
   ]
  },
  {
   "cell_type": "markdown",
   "metadata": {},
   "source": [
    "### 2.5.2. Проверка работы модели"
   ]
  },
  {
   "cell_type": "code",
   "execution_count": 29,
   "metadata": {},
   "outputs": [
    {
     "name": "stdout",
     "output_type": "stream",
     "text": [
      "Вывод значений проверочной части данных\n",
      "1, 2; y:1055000\n",
      "1, 1; y:800000\n"
     ]
    }
   ],
   "source": [
    "print \"Вывод значений проверочной части данных\"\n",
    "start_index = 0\n",
    "stop_index = 2\n",
    "for i in range(start_index, stop_index):\n",
    "    print \"{}, {}; y:{}\".format(\n",
    "    x_test[features].iloc[i][0],\n",
    "    x_test[features].iloc[i][1],y_test.iloc[i][0] )"
   ]
  },
  {
   "cell_type": "code",
   "execution_count": 30,
   "metadata": {},
   "outputs": [
    {
     "name": "stdout",
     "output_type": "stream",
     "text": [
      "Степень принадлежности значений к каждому терму: \n",
      "  RESIDENTIAL UNITS =          1     small 1.00,       mid 0.00,       big 0.00, \n",
      "  TAX CLASS AT TIME OF SALE =          2       low 0.00,       mid 1.00,      high 0.00,\n"
     ]
    }
   ],
   "source": [
    "in_residential = [1]\n",
    "in_tax = [2]\n",
    "\n",
    "price_SIM.input['RESIDENTIAL UNITS'] = in_residential \n",
    "price_SIM.input['TAX CLASS AT TIME OF SALE'] = in_tax\n",
    "\n",
    "print \"Степень принадлежности значений к каждому терму:\",\n",
    "printTerm(lv_residential, in_residential)\n",
    "printTerm(lv_tax, in_tax)"
   ]
  },
  {
   "cell_type": "code",
   "execution_count": 31,
   "metadata": {},
   "outputs": [
    {
     "name": "stdout",
     "output_type": "stream",
     "text": [
      "calc=741,989.26, real= 800,000.00  delta=-58,010.74\n"
     ]
    }
   ],
   "source": [
    "# Вычисление\n",
    "price_SIM.compute()\n",
    "\n",
    "# Вывод результата\n",
    "print \"calc={:,.2f}, real= {:,.2f}  delta={:,.2f}\".format (price_SIM.output['SALE PRICE'], y_test.iloc[1][0], (price_SIM.output['SALE PRICE'] - y_test.iloc[1][0]))"
   ]
  },
  {
   "cell_type": "code",
   "execution_count": 32,
   "metadata": {},
   "outputs": [
    {
     "data": {
      "image/png": "[encoded data removed]",
      "text/plain": [
       "<Figure size 432x288 with 1 Axes>"
      ]
     },
     "metadata": {
      "needs_background": "light"
     },
     "output_type": "display_data"
    },
    {
     "data": {
      "image/png": "[encoded data removed]",
      "text/plain": [
       "<Figure size 432x288 with 1 Axes>"
      ]
     },
     "metadata": {
      "needs_background": "light"
     },
     "output_type": "display_data"
    }
   ],
   "source": [
    "lv_residential.view(sim=price_SIM)\n",
    "lv_tax.view(sim=price_SIM)"
   ]
  },
  {
   "cell_type": "markdown",
   "metadata": {},
   "source": [
    "Проанализируем ход получения результата"
   ]
  },
  {
   "cell_type": "code",
   "execution_count": 33,
   "metadata": {},
   "outputs": [
    {
     "name": "stdout",
     "output_type": "stream",
     "text": [
      "=============\n",
      " Antecedents \n",
      "=============\n",
      "Antecedent: RESIDENTIAL UNITS       = [1]\n",
      "  - small                           : [1.]\n",
      "  - mid                             : [0.00039335]\n",
      "  - big                             : [0.]\n",
      "Antecedent: TAX CLASS AT TIME OF SALE = [2]\n",
      "  - low                             : [0.]\n",
      "  - mid                             : [1.]\n",
      "  - high                            : [0.]\n",
      "\n",
      "=======\n",
      " Rules \n",
      "=======\n",
      "RULE #0:\n",
      "  IF RESIDENTIAL UNITS[small] AND TAX CLASS AT TIME OF SALE[mid] THEN SALE PRICE[low]\n",
      "\tAND aggregation function : fmin\n",
      "\tOR aggregation function  : fmax\n",
      "\n",
      "  Aggregation (IF-clause):\n",
      "  - RESIDENTIAL UNITS[small]                               : [1.]\n",
      "  - TAX CLASS AT TIME OF SALE[mid]                         : [1.]\n",
      "    RESIDENTIAL UNITS[small] AND TAX CLASS AT TIME OF SALE[mid] = [1.]\n",
      "  Activation (THEN-clause):\n",
      "                                           SALE PRICE[low] : [1.]\n",
      "\n",
      "RULE #1:\n",
      "  IF RESIDENTIAL UNITS[big] AND TAX CLASS AT TIME OF SALE[mid] THEN SALE PRICE[mid]\n",
      "\tAND aggregation function : fmin\n",
      "\tOR aggregation function  : fmax\n",
      "\n",
      "  Aggregation (IF-clause):\n",
      "  - RESIDENTIAL UNITS[big]                                 : [0.]\n",
      "  - TAX CLASS AT TIME OF SALE[mid]                         : [1.]\n",
      "    RESIDENTIAL UNITS[big] AND TAX CLASS AT TIME OF SALE[mid] = [0.]\n",
      "  Activation (THEN-clause):\n",
      "                                           SALE PRICE[mid] : [0.]\n",
      "\n",
      "RULE #2:\n",
      "  IF RESIDENTIAL UNITS[small] AND TAX CLASS AT TIME OF SALE[low] THEN SALE PRICE[low]\n",
      "\tAND aggregation function : fmin\n",
      "\tOR aggregation function  : fmax\n",
      "\n",
      "  Aggregation (IF-clause):\n",
      "  - RESIDENTIAL UNITS[small]                               : [1.]\n",
      "  - TAX CLASS AT TIME OF SALE[low]                         : [0.]\n",
      "    RESIDENTIAL UNITS[small] AND TAX CLASS AT TIME OF SALE[low] = [0.]\n",
      "  Activation (THEN-clause):\n",
      "                                           SALE PRICE[low] : [0.]\n",
      "\n",
      "RULE #3:\n",
      "  IF RESIDENTIAL UNITS[big] AND TAX CLASS AT TIME OF SALE[low] THEN SALE PRICE[high]\n",
      "\tAND aggregation function : fmin\n",
      "\tOR aggregation function  : fmax\n",
      "\n",
      "  Aggregation (IF-clause):\n",
      "  - RESIDENTIAL UNITS[big]                                 : [0.]\n",
      "  - TAX CLASS AT TIME OF SALE[low]                         : [0.]\n",
      "    RESIDENTIAL UNITS[big] AND TAX CLASS AT TIME OF SALE[low] = [0.]\n",
      "  Activation (THEN-clause):\n",
      "                                          SALE PRICE[high] : [0.]\n",
      "\n",
      "RULE #4:\n",
      "  IF RESIDENTIAL UNITS[mid] AND TAX CLASS AT TIME OF SALE[low] THEN SALE PRICE[low]\n",
      "\tAND aggregation function : fmin\n",
      "\tOR aggregation function  : fmax\n",
      "\n",
      "  Aggregation (IF-clause):\n",
      "  - RESIDENTIAL UNITS[mid]                                 : [0.00039335]\n",
      "  - TAX CLASS AT TIME OF SALE[low]                         : [0.]\n",
      "    RESIDENTIAL UNITS[mid] AND TAX CLASS AT TIME OF SALE[low] = [0.]\n",
      "  Activation (THEN-clause):\n",
      "                                           SALE PRICE[low] : [0.]\n",
      "\n",
      "RULE #5:\n",
      "  IF RESIDENTIAL UNITS[small] AND TAX CLASS AT TIME OF SALE[high] THEN SALE PRICE[mid]\n",
      "\tAND aggregation function : fmin\n",
      "\tOR aggregation function  : fmax\n",
      "\n",
      "  Aggregation (IF-clause):\n",
      "  - RESIDENTIAL UNITS[small]                               : [1.]\n",
      "  - TAX CLASS AT TIME OF SALE[high]                        : [0.]\n",
      "    RESIDENTIAL UNITS[small] AND TAX CLASS AT TIME OF SALE[high] = [0.]\n",
      "  Activation (THEN-clause):\n",
      "                                           SALE PRICE[mid] : [0.]\n",
      "\n",
      "RULE #6:\n",
      "  IF RESIDENTIAL UNITS[big] AND TAX CLASS AT TIME OF SALE[high] THEN SALE PRICE[high]\n",
      "\tAND aggregation function : fmin\n",
      "\tOR aggregation function  : fmax\n",
      "\n",
      "  Aggregation (IF-clause):\n",
      "  - RESIDENTIAL UNITS[big]                                 : [0.]\n",
      "  - TAX CLASS AT TIME OF SALE[high]                        : [0.]\n",
      "    RESIDENTIAL UNITS[big] AND TAX CLASS AT TIME OF SALE[high] = [0.]\n",
      "  Activation (THEN-clause):\n",
      "                                          SALE PRICE[high] : [0.]\n",
      "\n",
      "RULE #7:\n",
      "  IF RESIDENTIAL UNITS[mid] AND TAX CLASS AT TIME OF SALE[high] THEN SALE PRICE[mid]\n",
      "\tAND aggregation function : fmin\n",
      "\tOR aggregation function  : fmax\n",
      "\n",
      "  Aggregation (IF-clause):\n",
      "  - RESIDENTIAL UNITS[mid]                                 : [0.00039335]\n",
      "  - TAX CLASS AT TIME OF SALE[high]                        : [0.]\n",
      "    RESIDENTIAL UNITS[mid] AND TAX CLASS AT TIME OF SALE[high] = [0.]\n",
      "  Activation (THEN-clause):\n",
      "                                           SALE PRICE[mid] : [0.]\n",
      "\n",
      "RULE #8:\n",
      "  IF RESIDENTIAL UNITS[mid] AND TAX CLASS AT TIME OF SALE[mid] THEN SALE PRICE[mid]\n",
      "\tAND aggregation function : fmin\n",
      "\tOR aggregation function  : fmax\n",
      "\n",
      "  Aggregation (IF-clause):\n",
      "  - RESIDENTIAL UNITS[mid]                                 : [0.00039335]\n",
      "  - TAX CLASS AT TIME OF SALE[mid]                         : [1.]\n",
      "    RESIDENTIAL UNITS[mid] AND TAX CLASS AT TIME OF SALE[mid] = [0.00039335]\n",
      "  Activation (THEN-clause):\n",
      "                                           SALE PRICE[mid] : [0.00039335]\n",
      "\n",
      "\n",
      "==============================\n",
      " Intermediaries and Conquests \n",
      "==============================\n",
      "Consequent: SALE PRICE               = 741989.257798\n",
      "  low:\n",
      "    Accumulate using accumulation_max : [1.]\n",
      "  mid:\n",
      "    Accumulate using accumulation_max : [0.00039335]\n",
      "  high:\n",
      "    Accumulate using accumulation_max : [0.]\n",
      "\n"
     ]
    }
   ],
   "source": [
    "price_SIM.print_state()"
   ]
  },
  {
   "cell_type": "code",
   "execution_count": 34,
   "metadata": {},
   "outputs": [
    {
     "data": {
      "image/png": "[encoded data removed]",
      "text/plain": [
       "<Figure size 432x288 with 1 Axes>"
      ]
     },
     "metadata": {
      "needs_background": "light"
     },
     "output_type": "display_data"
    }
   ],
   "source": [
    "lv_price.view(sim=price_SIM)"
   ]
  },
  {
   "cell_type": "markdown",
   "metadata": {},
   "source": [
    "### 2.5.3. Проверка работы модели на проверочной части выборки"
   ]
  },
  {
   "cell_type": "code",
   "execution_count": 35,
   "metadata": {},
   "outputs": [
    {
     "name": "stdout",
     "output_type": "stream",
     "text": [
      "row 105 Степень принадлежности значений к каждому терму: \n",
      "  RESIDENTIAL UNITS =          1     small 1.00,       mid 0.00,       big 0.00, \n",
      "  TAX CLASS AT TIME OF SALE =          1       low 1.00,       mid 0.00,      high 0.00, \n",
      "SALE PRICE calc=729166.73, true=725000.00\n",
      "\n",
      "row 106 Степень принадлежности значений к каждому терму: \n",
      "  RESIDENTIAL UNITS =          1     small 1.00,       mid 0.00,       big 0.00, \n",
      "  TAX CLASS AT TIME OF SALE =          2       low 0.00,       mid 1.00,      high 0.00, \n",
      "SALE PRICE calc=741989.26, true=1257538.00\n",
      "\n",
      "row 107 Степень принадлежности значений к каждому терму: \n",
      "  RESIDENTIAL UNITS =          1     small 1.00,       mid 0.00,       big 0.00, \n",
      "  TAX CLASS AT TIME OF SALE =          2       low 0.00,       mid 1.00,      high 0.00, \n",
      "SALE PRICE calc=741989.26, true=1675021.00\n",
      "\n",
      "row 108 Степень принадлежности значений к каждому терму: \n",
      "  RESIDENTIAL UNITS =          1     small 1.00,       mid 0.00,       big 0.00, \n",
      "  TAX CLASS AT TIME OF SALE =          2       low 0.00,       mid 1.00,      high 0.00, \n",
      "SALE PRICE calc=741989.26, true=8858775.00\n",
      "\n",
      "row 109 Степень принадлежности значений к каждому терму: \n",
      "  RESIDENTIAL UNITS =          2     small 1.00,       mid 0.00,       big 0.00, \n",
      "  TAX CLASS AT TIME OF SALE =          1       low 1.00,       mid 0.00,      high 0.00, \n",
      "SALE PRICE calc=729170.47, true=645000.00\n",
      "\n",
      "row 110 Степень принадлежности значений к каждому терму: \n",
      "  RESIDENTIAL UNITS =          1     small 1.00,       mid 0.00,       big 0.00, \n",
      "  TAX CLASS AT TIME OF SALE =          1       low 1.00,       mid 0.00,      high 0.00, \n",
      "SALE PRICE calc=729166.73, true=467300.00\n",
      "\n",
      "row 111 Степень принадлежности значений к каждому терму: \n",
      "  RESIDENTIAL UNITS =          1     small 1.00,       mid 0.00,       big 0.00, \n",
      "  TAX CLASS AT TIME OF SALE =          1       low 1.00,       mid 0.00,      high 0.00, \n",
      "SALE PRICE calc=729166.73, true=390000.00\n",
      "\n",
      "row 112 Степень принадлежности значений к каждому терму: \n",
      "  RESIDENTIAL UNITS =          3     small 1.00,       mid 0.00,       big 0.00, \n",
      "  TAX CLASS AT TIME OF SALE =          1       low 1.00,       mid 0.00,      high 0.00, \n",
      "SALE PRICE calc=729196.11, true=1300000.00\n",
      "\n",
      "row 113 Степень принадлежности значений к каждому терму: \n",
      "  RESIDENTIAL UNITS =          2     small 1.00,       mid 0.00,       big 0.00, \n",
      "  TAX CLASS AT TIME OF SALE =          1       low 1.00,       mid 0.00,      high 0.00, \n",
      "SALE PRICE calc=729170.47, true=1225000.00\n",
      "\n",
      "row 114 Степень принадлежности значений к каждому терму: \n",
      "  RESIDENTIAL UNITS =          3     small 1.00,       mid 0.00,       big 0.00, \n",
      "  TAX CLASS AT TIME OF SALE =          1       low 1.00,       mid 0.00,      high 0.00, \n",
      "SALE PRICE calc=729196.11, true=2400000.00\n",
      "\n",
      "row 115 Степень принадлежности значений к каждому терму: \n",
      "  RESIDENTIAL UNITS =          1     small 1.00,       mid 0.00,       big 0.00, \n",
      "  TAX CLASS AT TIME OF SALE =          2       low 0.00,       mid 1.00,      high 0.00, \n",
      "SALE PRICE calc=741989.26, true=465000.00\n",
      "\n",
      "row 116 Степень принадлежности значений к каждому терму: \n",
      "  RESIDENTIAL UNITS =          1     small 1.00,       mid 0.00,       big 0.00, \n",
      "  TAX CLASS AT TIME OF SALE =          1       low 1.00,       mid 0.00,      high 0.00, \n",
      "SALE PRICE calc=729166.73, true=1185000.00\n",
      "\n",
      "row 117 Степень принадлежности значений к каждому терму: \n",
      "  RESIDENTIAL UNITS =          1     small 1.00,       mid 0.00,       big 0.00, \n",
      "  TAX CLASS AT TIME OF SALE =          1       low 1.00,       mid 0.00,      high 0.00, \n",
      "SALE PRICE calc=729166.73, true=456000.00\n",
      "\n",
      "row 118 Степень принадлежности значений к каждому терму: \n",
      "  RESIDENTIAL UNITS =          1     small 1.00,       mid 0.00,       big 0.00, \n",
      "  TAX CLASS AT TIME OF SALE =          1       low 1.00,       mid 0.00,      high 0.00, \n",
      "SALE PRICE calc=729166.73, true=430000.00\n",
      "\n",
      "row 119 Степень принадлежности значений к каждому терму: \n",
      "  RESIDENTIAL UNITS =          1     small 1.00,       mid 0.00,       big 0.00, \n",
      "  TAX CLASS AT TIME OF SALE =          1       low 1.00,       mid 0.00,      high 0.00, \n",
      "SALE PRICE calc=729166.73, true=395000.00\n",
      "\n",
      "row 120 Степень принадлежности значений к каждому терму: \n",
      "  RESIDENTIAL UNITS =          2     small 1.00,       mid 0.00,       big 0.00, \n",
      "  TAX CLASS AT TIME OF SALE =          1       low 1.00,       mid 0.00,      high 0.00, \n",
      "SALE PRICE calc=729170.47, true=100.00\n",
      "\n",
      "row 121 Степень принадлежности значений к каждому терму: \n",
      "  RESIDENTIAL UNITS =          1     small 1.00,       mid 0.00,       big 0.00, \n",
      "  TAX CLASS AT TIME OF SALE =          1       low 1.00,       mid 0.00,      high 0.00, \n",
      "SALE PRICE calc=729166.73, true=660000.00\n",
      "\n",
      "row 122 Степень принадлежности значений к каждому терму: \n",
      "  RESIDENTIAL UNITS =          1     small 1.00,       mid 0.00,       big 0.00, \n",
      "  TAX CLASS AT TIME OF SALE =          1       low 1.00,       mid 0.00,      high 0.00, \n",
      "SALE PRICE calc=729166.73, true=1083500.00\n",
      "\n",
      "row 123 Степень принадлежности значений к каждому терму: \n",
      "  RESIDENTIAL UNITS =          1     small 1.00,       mid 0.00,       big 0.00, \n",
      "  TAX CLASS AT TIME OF SALE =          2       low 0.00,       mid 1.00,      high 0.00, \n",
      "SALE PRICE calc=741989.26, true=885000.00\n",
      "\n",
      "row 124 Степень принадлежности значений к каждому терму: \n",
      "  RESIDENTIAL UNITS =          1     small 1.00,       mid 0.00,       big 0.00, \n",
      "  TAX CLASS AT TIME OF SALE =          2       low 0.00,       mid 1.00,      high 0.00, \n",
      "SALE PRICE calc=741989.26, true=1476462.00\n",
      "\n",
      "row 125 Степень принадлежности значений к каждому терму: \n",
      "  RESIDENTIAL UNITS =          1     small 1.00,       mid 0.00,       big 0.00, \n",
      "  TAX CLASS AT TIME OF SALE =          1       low 1.00,       mid 0.00,      high 0.00, \n",
      "SALE PRICE calc=729166.73, true=970000.00\n",
      "\n",
      "row 126 Степень принадлежности значений к каждому терму: \n",
      "  RESIDENTIAL UNITS =          2     small 1.00,       mid 0.00,       big 0.00, \n",
      "  TAX CLASS AT TIME OF SALE =          1       low 1.00,       mid 0.00,      high 0.00, \n",
      "SALE PRICE calc=729170.47, true=1345000.00\n",
      "\n",
      "row 127 Степень принадлежности значений к каждому терму: \n",
      "  RESIDENTIAL UNITS =          1     small 1.00,       mid 0.00,       big 0.00, \n",
      "  TAX CLASS AT TIME OF SALE =          1       low 1.00,       mid 0.00,      high 0.00, \n",
      "SALE PRICE calc=729166.73, true=420810.00\n",
      "\n",
      "row 128 Степень принадлежности значений к каждому терму: \n",
      "  RESIDENTIAL UNITS =          1     small 1.00,       mid 0.00,       big 0.00, \n",
      "  TAX CLASS AT TIME OF SALE =          1       low 1.00,       mid 0.00,      high 0.00, \n",
      "SALE PRICE calc=729166.73, true=460000.00\n",
      "\n",
      "row 129 Степень принадлежности значений к каждому терму: \n",
      "  RESIDENTIAL UNITS =          1     small 1.00,       mid 0.00,       big 0.00, \n",
      "  TAX CLASS AT TIME OF SALE =          1       low 1.00,       mid 0.00,      high 0.00, \n",
      "SALE PRICE calc=729166.73, true=675000.00\n",
      "\n",
      "row 130 Степень принадлежности значений к каждому терму: \n",
      "  RESIDENTIAL UNITS =          1     small 1.00,       mid 0.00,       big 0.00, \n",
      "  TAX CLASS AT TIME OF SALE =          1       low 1.00,       mid 0.00,      high 0.00, \n",
      "SALE PRICE calc=729166.73, true=86000.00\n",
      "\n",
      "row 131 Степень принадлежности значений к каждому терму: \n",
      "  RESIDENTIAL UNITS =          1     small 1.00,       mid 0.00,       big 0.00, \n",
      "  TAX CLASS AT TIME OF SALE =          2       low 0.00,       mid 1.00,      high 0.00, \n",
      "SALE PRICE calc=741989.26, true=250000.00\n",
      "\n",
      "row 132 Степень принадлежности значений к каждому терму: \n",
      "  RESIDENTIAL UNITS =          1     small 1.00,       mid 0.00,       big 0.00, \n",
      "  TAX CLASS AT TIME OF SALE =          2       low 0.00,       mid 1.00,      high 0.00, \n",
      "SALE PRICE calc=741989.26, true=325000.00\n",
      "\n",
      "row 133 Степень принадлежности значений к каждому терму: \n",
      "  RESIDENTIAL UNITS =          1     small 1.00,       mid 0.00,       big 0.00, \n",
      "  TAX CLASS AT TIME OF SALE =          1       low 1.00,       mid 0.00,      high 0.00, \n",
      "SALE PRICE calc=729166.73, true=540000.00\n",
      "\n",
      "row 134 Степень принадлежности значений к каждому терму: \n",
      "  RESIDENTIAL UNITS =          1     small 1.00,       mid 0.00,       big 0.00, \n",
      "  TAX CLASS AT TIME OF SALE =          1       low 1.00,       mid 0.00,      high 0.00, \n",
      "SALE PRICE calc=729166.73, true=830000.00\n",
      "\n",
      "row 135 Степень принадлежности значений к каждому терму: \n",
      "  RESIDENTIAL UNITS =          2     small 1.00,       mid 0.00,       big 0.00, \n",
      "  TAX CLASS AT TIME OF SALE =          1       low 1.00,       mid 0.00,      high 0.00, \n",
      "SALE PRICE calc=729170.47, true=1512500.00\n",
      "\n",
      "row 136 Степень принадлежности значений к каждому терму: \n",
      "  RESIDENTIAL UNITS =          1     small 1.00,       mid 0.00,       big 0.00, \n",
      "  TAX CLASS AT TIME OF SALE =          2       low 0.00,       mid 1.00,      high 0.00, \n",
      "SALE PRICE calc=741989.26, true=555000.00\n",
      "\n",
      "row 137 Степень принадлежности значений к каждому терму: \n",
      "  RESIDENTIAL UNITS =          1     small 1.00,       mid 0.00,       big 0.00, \n",
      "  TAX CLASS AT TIME OF SALE =          2       low 0.00,       mid 1.00,      high 0.00, \n",
      "SALE PRICE calc=741989.26, true=250000.00\n",
      "\n",
      "row 138 Степень принадлежности значений к каждому терму: \n",
      "  RESIDENTIAL UNITS =          2     small 1.00,       mid 0.00,       big 0.00, \n",
      "  TAX CLASS AT TIME OF SALE =          1       low 1.00,       mid 0.00,      high 0.00, \n",
      "SALE PRICE calc=729170.47, true=1325000.00\n",
      "\n",
      "row 139 Степень принадлежности значений к каждому терму: \n",
      "  RESIDENTIAL UNITS =         43     small 0.58,       mid 0.07,       big 0.00, \n",
      "  TAX CLASS AT TIME OF SALE =          2       low 0.00,       mid 1.00,      high 0.00, \n",
      "SALE PRICE calc=2553852.21, true=7700000.00\n",
      "\n",
      "row 140 Степень принадлежности значений к каждому терму: \n",
      "  RESIDENTIAL UNITS =          1     small 1.00,       mid 0.00,       big 0.00, \n",
      "  TAX CLASS AT TIME OF SALE =          1       low 1.00,       mid 0.00,      high 0.00, \n",
      "SALE PRICE calc=729166.73, true=1225000.00\n",
      "\n",
      "row 141 Степень принадлежности значений к каждому терму: \n",
      "  RESIDENTIAL UNITS =          3     small 1.00,       mid 0.00,       big 0.00, \n",
      "  TAX CLASS AT TIME OF SALE =          1       low 1.00,       mid 0.00,      high 0.00, \n",
      "SALE PRICE calc=729196.11, true=690000.00\n",
      "\n",
      "row 142 Степень принадлежности значений к каждому терму: \n",
      "  RESIDENTIAL UNITS =          2     small 1.00,       mid 0.00,       big 0.00, \n",
      "  TAX CLASS AT TIME OF SALE =          1       low 1.00,       mid 0.00,      high 0.00, \n",
      "SALE PRICE calc=729170.47, true=700000.00\n",
      "\n",
      "row 143 Степень принадлежности значений к каждому терму: \n",
      "  RESIDENTIAL UNITS =          1     small 1.00,       mid 0.00,       big 0.00, \n",
      "  TAX CLASS AT TIME OF SALE =          1       low 1.00,       mid 0.00,      high 0.00, \n",
      "SALE PRICE calc=729166.73, true=332000.00\n",
      "\n",
      "row 144 Степень принадлежности значений к каждому терму: \n",
      "  RESIDENTIAL UNITS =          1     small 1.00,       mid 0.00,       big 0.00, \n",
      "  TAX CLASS AT TIME OF SALE =          2       low 0.00,       mid 1.00,      high 0.00, \n",
      "SALE PRICE calc=741989.26, true=715000.00\n",
      "\n",
      "row 145 Степень принадлежности значений к каждому терму: \n",
      "  RESIDENTIAL UNITS =          1     small 1.00,       mid 0.00,       big 0.00, \n",
      "  TAX CLASS AT TIME OF SALE =          1       low 1.00,       mid 0.00,      high 0.00, \n",
      "SALE PRICE calc=729166.73, true=16000.00\n",
      "\n"
     ]
    },
    {
     "name": "stdout",
     "output_type": "stream",
     "text": [
      "row 146 Степень принадлежности значений к каждому терму: \n",
      "  RESIDENTIAL UNITS =          2     small 1.00,       mid 0.00,       big 0.00, \n",
      "  TAX CLASS AT TIME OF SALE =          1       low 1.00,       mid 0.00,      high 0.00, \n",
      "SALE PRICE calc=729170.47, true=525000.00\n",
      "\n",
      "row 147 Степень принадлежности значений к каждому терму: \n",
      "  RESIDENTIAL UNITS =          1     small 1.00,       mid 0.00,       big 0.00, \n",
      "  TAX CLASS AT TIME OF SALE =          1       low 1.00,       mid 0.00,      high 0.00, \n",
      "SALE PRICE calc=729166.73, true=295000.00\n",
      "\n",
      "row 148 Степень принадлежности значений к каждому терму: \n",
      "  RESIDENTIAL UNITS =          3     small 1.00,       mid 0.00,       big 0.00, \n",
      "  TAX CLASS AT TIME OF SALE =          1       low 1.00,       mid 0.00,      high 0.00, \n",
      "SALE PRICE calc=729196.11, true=725000.00\n",
      "\n",
      "row 149 Степень принадлежности значений к каждому терму: \n",
      "  RESIDENTIAL UNITS =          1     small 1.00,       mid 0.00,       big 0.00, \n",
      "  TAX CLASS AT TIME OF SALE =          2       low 0.00,       mid 1.00,      high 0.00, \n",
      "SALE PRICE calc=741989.26, true=638000.00\n",
      "\n",
      "row 150 Степень принадлежности значений к каждому терму: \n",
      "  RESIDENTIAL UNITS =          1     small 1.00,       mid 0.00,       big 0.00, \n",
      "  TAX CLASS AT TIME OF SALE =          1       low 1.00,       mid 0.00,      high 0.00, \n",
      "SALE PRICE calc=729166.73, true=375000.00\n",
      "\n",
      "row 151 Степень принадлежности значений к каждому терму: \n",
      "  RESIDENTIAL UNITS =          1     small 1.00,       mid 0.00,       big 0.00, \n",
      "  TAX CLASS AT TIME OF SALE =          2       low 0.00,       mid 1.00,      high 0.00, \n",
      "SALE PRICE calc=741989.26, true=2054523.00\n",
      "\n",
      "row 152 Степень принадлежности значений к каждому терму: \n",
      "  RESIDENTIAL UNITS =          1     small 1.00,       mid 0.00,       big 0.00, \n",
      "  TAX CLASS AT TIME OF SALE =          2       low 0.00,       mid 1.00,      high 0.00, \n",
      "SALE PRICE calc=741989.26, true=1150000.00\n",
      "\n",
      "row 153 Степень принадлежности значений к каждому терму: \n",
      "  RESIDENTIAL UNITS =          2     small 1.00,       mid 0.00,       big 0.00, \n",
      "  TAX CLASS AT TIME OF SALE =          1       low 1.00,       mid 0.00,      high 0.00, \n",
      "SALE PRICE calc=729170.47, true=578000.00\n",
      "\n",
      "row 154 Степень принадлежности значений к каждому терму: \n",
      "  RESIDENTIAL UNITS =          2     small 1.00,       mid 0.00,       big 0.00, \n",
      "  TAX CLASS AT TIME OF SALE =          1       low 1.00,       mid 0.00,      high 0.00, \n",
      "SALE PRICE calc=729170.47, true=435000.00\n",
      "\n"
     ]
    }
   ],
   "source": [
    "y_pred = np.array([])\n",
    "start_index = 105\n",
    "stop_index = 155\n",
    "\n",
    "for i in range (start_index, stop_index):\n",
    "    print \"row\", i,\n",
    "    \n",
    "    #очередные значения\n",
    "    in_residential    = x_test[features].iloc[i][0],\n",
    "    in_tax     = x_test[features].iloc[i][1], \n",
    "    out_price   = y_test.iloc[i][0]\n",
    "\n",
    "    # задать значения в модель нечеткой логики\n",
    "    price_SIM.input['RESIDENTIAL UNITS']     = in_residential\n",
    "    price_SIM.input['TAX CLASS AT TIME OF SALE'] = in_tax\n",
    "    \n",
    "    print \"Степень принадлежности значений к каждому терму:\",\n",
    "    printTerm(lv_residential, in_residential)\n",
    "    printTerm(lv_tax, in_tax)\n",
    "    \n",
    "    # Вычисление\n",
    "    price_SIM.compute()\n",
    "\n",
    "    # Вывод результата\n",
    "    y_pred = np.append(y_pred, price_SIM.output['SALE PRICE'])\n",
    "    print \"\"\n",
    "    print \"{} calc={:.2f}, true={:.2f}\".format(target[0], price_SIM.output['SALE PRICE'], out_price) \n",
    "    print \"\""
   ]
  },
  {
   "cell_type": "code",
   "execution_count": 36,
   "metadata": {},
   "outputs": [
    {
     "data": {
      "image/png": "[encoded data removed]",
      "text/plain": [
       "<Figure size 1152x288 with 2 Axes>"
      ]
     },
     "metadata": {
      "needs_background": "light"
     },
     "output_type": "display_data"
    }
   ],
   "source": [
    "# вывод\n",
    "data_part = data[target] [start_index:stop_index]\n",
    "if (len (y_pred) == len (data_part)):\n",
    "    plt.figure(figsize=(16,4))\n",
    "    plt.subplot(121)\n",
    "    plt.scatter( data_part, y_pred.reshape(-1, 1) )\n",
    "    plt.scatter( data_part, data_part,)\n",
    "    plt.title(u'Диаграмма рассеяния вычисленных значений. Модель НЛ');\n",
    "    plt.xlabel(u'Проверочное Y')\n",
    "    plt.ylabel(u'Предсказанное Y')\n",
    "    \n",
    "    plt.subplot(122)\n",
    "    plt.scatter( data_part, pow( data_part - y_pred.reshape(-1, 1), 2 ) )\n",
    "    plt.title(u'Диаграмма рассеяния квадратов ошибок. Модель НЛ');\n",
    "    plt.xlabel(u'Проверочное Y')\n",
    "    plt.ylabel(u'квадрат значения ошибки модели Y')\n",
    "\n",
    "else:\n",
    "    print len (y_pred), len (data_part), \"Размеры массивоов не совпадают\""
   ]
  },
  {
   "cell_type": "code",
   "execution_count": 37,
   "metadata": {},
   "outputs": [],
   "source": [
    "r2 = metrics.r2_score( data_part, y_pred.reshape(-1, 1))"
   ]
  },
  {
   "cell_type": "code",
   "execution_count": 38,
   "metadata": {},
   "outputs": [],
   "source": [
    "mae = metrics.mean_absolute_error(data_part, y_pred.reshape(-1, 1))"
   ]
  },
  {
   "cell_type": "code",
   "execution_count": 39,
   "metadata": {},
   "outputs": [],
   "source": [
    "mse = metrics.mean_squared_error(data_part, y_pred.reshape(-1, 1))"
   ]
  },
  {
   "cell_type": "code",
   "execution_count": 40,
   "metadata": {},
   "outputs": [
    {
     "name": "stdout",
     "output_type": "stream",
     "text": [
      "r2  =                -1.02\n",
      "mae =           5817366.67\n",
      "mse =    66204291078203.56\n"
     ]
    }
   ],
   "source": [
    "print \"r2  = {:>20.2f}\".format(r2)\n",
    "print \"mae = {:>20.2f}\".format(mae)\n",
    "print \"mse = {:>20.2f}\".format(mse)"
   ]
  },
  {
   "cell_type": "markdown",
   "metadata": {},
   "source": [
    "Попробуем улучшить результат"
   ]
  },
  {
   "cell_type": "markdown",
   "metadata": {},
   "source": [
    "## Итерация 2"
   ]
  },
  {
   "cell_type": "code",
   "execution_count": 41,
   "metadata": {},
   "outputs": [
    {
     "data": {
      "image/png": "[encoded data removed]",
      "text/plain": [
       "<Figure size 432x288 with 1 Axes>"
      ]
     },
     "metadata": {
      "needs_background": "light"
     },
     "output_type": "display_data"
    }
   ],
   "source": [
    "#RESIDENTIAL UNITS\n",
    "lv_residential[\"small\"] = fuzz.gaussmf(lv_residential.universe, 1, 20)\n",
    "lv_residential[\"mid\"] = fuzz.pimf(lv_residential.universe, 20, 30, 100, 150)\n",
    "lv_residential[\"big\"] = fuzz.pimf(lv_residential.universe,90, 150, 193, 200)\n",
    "lv_residential.view()"
   ]
  },
  {
   "cell_type": "code",
   "execution_count": 42,
   "metadata": {},
   "outputs": [
    {
     "data": {
      "image/png": "[encoded data removed]",
      "text/plain": [
       "<Figure size 432x288 with 1 Axes>"
      ]
     },
     "metadata": {
      "needs_background": "light"
     },
     "output_type": "display_data"
    }
   ],
   "source": [
    "#TAX CLASS AT TIME OF SALE\n",
    "lv_tax[\"low\"] = fuzz.zmf(lv_tax.universe, 1, 2)\n",
    "lv_tax[\"mid\"] = fuzz.trapmf(lv_tax.universe,[ 1, 2, 3, 4])\n",
    "lv_tax[\"high\"] = fuzz.trapmf(lv_tax.universe,[3, 4, 4 ,4])\n",
    "lv_tax.view()"
   ]
  },
  {
   "cell_type": "code",
   "execution_count": 43,
   "metadata": {},
   "outputs": [
    {
     "data": {
      "image/png": "[encoded data removed]",
      "text/plain": [
       "<Figure size 432x288 with 1 Axes>"
      ]
     },
     "metadata": {
      "needs_background": "light"
     },
     "output_type": "display_data"
    }
   ],
   "source": [
    "#SALE PRICE\n",
    "lv_price[\"low\"] = fuzz.zmf(lv_price.universe, 0, 2000000)\n",
    "lv_price[\"mid\"] = fuzz.pimf(lv_price.universe, 1000000,2000000, 3000000, 10000000)\n",
    "lv_price[\"high\"] = fuzz.smf(lv_price.universe, 2000000, 10000000)\n",
    "lv_price.view()"
   ]
  },
  {
   "cell_type": "markdown",
   "metadata": {},
   "source": [
    "## 2.4. Формирование нечеткой базы знаний"
   ]
  },
  {
   "cell_type": "code",
   "execution_count": 44,
   "metadata": {},
   "outputs": [],
   "source": [
    "#1) ЕСЛИ () ИЛИ (), ТО ().\n",
    "rule_1 = ctrl.Rule(\n",
    "lv_residential[\"small\"] & lv_tax[\"low\"] ,\n",
    "lv_price[\"low\"],\n",
    "\"firstRule\")"
   ]
  },
  {
   "cell_type": "code",
   "execution_count": 45,
   "metadata": {},
   "outputs": [],
   "source": [
    "#2) ЕСЛИ () ИЛИ (), ТО ().\n",
    "rule_2 = ctrl.Rule(\n",
    "lv_residential[\"small\"] & lv_tax[\"mid\"] ,\n",
    "lv_price[\"low\"],\n",
    "\"secondRule\")"
   ]
  },
  {
   "cell_type": "code",
   "execution_count": 46,
   "metadata": {},
   "outputs": [],
   "source": [
    "#3) ЕСЛИ () ИЛИ (), ТО ().\n",
    "rule_3 = ctrl.Rule(\n",
    "lv_residential[\"small\"] & lv_tax[\"high\"] ,\n",
    "lv_price[\"low\"],\n",
    "\"thirdRule\")"
   ]
  },
  {
   "cell_type": "code",
   "execution_count": 47,
   "metadata": {},
   "outputs": [],
   "source": [
    "#4) ЕСЛИ () ИЛИ (), ТО ().\n",
    "rule_4 = ctrl.Rule(\n",
    "lv_residential[\"mid\"] & lv_tax[\"low\"] ,\n",
    "lv_price[\"mid\"],\n",
    "\"fourthRule\")"
   ]
  },
  {
   "cell_type": "code",
   "execution_count": 48,
   "metadata": {},
   "outputs": [],
   "source": [
    "#5) ЕСЛИ () ИЛИ (), ТО ().\n",
    "rule_5 = ctrl.Rule(\n",
    "lv_residential[\"mid\"] & lv_tax[\"mid\"] ,\n",
    "lv_price[\"mid\"],\n",
    "\"fifthRule\")"
   ]
  },
  {
   "cell_type": "code",
   "execution_count": 49,
   "metadata": {},
   "outputs": [],
   "source": [
    "#6) ЕСЛИ () ИЛИ (), ТО ().\n",
    "rule_6 = ctrl.Rule(\n",
    "lv_residential[\"mid\"] & lv_tax[\"high\"] ,\n",
    "lv_price[\"high\"],\n",
    "\"sixthRule\")"
   ]
  },
  {
   "cell_type": "code",
   "execution_count": 50,
   "metadata": {},
   "outputs": [],
   "source": [
    "#7) ЕСЛИ () ИЛИ (), ТО ().\n",
    "rule_7 = ctrl.Rule(\n",
    "lv_residential[\"big\"] & lv_tax[\"low\"] ,\n",
    "lv_price[\"high\"],\n",
    "\"seventhRule\")"
   ]
  },
  {
   "cell_type": "code",
   "execution_count": 51,
   "metadata": {},
   "outputs": [],
   "source": [
    "#8) ЕСЛИ () ИЛИ (), ТО ().\n",
    "rule_8 = ctrl.Rule(\n",
    "lv_residential[\"big\"] & lv_tax[\"mid\"] ,\n",
    "lv_price[\"high\"],\n",
    "\"eighthRule\")"
   ]
  },
  {
   "cell_type": "code",
   "execution_count": 52,
   "metadata": {},
   "outputs": [],
   "source": [
    "#9) ЕСЛИ () ИЛИ (), ТО ().\n",
    "rule_9 = ctrl.Rule(\n",
    "lv_residential[\"big\"] & lv_tax[\"high\"] ,\n",
    "lv_price[\"high\"],\n",
    "\"ninthRule\")"
   ]
  },
  {
   "cell_type": "markdown",
   "metadata": {},
   "source": [
    "## 2.5. Тестирование нечеткой базы знаний"
   ]
  },
  {
   "cell_type": "markdown",
   "metadata": {},
   "source": [
    "### 2.5.1. Этап подготовки"
   ]
  },
  {
   "cell_type": "code",
   "execution_count": 53,
   "metadata": {},
   "outputs": [],
   "source": [
    "price_ctrl = ctrl.ControlSystem([rule_1, rule_2, rule_3, rule_4, rule_5, rule_6, rule_7, rule_8, rule_9])\n",
    "price_SIM = ctrl.ControlSystemSimulation(price_ctrl)"
   ]
  },
  {
   "cell_type": "code",
   "execution_count": 54,
   "metadata": {},
   "outputs": [],
   "source": [
    "# Создадим функцию для вывода степени вероятности принадлежности переданного значения\n",
    "def printTerm(lingVal, value):\n",
    "    print \"\\n  {:>10} = {:>10}\".format(lingVal.label, value[0]),\n",
    "    for term in lingVal.terms:\n",
    "        print \"{} {:>7} {:.2f},\".format(\" \", term, fuzz.interp_membership( lingVal.universe, lingVal[term].mf,   value[0])),"
   ]
  },
  {
   "cell_type": "code",
   "execution_count": 55,
   "metadata": {},
   "outputs": [
    {
     "name": "stdout",
     "output_type": "stream",
     "text": [
      "Кол-во элементов: \n",
      "  x_train: 28137, y_train 28137 \n",
      "  x_test:  12059, y_test  12059 \n",
      "  total x: 40196, total y 40196 \n"
     ]
    }
   ],
   "source": [
    "valid_size = 0.3 # доля тестовой части в выборке\n",
    "rand_seed = 8 # начальное состояние генератора случ. чисел\n",
    "\n",
    "x_train, x_test, y_train, y_test =  train_test_split(\n",
    "    data[features], data[target], # исходные данные\n",
    "    test_size = valid_size, \n",
    "    random_state=rand_seed, \n",
    "    shuffle=True # перемешивание\n",
    ") \n",
    "print \"Кол-во элементов: \\n  x_train: {}, y_train {} \\n  x_test:  {}, y_test  {} \\n  total x: {}, total y {} \".format  (\n",
    "    len(x_train), len(y_train),\n",
    "    len(x_test),  len(x_test), \n",
    "    len(x_train)+len(x_test), len(y_train)+len(x_test),\n",
    ")"
   ]
  },
  {
   "cell_type": "markdown",
   "metadata": {},
   "source": [
    "### 2.5.2. Проверка работы модели"
   ]
  },
  {
   "cell_type": "code",
   "execution_count": 56,
   "metadata": {},
   "outputs": [
    {
     "name": "stdout",
     "output_type": "stream",
     "text": [
      "Вывод значений проверочной части данных\n",
      "1, 2; y:1055000\n",
      "1, 1; y:800000\n"
     ]
    }
   ],
   "source": [
    "print \"Вывод значений проверочной части данных\"\n",
    "start_index = 0\n",
    "stop_index = 2\n",
    "for i in range(start_index, stop_index):\n",
    "    print \"{}, {}; y:{}\".format(\n",
    "    x_test[features].iloc[i][0],\n",
    "    x_test[features].iloc[i][1],y_test.iloc[i][0] )"
   ]
  },
  {
   "cell_type": "code",
   "execution_count": 57,
   "metadata": {},
   "outputs": [
    {
     "name": "stdout",
     "output_type": "stream",
     "text": [
      "Степень принадлежности значений к каждому терму: \n",
      "  RESIDENTIAL UNITS =          1     small 1.00,       mid 0.00,       big 0.00, \n",
      "  TAX CLASS AT TIME OF SALE =          2       low 0.00,       mid 1.00,      high 0.00,\n"
     ]
    }
   ],
   "source": [
    "in_residential = [1]\n",
    "in_tax = [2]\n",
    "\n",
    "price_SIM.input['RESIDENTIAL UNITS'] = in_residential \n",
    "price_SIM.input['TAX CLASS AT TIME OF SALE'] = in_tax\n",
    "\n",
    "print \"Степень принадлежности значений к каждому терму:\",\n",
    "printTerm(lv_residential, in_residential)\n",
    "printTerm(lv_tax, in_tax)"
   ]
  },
  {
   "cell_type": "code",
   "execution_count": 58,
   "metadata": {},
   "outputs": [
    {
     "name": "stdout",
     "output_type": "stream",
     "text": [
      "calc=583,333.42, real= 800,000.00  delta=-216,666.58\n"
     ]
    }
   ],
   "source": [
    "# Вычисление\n",
    "price_SIM.compute()\n",
    "\n",
    "# Вывод результата\n",
    "print \"calc={:,.2f}, real= {:,.2f}  delta={:,.2f}\".format (price_SIM.output['SALE PRICE'], y_test.iloc[1][0], (price_SIM.output['SALE PRICE'] - y_test.iloc[1][0]))"
   ]
  },
  {
   "cell_type": "code",
   "execution_count": 59,
   "metadata": {},
   "outputs": [
    {
     "data": {
      "image/png": "[encoded data removed]",
      "text/plain": [
       "<Figure size 432x288 with 1 Axes>"
      ]
     },
     "metadata": {
      "needs_background": "light"
     },
     "output_type": "display_data"
    },
    {
     "data": {
      "image/png": "[encoded data removed]",
      "text/plain": [
       "<Figure size 432x288 with 1 Axes>"
      ]
     },
     "metadata": {
      "needs_background": "light"
     },
     "output_type": "display_data"
    }
   ],
   "source": [
    "lv_residential.view(sim=price_SIM)\n",
    "lv_tax.view(sim=price_SIM)"
   ]
  },
  {
   "cell_type": "code",
   "execution_count": 60,
   "metadata": {},
   "outputs": [
    {
     "name": "stdout",
     "output_type": "stream",
     "text": [
      "=============\n",
      " Antecedents \n",
      "=============\n",
      "Antecedent: RESIDENTIAL UNITS       = [1]\n",
      "  - small                           : [1.]\n",
      "  - mid                             : [0.]\n",
      "  - big                             : [0.]\n",
      "Antecedent: TAX CLASS AT TIME OF SALE = [2]\n",
      "  - low                             : [0.]\n",
      "  - mid                             : [1.]\n",
      "  - high                            : [0.]\n",
      "\n",
      "=======\n",
      " Rules \n",
      "=======\n",
      "RULE #0:\n",
      "  IF RESIDENTIAL UNITS[small] AND TAX CLASS AT TIME OF SALE[high] THEN SALE PRICE[low]\n",
      "\tAND aggregation function : fmin\n",
      "\tOR aggregation function  : fmax\n",
      "\n",
      "  Aggregation (IF-clause):\n",
      "  - RESIDENTIAL UNITS[small]                               : [1.]\n",
      "  - TAX CLASS AT TIME OF SALE[high]                        : [0.]\n",
      "    RESIDENTIAL UNITS[small] AND TAX CLASS AT TIME OF SALE[high] = [0.]\n",
      "  Activation (THEN-clause):\n",
      "                                           SALE PRICE[low] : [0.]\n",
      "\n",
      "RULE #1:\n",
      "  IF RESIDENTIAL UNITS[small] AND TAX CLASS AT TIME OF SALE[mid] THEN SALE PRICE[low]\n",
      "\tAND aggregation function : fmin\n",
      "\tOR aggregation function  : fmax\n",
      "\n",
      "  Aggregation (IF-clause):\n",
      "  - RESIDENTIAL UNITS[small]                               : [1.]\n",
      "  - TAX CLASS AT TIME OF SALE[mid]                         : [1.]\n",
      "    RESIDENTIAL UNITS[small] AND TAX CLASS AT TIME OF SALE[mid] = [1.]\n",
      "  Activation (THEN-clause):\n",
      "                                           SALE PRICE[low] : [1.]\n",
      "\n",
      "RULE #2:\n",
      "  IF RESIDENTIAL UNITS[mid] AND TAX CLASS AT TIME OF SALE[low] THEN SALE PRICE[mid]\n",
      "\tAND aggregation function : fmin\n",
      "\tOR aggregation function  : fmax\n",
      "\n",
      "  Aggregation (IF-clause):\n",
      "  - RESIDENTIAL UNITS[mid]                                 : [0.]\n",
      "  - TAX CLASS AT TIME OF SALE[low]                         : [0.]\n",
      "    RESIDENTIAL UNITS[mid] AND TAX CLASS AT TIME OF SALE[low] = [0.]\n",
      "  Activation (THEN-clause):\n",
      "                                           SALE PRICE[mid] : [0.]\n",
      "\n",
      "RULE #3:\n",
      "  IF RESIDENTIAL UNITS[big] AND TAX CLASS AT TIME OF SALE[high] THEN SALE PRICE[high]\n",
      "\tAND aggregation function : fmin\n",
      "\tOR aggregation function  : fmax\n",
      "\n",
      "  Aggregation (IF-clause):\n",
      "  - RESIDENTIAL UNITS[big]                                 : [0.]\n",
      "  - TAX CLASS AT TIME OF SALE[high]                        : [0.]\n",
      "    RESIDENTIAL UNITS[big] AND TAX CLASS AT TIME OF SALE[high] = [0.]\n",
      "  Activation (THEN-clause):\n",
      "                                          SALE PRICE[high] : [0.]\n",
      "\n",
      "RULE #4:\n",
      "  IF RESIDENTIAL UNITS[mid] AND TAX CLASS AT TIME OF SALE[mid] THEN SALE PRICE[mid]\n",
      "\tAND aggregation function : fmin\n",
      "\tOR aggregation function  : fmax\n",
      "\n",
      "  Aggregation (IF-clause):\n",
      "  - RESIDENTIAL UNITS[mid]                                 : [0.]\n",
      "  - TAX CLASS AT TIME OF SALE[mid]                         : [1.]\n",
      "    RESIDENTIAL UNITS[mid] AND TAX CLASS AT TIME OF SALE[mid] = [0.]\n",
      "  Activation (THEN-clause):\n",
      "                                           SALE PRICE[mid] : [0.]\n",
      "\n",
      "RULE #5:\n",
      "  IF RESIDENTIAL UNITS[big] AND TAX CLASS AT TIME OF SALE[low] THEN SALE PRICE[high]\n",
      "\tAND aggregation function : fmin\n",
      "\tOR aggregation function  : fmax\n",
      "\n",
      "  Aggregation (IF-clause):\n",
      "  - RESIDENTIAL UNITS[big]                                 : [0.]\n",
      "  - TAX CLASS AT TIME OF SALE[low]                         : [0.]\n",
      "    RESIDENTIAL UNITS[big] AND TAX CLASS AT TIME OF SALE[low] = [0.]\n",
      "  Activation (THEN-clause):\n",
      "                                          SALE PRICE[high] : [0.]\n",
      "\n",
      "RULE #6:\n",
      "  IF RESIDENTIAL UNITS[big] AND TAX CLASS AT TIME OF SALE[mid] THEN SALE PRICE[high]\n",
      "\tAND aggregation function : fmin\n",
      "\tOR aggregation function  : fmax\n",
      "\n",
      "  Aggregation (IF-clause):\n",
      "  - RESIDENTIAL UNITS[big]                                 : [0.]\n",
      "  - TAX CLASS AT TIME OF SALE[mid]                         : [1.]\n",
      "    RESIDENTIAL UNITS[big] AND TAX CLASS AT TIME OF SALE[mid] = [0.]\n",
      "  Activation (THEN-clause):\n",
      "                                          SALE PRICE[high] : [0.]\n",
      "\n",
      "RULE #7:\n",
      "  IF RESIDENTIAL UNITS[small] AND TAX CLASS AT TIME OF SALE[low] THEN SALE PRICE[low]\n",
      "\tAND aggregation function : fmin\n",
      "\tOR aggregation function  : fmax\n",
      "\n",
      "  Aggregation (IF-clause):\n",
      "  - RESIDENTIAL UNITS[small]                               : [1.]\n",
      "  - TAX CLASS AT TIME OF SALE[low]                         : [0.]\n",
      "    RESIDENTIAL UNITS[small] AND TAX CLASS AT TIME OF SALE[low] = [0.]\n",
      "  Activation (THEN-clause):\n",
      "                                           SALE PRICE[low] : [0.]\n",
      "\n",
      "RULE #8:\n",
      "  IF RESIDENTIAL UNITS[mid] AND TAX CLASS AT TIME OF SALE[high] THEN SALE PRICE[high]\n",
      "\tAND aggregation function : fmin\n",
      "\tOR aggregation function  : fmax\n",
      "\n",
      "  Aggregation (IF-clause):\n",
      "  - RESIDENTIAL UNITS[mid]                                 : [0.]\n",
      "  - TAX CLASS AT TIME OF SALE[high]                        : [0.]\n",
      "    RESIDENTIAL UNITS[mid] AND TAX CLASS AT TIME OF SALE[high] = [0.]\n",
      "  Activation (THEN-clause):\n",
      "                                          SALE PRICE[high] : [0.]\n",
      "\n",
      "\n",
      "==============================\n",
      " Intermediaries and Conquests \n",
      "==============================\n",
      "Consequent: SALE PRICE               = 583333.416667\n",
      "  low:\n",
      "    Accumulate using accumulation_max : [1.]\n",
      "  mid:\n",
      "    Accumulate using accumulation_max : [0.]\n",
      "  high:\n",
      "    Accumulate using accumulation_max : [0.]\n",
      "\n"
     ]
    }
   ],
   "source": [
    "price_SIM.print_state()"
   ]
  },
  {
   "cell_type": "code",
   "execution_count": 61,
   "metadata": {},
   "outputs": [
    {
     "data": {
      "image/png": "[encoded data removed]",
      "text/plain": [
       "<Figure size 432x288 with 1 Axes>"
      ]
     },
     "metadata": {
      "needs_background": "light"
     },
     "output_type": "display_data"
    }
   ],
   "source": [
    "lv_price.view(sim=price_SIM)"
   ]
  },
  {
   "cell_type": "markdown",
   "metadata": {},
   "source": [
    "### 2.5.3. Проверка работы модели на проверочной части выборки"
   ]
  },
  {
   "cell_type": "code",
   "execution_count": 62,
   "metadata": {},
   "outputs": [
    {
     "name": "stdout",
     "output_type": "stream",
     "text": [
      "row 105 Степень принадлежности значений к каждому терму: \n",
      "  RESIDENTIAL UNITS =          1     small 1.00,       mid 0.00,       big 0.00, \n",
      "  TAX CLASS AT TIME OF SALE =          1       low 1.00,       mid 0.00,      high 0.00, \n",
      "SALE PRICE calc=583333.42, true=725000.00\n",
      "\n",
      "row 106 Степень принадлежности значений к каждому терму: \n",
      "  RESIDENTIAL UNITS =          1     small 1.00,       mid 0.00,       big 0.00, \n",
      "  TAX CLASS AT TIME OF SALE =          2       low 0.00,       mid 1.00,      high 0.00, \n",
      "SALE PRICE calc=583333.42, true=1257538.00\n",
      "\n",
      "row 107 Степень принадлежности значений к каждому терму: \n",
      "  RESIDENTIAL UNITS =          1     small 1.00,       mid 0.00,       big 0.00, \n",
      "  TAX CLASS AT TIME OF SALE =          2       low 0.00,       mid 1.00,      high 0.00, \n",
      "SALE PRICE calc=583333.42, true=1675021.00\n",
      "\n",
      "row 108 Степень принадлежности значений к каждому терму: \n",
      "  RESIDENTIAL UNITS =          1     small 1.00,       mid 0.00,       big 0.00, \n",
      "  TAX CLASS AT TIME OF SALE =          2       low 0.00,       mid 1.00,      high 0.00, \n",
      "SALE PRICE calc=583333.42, true=8858775.00\n",
      "\n",
      "row 109 Степень принадлежности значений к каждому терму: \n",
      "  RESIDENTIAL UNITS =          2     small 1.00,       mid 0.00,       big 0.00, \n",
      "  TAX CLASS AT TIME OF SALE =          1       low 1.00,       mid 0.00,      high 0.00, \n",
      "SALE PRICE calc=583356.92, true=645000.00\n",
      "\n",
      "row 110 Степень принадлежности значений к каждому терму: \n",
      "  RESIDENTIAL UNITS =          1     small 1.00,       mid 0.00,       big 0.00, \n",
      "  TAX CLASS AT TIME OF SALE =          1       low 1.00,       mid 0.00,      high 0.00, \n",
      "SALE PRICE calc=583333.42, true=467300.00\n",
      "\n",
      "row 111 Степень принадлежности значений к каждому терму: \n",
      "  RESIDENTIAL UNITS =          1     small 1.00,       mid 0.00,       big 0.00, \n",
      "  TAX CLASS AT TIME OF SALE =          1       low 1.00,       mid 0.00,      high 0.00, \n",
      "SALE PRICE calc=583333.42, true=390000.00\n",
      "\n",
      "row 112 Степень принадлежности значений к каждому терму: \n",
      "  RESIDENTIAL UNITS =          3     small 1.00,       mid 0.00,       big 0.00, \n",
      "  TAX CLASS AT TIME OF SALE =          1       low 1.00,       mid 0.00,      high 0.00, \n",
      "SALE PRICE calc=583514.75, true=1300000.00\n",
      "\n",
      "row 113 Степень принадлежности значений к каждому терму: \n",
      "  RESIDENTIAL UNITS =          2     small 1.00,       mid 0.00,       big 0.00, \n",
      "  TAX CLASS AT TIME OF SALE =          1       low 1.00,       mid 0.00,      high 0.00, \n",
      "SALE PRICE calc=583356.92, true=1225000.00\n",
      "\n",
      "row 114 Степень принадлежности значений к каждому терму: \n",
      "  RESIDENTIAL UNITS =          3     small 1.00,       mid 0.00,       big 0.00, \n",
      "  TAX CLASS AT TIME OF SALE =          1       low 1.00,       mid 0.00,      high 0.00, \n",
      "SALE PRICE calc=583514.75, true=2400000.00\n",
      "\n",
      "row 115 Степень принадлежности значений к каждому терму: \n",
      "  RESIDENTIAL UNITS =          1     small 1.00,       mid 0.00,       big 0.00, \n",
      "  TAX CLASS AT TIME OF SALE =          2       low 0.00,       mid 1.00,      high 0.00, \n",
      "SALE PRICE calc=583333.42, true=465000.00\n",
      "\n",
      "row 116 Степень принадлежности значений к каждому терму: \n",
      "  RESIDENTIAL UNITS =          1     small 1.00,       mid 0.00,       big 0.00, \n",
      "  TAX CLASS AT TIME OF SALE =          1       low 1.00,       mid 0.00,      high 0.00, \n",
      "SALE PRICE calc=583333.42, true=1185000.00\n",
      "\n",
      "row 117 Степень принадлежности значений к каждому терму: \n",
      "  RESIDENTIAL UNITS =          1     small 1.00,       mid 0.00,       big 0.00, \n",
      "  TAX CLASS AT TIME OF SALE =          1       low 1.00,       mid 0.00,      high 0.00, \n",
      "SALE PRICE calc=583333.42, true=456000.00\n",
      "\n",
      "row 118 Степень принадлежности значений к каждому терму: \n",
      "  RESIDENTIAL UNITS =          1     small 1.00,       mid 0.00,       big 0.00, \n",
      "  TAX CLASS AT TIME OF SALE =          1       low 1.00,       mid 0.00,      high 0.00, \n",
      "SALE PRICE calc=583333.42, true=430000.00\n",
      "\n",
      "row 119 Степень принадлежности значений к каждому терму: \n",
      "  RESIDENTIAL UNITS =          1     small 1.00,       mid 0.00,       big 0.00, \n",
      "  TAX CLASS AT TIME OF SALE =          1       low 1.00,       mid 0.00,      high 0.00, \n",
      "SALE PRICE calc=583333.42, true=395000.00\n",
      "\n",
      "row 120 Степень принадлежности значений к каждому терму: \n",
      "  RESIDENTIAL UNITS =          2     small 1.00,       mid 0.00,       big 0.00, \n",
      "  TAX CLASS AT TIME OF SALE =          1       low 1.00,       mid 0.00,      high 0.00, \n",
      "SALE PRICE calc=583356.92, true=100.00\n",
      "\n",
      "row 121 Степень принадлежности значений к каждому терму: \n",
      "  RESIDENTIAL UNITS =          1     small 1.00,       mid 0.00,       big 0.00, \n",
      "  TAX CLASS AT TIME OF SALE =          1       low 1.00,       mid 0.00,      high 0.00, \n",
      "SALE PRICE calc=583333.42, true=660000.00\n",
      "\n",
      "row 122 Степень принадлежности значений к каждому терму: \n",
      "  RESIDENTIAL UNITS =          1     small 1.00,       mid 0.00,       big 0.00, \n",
      "  TAX CLASS AT TIME OF SALE =          1       low 1.00,       mid 0.00,      high 0.00, \n",
      "SALE PRICE calc=583333.42, true=1083500.00\n",
      "\n",
      "row 123 Степень принадлежности значений к каждому терму: \n",
      "  RESIDENTIAL UNITS =          1     small 1.00,       mid 0.00,       big 0.00, \n",
      "  TAX CLASS AT TIME OF SALE =          2       low 0.00,       mid 1.00,      high 0.00, \n",
      "SALE PRICE calc=583333.42, true=885000.00\n",
      "\n",
      "row 124 Степень принадлежности значений к каждому терму: \n",
      "  RESIDENTIAL UNITS =          1     small 1.00,       mid 0.00,       big 0.00, \n",
      "  TAX CLASS AT TIME OF SALE =          2       low 0.00,       mid 1.00,      high 0.00, \n",
      "SALE PRICE calc=583333.42, true=1476462.00\n",
      "\n",
      "row 125 Степень принадлежности значений к каждому терму: \n",
      "  RESIDENTIAL UNITS =          1     small 1.00,       mid 0.00,       big 0.00, \n",
      "  TAX CLASS AT TIME OF SALE =          1       low 1.00,       mid 0.00,      high 0.00, \n",
      "SALE PRICE calc=583333.42, true=970000.00\n",
      "\n",
      "row 126 Степень принадлежности значений к каждому терму: \n",
      "  RESIDENTIAL UNITS =          2     small 1.00,       mid 0.00,       big 0.00, \n",
      "  TAX CLASS AT TIME OF SALE =          1       low 1.00,       mid 0.00,      high 0.00, \n",
      "SALE PRICE calc=583356.92, true=1345000.00\n",
      "\n",
      "row 127 Степень принадлежности значений к каждому терму: \n",
      "  RESIDENTIAL UNITS =          1     small 1.00,       mid 0.00,       big 0.00, \n",
      "  TAX CLASS AT TIME OF SALE =          1       low 1.00,       mid 0.00,      high 0.00, \n",
      "SALE PRICE calc=583333.42, true=420810.00\n",
      "\n",
      "row 128 Степень принадлежности значений к каждому терму: \n",
      "  RESIDENTIAL UNITS =          1     small 1.00,       mid 0.00,       big 0.00, \n",
      "  TAX CLASS AT TIME OF SALE =          1       low 1.00,       mid 0.00,      high 0.00, \n",
      "SALE PRICE calc=583333.42, true=460000.00\n",
      "\n",
      "row 129 Степень принадлежности значений к каждому терму: \n",
      "  RESIDENTIAL UNITS =          1     small 1.00,       mid 0.00,       big 0.00, \n",
      "  TAX CLASS AT TIME OF SALE =          1       low 1.00,       mid 0.00,      high 0.00, \n",
      "SALE PRICE calc=583333.42, true=675000.00\n",
      "\n",
      "row 130 Степень принадлежности значений к каждому терму: \n",
      "  RESIDENTIAL UNITS =          1     small 1.00,       mid 0.00,       big 0.00, \n",
      "  TAX CLASS AT TIME OF SALE =          1       low 1.00,       mid 0.00,      high 0.00, \n",
      "SALE PRICE calc=583333.42, true=86000.00\n",
      "\n",
      "row 131 Степень принадлежности значений к каждому терму: \n",
      "  RESIDENTIAL UNITS =          1     small 1.00,       mid 0.00,       big 0.00, \n",
      "  TAX CLASS AT TIME OF SALE =          2       low 0.00,       mid 1.00,      high 0.00, \n",
      "SALE PRICE calc=583333.42, true=250000.00\n",
      "\n",
      "row 132 Степень принадлежности значений к каждому терму: \n",
      "  RESIDENTIAL UNITS =          1     small 1.00,       mid 0.00,       big 0.00, \n",
      "  TAX CLASS AT TIME OF SALE =          2       low 0.00,       mid 1.00,      high 0.00, \n",
      "SALE PRICE calc=583333.42, true=325000.00\n",
      "\n",
      "row 133 Степень принадлежности значений к каждому терму: \n",
      "  RESIDENTIAL UNITS =          1     small 1.00,       mid 0.00,       big 0.00, \n",
      "  TAX CLASS AT TIME OF SALE =          1       low 1.00,       mid 0.00,      high 0.00, \n",
      "SALE PRICE calc=583333.42, true=540000.00\n",
      "\n",
      "row 134 Степень принадлежности значений к каждому терму: \n",
      "  RESIDENTIAL UNITS =          1     small 1.00,       mid 0.00,       big 0.00, \n",
      "  TAX CLASS AT TIME OF SALE =          1       low 1.00,       mid 0.00,      high 0.00, \n",
      "SALE PRICE calc=583333.42, true=830000.00\n",
      "\n",
      "row 135 Степень принадлежности значений к каждому терму: \n",
      "  RESIDENTIAL UNITS =          2     small 1.00,       mid 0.00,       big 0.00, \n",
      "  TAX CLASS AT TIME OF SALE =          1       low 1.00,       mid 0.00,      high 0.00, \n",
      "SALE PRICE calc=583356.92, true=1512500.00\n",
      "\n",
      "row 136 Степень принадлежности значений к каждому терму: \n",
      "  RESIDENTIAL UNITS =          1     small 1.00,       mid 0.00,       big 0.00, \n",
      "  TAX CLASS AT TIME OF SALE =          2       low 0.00,       mid 1.00,      high 0.00, \n",
      "SALE PRICE calc=583333.42, true=555000.00\n",
      "\n",
      "row 137 Степень принадлежности значений к каждому терму: \n",
      "  RESIDENTIAL UNITS =          1     small 1.00,       mid 0.00,       big 0.00, \n",
      "  TAX CLASS AT TIME OF SALE =          2       low 0.00,       mid 1.00,      high 0.00, \n",
      "SALE PRICE calc=583333.42, true=250000.00\n",
      "\n",
      "row 138 Степень принадлежности значений к каждому терму: \n",
      "  RESIDENTIAL UNITS =          2     small 1.00,       mid 0.00,       big 0.00, \n",
      "  TAX CLASS AT TIME OF SALE =          1       low 1.00,       mid 0.00,      high 0.00, \n",
      "SALE PRICE calc=583356.92, true=1325000.00\n",
      "\n",
      "row 139 Степень принадлежности значений к каждому терму: \n",
      "  RESIDENTIAL UNITS =         43     small 0.11,       mid 1.00,       big 0.00, \n",
      "  TAX CLASS AT TIME OF SALE =          2       low 0.00,       mid 1.00,      high 0.00, \n",
      "SALE PRICE calc=4109969.93, true=7700000.00\n",
      "\n",
      "row 140 Степень принадлежности значений к каждому терму: \n",
      "  RESIDENTIAL UNITS =          1     small 1.00,       mid 0.00,       big 0.00, \n",
      "  TAX CLASS AT TIME OF SALE =          1       low 1.00,       mid 0.00,      high 0.00, \n",
      "SALE PRICE calc=583333.42, true=1225000.00\n",
      "\n",
      "row 141 Степень принадлежности значений к каждому терму: \n",
      "  RESIDENTIAL UNITS =          3     small 1.00,       mid 0.00,       big 0.00, \n",
      "  TAX CLASS AT TIME OF SALE =          1       low 1.00,       mid 0.00,      high 0.00, \n",
      "SALE PRICE calc=583514.75, true=690000.00\n",
      "\n",
      "row 142 Степень принадлежности значений к каждому терму: \n",
      "  RESIDENTIAL UNITS =          2     small 1.00,       mid 0.00,       big 0.00, \n",
      "  TAX CLASS AT TIME OF SALE =          1       low 1.00,       mid 0.00,      high 0.00, \n",
      "SALE PRICE calc=583356.92, true=700000.00\n",
      "\n",
      "row 143 Степень принадлежности значений к каждому терму: \n",
      "  RESIDENTIAL UNITS =          1     small 1.00,       mid 0.00,       big 0.00, \n",
      "  TAX CLASS AT TIME OF SALE =          1       low 1.00,       mid 0.00,      high 0.00, \n",
      "SALE PRICE calc=583333.42, true=332000.00\n",
      "\n",
      "row 144 Степень принадлежности значений к каждому терму: \n",
      "  RESIDENTIAL UNITS =          1     small 1.00,       mid 0.00,       big 0.00, \n",
      "  TAX CLASS AT TIME OF SALE =          2       low 0.00,       mid 1.00,      high 0.00, \n",
      "SALE PRICE calc=583333.42, true=715000.00\n",
      "\n",
      "row 145 Степень принадлежности значений к каждому терму: \n",
      "  RESIDENTIAL UNITS =          1     small 1.00,       mid 0.00,       big 0.00, \n",
      "  TAX CLASS AT TIME OF SALE =          1       low 1.00,       mid 0.00,      high 0.00, \n",
      "SALE PRICE calc=583333.42, true=16000.00\n",
      "\n",
      "row 146 Степень принадлежности значений к каждому терму: \n",
      "  RESIDENTIAL UNITS =          2     small 1.00,       mid 0.00,       big 0.00, \n",
      "  TAX CLASS AT TIME OF SALE =          1       low 1.00,       mid 0.00,      high 0.00, \n",
      "SALE PRICE calc=583356.92, true=525000.00\n",
      "\n",
      "row 147 Степень принадлежности значений к каждому терму: \n",
      "  RESIDENTIAL UNITS =          1     small 1.00,       mid 0.00,       big 0.00, \n",
      "  TAX CLASS AT TIME OF SALE =          1       low 1.00,       mid 0.00,      high 0.00, \n",
      "SALE PRICE calc=583333.42, true=295000.00\n",
      "\n",
      "row 148 Степень принадлежности значений к каждому терму: \n",
      "  RESIDENTIAL UNITS =          3     small 1.00,       mid 0.00,       big 0.00, \n",
      "  TAX CLASS AT TIME OF SALE =          1       low 1.00,       mid 0.00,      high 0.00, \n",
      "SALE PRICE calc=583514.75, true=725000.00\n",
      "\n",
      "row 149 Степень принадлежности значений к каждому терму: \n",
      "  RESIDENTIAL UNITS =          1     small 1.00,       mid 0.00,       big 0.00, \n",
      "  TAX CLASS AT TIME OF SALE =          2       low 0.00,       mid 1.00,      high 0.00, \n",
      "SALE PRICE calc=583333.42, true=638000.00\n",
      "\n",
      "row 150 Степень принадлежности значений к каждому терму: \n",
      "  RESIDENTIAL UNITS =          1     small 1.00,       mid 0.00,       big 0.00, \n",
      "  TAX CLASS AT TIME OF SALE =          1       low 1.00,       mid 0.00,      high 0.00, \n",
      "SALE PRICE calc=583333.42, true=375000.00\n",
      "\n",
      "row 151 Степень принадлежности значений к каждому терму: \n",
      "  RESIDENTIAL UNITS =          1     small 1.00,       mid 0.00,       big 0.00, \n",
      "  TAX CLASS AT TIME OF SALE =          2       low 0.00,       mid 1.00,      high 0.00, \n",
      "SALE PRICE calc=583333.42, true=2054523.00\n",
      "\n",
      "row 152 Степень принадлежности значений к каждому терму: \n",
      "  RESIDENTIAL UNITS =          1     small 1.00,       mid 0.00,       big 0.00, \n",
      "  TAX CLASS AT TIME OF SALE =          2       low 0.00,       mid 1.00,      high 0.00, \n",
      "SALE PRICE calc=583333.42, true=1150000.00\n",
      "\n",
      "row 153 Степень принадлежности значений к каждому терму: \n",
      "  RESIDENTIAL UNITS =          2     small 1.00,       mid 0.00,       big 0.00, \n",
      "  TAX CLASS AT TIME OF SALE =          1       low 1.00,       mid 0.00,      high 0.00, \n",
      "SALE PRICE calc=583356.92, true=578000.00\n",
      "\n",
      "row 154 Степень принадлежности значений к каждому терму: \n",
      "  RESIDENTIAL UNITS =          2     small 1.00,       mid 0.00,       big 0.00, \n",
      "  TAX CLASS AT TIME OF SALE =          1       low 1.00,       mid 0.00,      high 0.00, \n",
      "SALE PRICE calc=583356.92, true=435000.00\n",
      "\n"
     ]
    }
   ],
   "source": [
    "y_pred = np.array([])\n",
    "start_index = 105\n",
    "stop_index = 155\n",
    "\n",
    "for i in range (start_index, stop_index):\n",
    "    print \"row\", i,\n",
    "    \n",
    "    #очередные значения\n",
    "    in_residential    = x_test[features].iloc[i][0],\n",
    "    in_tax     = x_test[features].iloc[i][1], \n",
    "    out_price   = y_test.iloc[i][0]\n",
    "\n",
    "    # задать значения в модель нечеткой логики\n",
    "    price_SIM.input['RESIDENTIAL UNITS']     = in_residential\n",
    "    price_SIM.input['TAX CLASS AT TIME OF SALE'] = in_tax\n",
    "    \n",
    "    print \"Степень принадлежности значений к каждому терму:\",\n",
    "    printTerm(lv_residential, in_residential)\n",
    "    printTerm(lv_tax, in_tax)\n",
    "    \n",
    "    # Вычисление\n",
    "    price_SIM.compute()\n",
    "\n",
    "    # Вывод результата\n",
    "    y_pred = np.append(y_pred, price_SIM.output['SALE PRICE'])\n",
    "    print \"\"\n",
    "    print \"{} calc={:.2f}, true={:.2f}\".format(target[0], price_SIM.output['SALE PRICE'], out_price) \n",
    "    print \"\""
   ]
  },
  {
   "cell_type": "code",
   "execution_count": 63,
   "metadata": {},
   "outputs": [
    {
     "data": {
      "image/png": "[encoded data removed]",
      "text/plain": [
       "<Figure size 1152x288 with 2 Axes>"
      ]
     },
     "metadata": {
      "needs_background": "light"
     },
     "output_type": "display_data"
    }
   ],
   "source": [
    "# вывод\n",
    "data_part = data[target] [start_index:stop_index]\n",
    "if (len (y_pred) == len (data_part)):\n",
    "    plt.figure(figsize=(16,4))\n",
    "    plt.subplot(121)\n",
    "    plt.scatter( data_part, y_pred.reshape(-1, 1) )\n",
    "    plt.scatter( data_part, data_part,)\n",
    "    plt.title(u'Диаграмма рассеяния вычисленных значений. Модель НЛ');\n",
    "    plt.xlabel(u'Проверочное Y')\n",
    "    plt.ylabel(u'Предсказанное Y')\n",
    "    \n",
    "    plt.subplot(122)\n",
    "    plt.scatter( data_part, pow( data_part - y_pred.reshape(-1, 1), 2 ) )\n",
    "    plt.title(u'Диаграмма рассеяния квадратов ошибок. Модель НЛ');\n",
    "    plt.xlabel(u'Проверочное Y')\n",
    "    plt.ylabel(u'квадрат значения ошибки модели Y')\n",
    "\n",
    "else:\n",
    "    print len (y_pred), len (data_part), \"Размеры массивоов не совпадают\""
   ]
  },
  {
   "cell_type": "code",
   "execution_count": 64,
   "metadata": {},
   "outputs": [],
   "source": [
    "r2 = metrics.r2_score( data_part, y_pred.reshape(-1, 1))"
   ]
  },
  {
   "cell_type": "code",
   "execution_count": 65,
   "metadata": {},
   "outputs": [],
   "source": [
    "mae = metrics.mean_absolute_error(data_part, y_pred.reshape(-1, 1))"
   ]
  },
  {
   "cell_type": "code",
   "execution_count": 66,
   "metadata": {},
   "outputs": [],
   "source": [
    "mse = metrics.mean_squared_error(data_part, y_pred.reshape(-1, 1))"
   ]
  },
  {
   "cell_type": "code",
   "execution_count": 67,
   "metadata": {},
   "outputs": [
    {
     "name": "stdout",
     "output_type": "stream",
     "text": [
      "r2  =                -1.08\n",
      "mae =           5989067.76\n",
      "mse =    68086322551833.38\n"
     ]
    }
   ],
   "source": [
    "print \"r2  = {:>20.2f}\".format(r2)\n",
    "print \"mae = {:>20.2f}\".format(mae)\n",
    "print \"mse = {:>20.2f}\".format(mse)"
   ]
  },
  {
   "cell_type": "markdown",
   "metadata": {},
   "source": [
    "# Вывод"
   ]
  },
  {
   "cell_type": "markdown",
   "metadata": {},
   "source": [
    "Было проведено несколько итераций, первая и последняя отображены в отчете. Получен положительный результат r2 = 0.02 на первой итерации. К сожалению, на последующей итерации не удалось его улучшить. Улучшить модель можно проанализировав реальные и вычесленные результаты степени принадлежности и подправив соответствующие зависимости и правила. Также следует расширить диапазон проверяемых значений"
   ]
  },
  {
   "cell_type": "code",
   "execution_count": null,
   "metadata": {},
   "outputs": [],
   "source": []
  }
 ],
 "metadata": {
  "kernelspec": {
   "display_name": "Python 2",
   "language": "python",
   "name": "python2"
  },
  "language_info": {
   "codemirror_mode": {
    "name": "ipython",
    "version": 2
   },
   "file_extension": ".py",
   "mimetype": "text/x-python",
   "name": "python",
   "nbconvert_exporter": "python",
   "pygments_lexer": "ipython2",
   "version": "2.7.15+"
  }
 },
 "nbformat": 4,
 "nbformat_minor": 2
}
