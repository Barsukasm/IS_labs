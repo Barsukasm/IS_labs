{
 "cells": [
  {
   "cell_type": "markdown",
   "metadata": {},
   "source": [
    "## 1. Результаты первичного анализа исходных данных\n",
    "    1.1. Количество записей и признаков"
   ]
  },
  {
   "cell_type": "code",
   "execution_count": 1,
   "metadata": {},
   "outputs": [],
   "source": [
    "import pandas as pd\n",
    "from scipy import stats\n",
    "from sklearn import linear_model\n",
    "from sklearn.model_selection import train_test_split\n",
    "from sklearn.model_selection import cross_val_score\n",
    "\n",
    "from sklearn.metrics import mean_squared_error, r2_score, mean_absolute_error"
   ]
  },
  {
   "cell_type": "code",
   "execution_count": 2,
   "metadata": {},
   "outputs": [],
   "source": [
    "data = pd.read_csv(\"../is2019/datasets/var24/nyc-rolling-sales.csv\")"
   ]
  },
  {
   "cell_type": "code",
   "execution_count": 3,
   "metadata": {},
   "outputs": [
    {
     "name": "stdout",
     "output_type": "stream",
     "text": [
      "Итого: 84548 записи, 22 столбец (признак).\n"
     ]
    }
   ],
   "source": [
    "nrow = data.shape[0]\n",
    "ncol = data.shape[1]\n",
    "print (\"Итого: \" + str(nrow) + \" записи, \" + str(ncol) + \" столбец (признак).\")"
   ]
  },
  {
   "cell_type": "markdown",
   "metadata": {},
   "source": [
    "    1.2. Смысловое описание признаков\n",
    "   Данный датасет состоит из записей о продаже каждого здания или его части (квартира и т.п.) на рынке недвижимости Нью-Йорка за период с сентября 2016 по сентябрь 2017.\n",
    "- BOROUGH: Цифровой код, обозначающий в каком районе располагается собственность. По порядку: Манхеттен (1), Бронкс (2), Бруклин (3), Квинс (4), and Статен-Айленд (5)\n",
    "- NEIGHBORHOOD: Окресности\n",
    "- BUILDING CLASS CATEGORY: Категория класса здания\n",
    "- TAX CLASS AT PRESENT: Класс налога на текущий момент\n",
    "- BLOCK: Блок внутри района\n",
    "- LOT:Участок. Комбинация района (BOROUGH), блока (BLOCK) и участка (LOT) составляет уникальный ключ для каждого здания, обычно называемый BBL\n",
    "- EASE-MENT: Пристройки\n",
    "- BUILDING CLASS AT PRESENT: Класс здания на текущий момент\n",
    "- ADDRESS: Адрес\n",
    "- APARTMENT NUMBER: Номер квартиры\n",
    "- ZIP CODE: Зип-код\n",
    "- RESIDENTIAL UNITS: Жилые единицы\n",
    "- COMMERCIAL UNITS: Коммерческие единицы\n",
    "- TOTAL UNITS: Всего единиц\n",
    "- LAND SQUARE FEET: Площадь земельного участка\n",
    "- GROSS SQUARE FEET: Площадь всего здания\n",
    "- YEAR BUILT: Год постройки\n",
    "- TAX CLASS AT TIME OF SALE: Класс налога на момент продажи\n",
    "- BUILDING CLASS AT TIME OF SALE: Класс здания на момент продажи\n",
    "- SALE PRICE: Цена продажи\n",
    "- SALE DATE: Дата продажи\n",
    "    "
   ]
  },
  {
   "cell_type": "markdown",
   "metadata": {},
   "source": [
    "    1.3. Типы данных столбцов и информация о пропусках\n",
    "Посмотрим тип данных всех столбцов и предварительно оценим количество записей в каждом из них:"
   ]
  },
  {
   "cell_type": "code",
   "execution_count": 4,
   "metadata": {},
   "outputs": [
    {
     "data": {
      "text/html": [
       "<div>\n",
       "<style scoped>\n",
       "    .dataframe tbody tr th:only-of-type {\n",
       "        vertical-align: middle;\n",
       "    }\n",
       "\n",
       "    .dataframe tbody tr th {\n",
       "        vertical-align: top;\n",
       "    }\n",
       "\n",
       "    .dataframe thead th {\n",
       "        text-align: right;\n",
       "    }\n",
       "</style>\n",
       "<table border=\"1\" class=\"dataframe\">\n",
       "  <thead>\n",
       "    <tr style=\"text-align: right;\">\n",
       "      <th></th>\n",
       "      <th>Unnamed: 0</th>\n",
       "      <th>BOROUGH</th>\n",
       "      <th>BLOCK</th>\n",
       "      <th>LOT</th>\n",
       "      <th>ZIP CODE</th>\n",
       "      <th>RESIDENTIAL UNITS</th>\n",
       "      <th>COMMERCIAL UNITS</th>\n",
       "      <th>TOTAL UNITS</th>\n",
       "      <th>YEAR BUILT</th>\n",
       "      <th>TAX CLASS AT TIME OF SALE</th>\n",
       "    </tr>\n",
       "  </thead>\n",
       "  <tbody>\n",
       "    <tr>\n",
       "      <th>count</th>\n",
       "      <td>84548.000000</td>\n",
       "      <td>84548.000000</td>\n",
       "      <td>84548.000000</td>\n",
       "      <td>84548.000000</td>\n",
       "      <td>84548.000000</td>\n",
       "      <td>84548.000000</td>\n",
       "      <td>84548.000000</td>\n",
       "      <td>84548.000000</td>\n",
       "      <td>84548.000000</td>\n",
       "      <td>84548.000000</td>\n",
       "    </tr>\n",
       "    <tr>\n",
       "      <th>mean</th>\n",
       "      <td>10344.359878</td>\n",
       "      <td>2.998758</td>\n",
       "      <td>4237.218976</td>\n",
       "      <td>376.224015</td>\n",
       "      <td>10731.991614</td>\n",
       "      <td>2.025264</td>\n",
       "      <td>0.193559</td>\n",
       "      <td>2.249184</td>\n",
       "      <td>1789.322976</td>\n",
       "      <td>1.657485</td>\n",
       "    </tr>\n",
       "    <tr>\n",
       "      <th>std</th>\n",
       "      <td>7151.779436</td>\n",
       "      <td>1.289790</td>\n",
       "      <td>3568.263407</td>\n",
       "      <td>658.136814</td>\n",
       "      <td>1290.879147</td>\n",
       "      <td>16.721037</td>\n",
       "      <td>8.713183</td>\n",
       "      <td>18.972584</td>\n",
       "      <td>537.344993</td>\n",
       "      <td>0.819341</td>\n",
       "    </tr>\n",
       "    <tr>\n",
       "      <th>min</th>\n",
       "      <td>4.000000</td>\n",
       "      <td>1.000000</td>\n",
       "      <td>1.000000</td>\n",
       "      <td>1.000000</td>\n",
       "      <td>0.000000</td>\n",
       "      <td>0.000000</td>\n",
       "      <td>0.000000</td>\n",
       "      <td>0.000000</td>\n",
       "      <td>0.000000</td>\n",
       "      <td>1.000000</td>\n",
       "    </tr>\n",
       "    <tr>\n",
       "      <th>25%</th>\n",
       "      <td>4231.000000</td>\n",
       "      <td>2.000000</td>\n",
       "      <td>1322.750000</td>\n",
       "      <td>22.000000</td>\n",
       "      <td>10305.000000</td>\n",
       "      <td>0.000000</td>\n",
       "      <td>0.000000</td>\n",
       "      <td>1.000000</td>\n",
       "      <td>1920.000000</td>\n",
       "      <td>1.000000</td>\n",
       "    </tr>\n",
       "    <tr>\n",
       "      <th>50%</th>\n",
       "      <td>8942.000000</td>\n",
       "      <td>3.000000</td>\n",
       "      <td>3311.000000</td>\n",
       "      <td>50.000000</td>\n",
       "      <td>11209.000000</td>\n",
       "      <td>1.000000</td>\n",
       "      <td>0.000000</td>\n",
       "      <td>1.000000</td>\n",
       "      <td>1940.000000</td>\n",
       "      <td>2.000000</td>\n",
       "    </tr>\n",
       "    <tr>\n",
       "      <th>75%</th>\n",
       "      <td>15987.250000</td>\n",
       "      <td>4.000000</td>\n",
       "      <td>6281.000000</td>\n",
       "      <td>1001.000000</td>\n",
       "      <td>11357.000000</td>\n",
       "      <td>2.000000</td>\n",
       "      <td>0.000000</td>\n",
       "      <td>2.000000</td>\n",
       "      <td>1965.000000</td>\n",
       "      <td>2.000000</td>\n",
       "    </tr>\n",
       "    <tr>\n",
       "      <th>max</th>\n",
       "      <td>26739.000000</td>\n",
       "      <td>5.000000</td>\n",
       "      <td>16322.000000</td>\n",
       "      <td>9106.000000</td>\n",
       "      <td>11694.000000</td>\n",
       "      <td>1844.000000</td>\n",
       "      <td>2261.000000</td>\n",
       "      <td>2261.000000</td>\n",
       "      <td>2017.000000</td>\n",
       "      <td>4.000000</td>\n",
       "    </tr>\n",
       "  </tbody>\n",
       "</table>\n",
       "</div>"
      ],
      "text/plain": [
       "         Unnamed: 0       BOROUGH         BLOCK           LOT      ZIP CODE  \\\n",
       "count  84548.000000  84548.000000  84548.000000  84548.000000  84548.000000   \n",
       "mean   10344.359878      2.998758   4237.218976    376.224015  10731.991614   \n",
       "std     7151.779436      1.289790   3568.263407    658.136814   1290.879147   \n",
       "min        4.000000      1.000000      1.000000      1.000000      0.000000   \n",
       "25%     4231.000000      2.000000   1322.750000     22.000000  10305.000000   \n",
       "50%     8942.000000      3.000000   3311.000000     50.000000  11209.000000   \n",
       "75%    15987.250000      4.000000   6281.000000   1001.000000  11357.000000   \n",
       "max    26739.000000      5.000000  16322.000000   9106.000000  11694.000000   \n",
       "\n",
       "       RESIDENTIAL UNITS  COMMERCIAL UNITS   TOTAL UNITS    YEAR BUILT  \\\n",
       "count       84548.000000      84548.000000  84548.000000  84548.000000   \n",
       "mean            2.025264          0.193559      2.249184   1789.322976   \n",
       "std            16.721037          8.713183     18.972584    537.344993   \n",
       "min             0.000000          0.000000      0.000000      0.000000   \n",
       "25%             0.000000          0.000000      1.000000   1920.000000   \n",
       "50%             1.000000          0.000000      1.000000   1940.000000   \n",
       "75%             2.000000          0.000000      2.000000   1965.000000   \n",
       "max          1844.000000       2261.000000   2261.000000   2017.000000   \n",
       "\n",
       "       TAX CLASS AT TIME OF SALE  \n",
       "count               84548.000000  \n",
       "mean                    1.657485  \n",
       "std                     0.819341  \n",
       "min                     1.000000  \n",
       "25%                     1.000000  \n",
       "50%                     2.000000  \n",
       "75%                     2.000000  \n",
       "max                     4.000000  "
      ]
     },
     "execution_count": 4,
     "metadata": {},
     "output_type": "execute_result"
    }
   ],
   "source": [
    "data.describe()"
   ]
  },
  {
   "cell_type": "code",
   "execution_count": 5,
   "metadata": {
    "scrolled": false
   },
   "outputs": [
    {
     "name": "stdout",
     "output_type": "stream",
     "text": [
      "<class 'pandas.core.frame.DataFrame'>\n",
      "RangeIndex: 84548 entries, 0 to 84547\n",
      "Data columns (total 22 columns):\n",
      "Unnamed: 0                        84548 non-null int64\n",
      "BOROUGH                           84548 non-null int64\n",
      "NEIGHBORHOOD                      84548 non-null object\n",
      "BUILDING CLASS CATEGORY           84548 non-null object\n",
      "TAX CLASS AT PRESENT              84548 non-null object\n",
      "BLOCK                             84548 non-null int64\n",
      "LOT                               84548 non-null int64\n",
      "EASE-MENT                         84548 non-null object\n",
      "BUILDING CLASS AT PRESENT         84548 non-null object\n",
      "ADDRESS                           84548 non-null object\n",
      "APARTMENT NUMBER                  84548 non-null object\n",
      "ZIP CODE                          84548 non-null int64\n",
      "RESIDENTIAL UNITS                 84548 non-null int64\n",
      "COMMERCIAL UNITS                  84548 non-null int64\n",
      "TOTAL UNITS                       84548 non-null int64\n",
      "LAND SQUARE FEET                  84548 non-null object\n",
      "GROSS SQUARE FEET                 84548 non-null object\n",
      "YEAR BUILT                        84548 non-null int64\n",
      "TAX CLASS AT TIME OF SALE         84548 non-null int64\n",
      "BUILDING CLASS AT TIME OF SALE    84548 non-null object\n",
      "SALE PRICE                        84548 non-null object\n",
      "SALE DATE                         84548 non-null object\n",
      "dtypes: int64(10), object(12)\n",
      "memory usage: 14.2+ MB\n"
     ]
    }
   ],
   "source": [
    "data.info()"
   ]
  },
  {
   "cell_type": "markdown",
   "metadata": {},
   "source": [
    "Поскольку столбец \"SALE PRICE\" отражает стоимость продажи собственности, то его значение должно быть числовым. Однако в нашем случае это объект. Посмотрим в чем здесь проблема и попробуем это исправить"
   ]
  },
  {
   "cell_type": "code",
   "execution_count": 6,
   "metadata": {
    "scrolled": false
   },
   "outputs": [
    {
     "name": "stdout",
     "output_type": "stream",
     "text": [
      "75120     -  \n",
      "82121     -  \n",
      "78112     -  \n",
      "78113     -  \n",
      "82117     -  \n",
      "59985     -  \n",
      "12534     -  \n",
      "78122     -  \n",
      "82115     -  \n",
      "68192     -  \n",
      "Name: SALE PRICE, dtype: object\n"
     ]
    },
    {
     "data": {
      "text/plain": [
       " -        14561\n",
       "0         10228\n",
       "10          766\n",
       "450000      427\n",
       "550000      416\n",
       "650000      414\n",
       "600000      409\n",
       "700000      382\n",
       "400000      378\n",
       "750000      377\n",
       "Name: SALE PRICE, dtype: int64"
      ]
     },
     "execution_count": 6,
     "metadata": {},
     "output_type": "execute_result"
    }
   ],
   "source": [
    "print data['SALE PRICE'].sort_values()[:10]\n",
    "data['SALE PRICE'].value_counts()[:10]"
   ]
  },
  {
   "cell_type": "code",
   "execution_count": 7,
   "metadata": {
    "scrolled": true
   },
   "outputs": [
    {
     "name": "stdout",
     "output_type": "stream",
     "text": [
      "10          766\n",
      "450000      427\n",
      "550000      416\n",
      "650000      414\n",
      "600000      409\n",
      "700000      382\n",
      "400000      378\n",
      "750000      377\n",
      "300000      351\n",
      "500000      350\n",
      "350000      345\n",
      "800000      331\n",
      "900000      324\n",
      "250000      314\n",
      "850000      309\n",
      "950000      301\n",
      "1100000     298\n",
      "1200000     286\n",
      "1300000     271\n",
      "425000      265\n",
      "525000      259\n",
      "475000      259\n",
      "325000      249\n",
      "480000      233\n",
      "1250000     229\n",
      "625000      224\n",
      "200000      223\n",
      "460000      222\n",
      "420000      217\n",
      "430000      217\n",
      "           ... \n",
      "1329499       1\n",
      "856400        1\n",
      "637157        1\n",
      "3936432       1\n",
      "600392        1\n",
      "131250        1\n",
      "944288        1\n",
      "1255607       1\n",
      "1224900       1\n",
      "201820        1\n",
      "508106        1\n",
      "210           1\n",
      "12500         1\n",
      "26626267      1\n",
      "438500        1\n",
      "329971        1\n",
      "188750        1\n",
      "1390837       1\n",
      "1542648       1\n",
      "1077500       1\n",
      "5280000       1\n",
      "596936        1\n",
      "1290500       1\n",
      "1882373       1\n",
      "925974        1\n",
      "38900000      1\n",
      "2396480       1\n",
      "2064706       1\n",
      "643400        1\n",
      "724994        1\n",
      "Name: SALE PRICE, Length: 10006, dtype: int64\n"
     ]
    }
   ],
   "source": [
    "'''\n",
    "data['SALE DATE'] = pd.to_datetime(data['SALE DATE'])\n",
    "data['SALE DATE'] = pd.to_numeric(data['SALE DATE'])\n",
    "data['SALE PRICE'] = data['SALE PRICE'].replace(to_replace = ' -  ', value = '-500')\n",
    "data['SALE PRICE'] = pd.to_numeric(data['SALE PRICE'])\n",
    "dataM = data[data['SALE PRICE']>=0]\n",
    "M = dataM['SALE PRICE'].mean()\n",
    "M = int(M)\n",
    "print M\n",
    "data['SALE PRICE'] = data['SALE PRICE'].replace(to_replace = -500, value = M)\n",
    "data = data.astype({'SALE PRICE': 'int64'})\n",
    "print data['SALE PRICE'].sort_values()\n",
    "'''\n",
    "data = data[data['SALE PRICE'] != ' -  ']\n",
    "data['SALE PRICE'] = pd.to_numeric(data['SALE PRICE'])\n",
    "data_origin = data\n",
    "data = data[data['SALE PRICE'] != 0]\n",
    "print data['SALE PRICE'].value_counts()"
   ]
  },
  {
   "cell_type": "markdown",
   "metadata": {},
   "source": [
    "Ошибка исправлена заменой всех \"-\" на среднее значение остальных записей и сменой типа столбца без изменения количества записей. Также сменили значения столбца с датой продажи к числовому типу. Во всех столбцах одинаковое количество записей, но на всякий случай проверим отсутствие пропусков другим способом:"
   ]
  },
  {
   "cell_type": "code",
   "execution_count": 8,
   "metadata": {},
   "outputs": [
    {
     "data": {
      "text/plain": [
       "Unnamed: 0                        0\n",
       "BOROUGH                           0\n",
       "NEIGHBORHOOD                      0\n",
       "BUILDING CLASS CATEGORY           0\n",
       "TAX CLASS AT PRESENT              0\n",
       "BLOCK                             0\n",
       "LOT                               0\n",
       "EASE-MENT                         0\n",
       "BUILDING CLASS AT PRESENT         0\n",
       "ADDRESS                           0\n",
       "APARTMENT NUMBER                  0\n",
       "ZIP CODE                          0\n",
       "RESIDENTIAL UNITS                 0\n",
       "COMMERCIAL UNITS                  0\n",
       "TOTAL UNITS                       0\n",
       "LAND SQUARE FEET                  0\n",
       "GROSS SQUARE FEET                 0\n",
       "YEAR BUILT                        0\n",
       "TAX CLASS AT TIME OF SALE         0\n",
       "BUILDING CLASS AT TIME OF SALE    0\n",
       "SALE PRICE                        0\n",
       "SALE DATE                         0\n",
       "dtype: int64"
      ]
     },
     "execution_count": 8,
     "metadata": {},
     "output_type": "execute_result"
    }
   ],
   "source": [
    "data.isnull().sum()"
   ]
  },
  {
   "cell_type": "markdown",
   "metadata": {},
   "source": [
    "Оба метода показали отсутствие пропусков."
   ]
  },
  {
   "cell_type": "code",
   "execution_count": 9,
   "metadata": {
    "scrolled": true
   },
   "outputs": [
    {
     "data": {
      "text/html": [
       "<div>\n",
       "<style scoped>\n",
       "    .dataframe tbody tr th:only-of-type {\n",
       "        vertical-align: middle;\n",
       "    }\n",
       "\n",
       "    .dataframe tbody tr th {\n",
       "        vertical-align: top;\n",
       "    }\n",
       "\n",
       "    .dataframe thead th {\n",
       "        text-align: right;\n",
       "    }\n",
       "</style>\n",
       "<table border=\"1\" class=\"dataframe\">\n",
       "  <thead>\n",
       "    <tr style=\"text-align: right;\">\n",
       "      <th></th>\n",
       "      <th>Unnamed: 0</th>\n",
       "      <th>BOROUGH</th>\n",
       "      <th>BLOCK</th>\n",
       "      <th>LOT</th>\n",
       "      <th>ZIP CODE</th>\n",
       "      <th>RESIDENTIAL UNITS</th>\n",
       "      <th>COMMERCIAL UNITS</th>\n",
       "      <th>TOTAL UNITS</th>\n",
       "      <th>YEAR BUILT</th>\n",
       "      <th>TAX CLASS AT TIME OF SALE</th>\n",
       "      <th>SALE PRICE</th>\n",
       "    </tr>\n",
       "  </thead>\n",
       "  <tbody>\n",
       "    <tr>\n",
       "      <th>count</th>\n",
       "      <td>59759.000000</td>\n",
       "      <td>59759.000000</td>\n",
       "      <td>59759.000000</td>\n",
       "      <td>59759.000000</td>\n",
       "      <td>59759.000000</td>\n",
       "      <td>59759.000000</td>\n",
       "      <td>59759.000000</td>\n",
       "      <td>59759.000000</td>\n",
       "      <td>59759.000000</td>\n",
       "      <td>59759.000000</td>\n",
       "      <td>5.975900e+04</td>\n",
       "    </tr>\n",
       "    <tr>\n",
       "      <th>mean</th>\n",
       "      <td>10300.064877</td>\n",
       "      <td>2.939875</td>\n",
       "      <td>4151.617982</td>\n",
       "      <td>390.768621</td>\n",
       "      <td>10705.739269</td>\n",
       "      <td>1.728208</td>\n",
       "      <td>0.163172</td>\n",
       "      <td>1.903663</td>\n",
       "      <td>1810.107599</td>\n",
       "      <td>1.629629</td>\n",
       "      <td>1.494927e+06</td>\n",
       "    </tr>\n",
       "    <tr>\n",
       "      <th>std</th>\n",
       "      <td>7088.112601</td>\n",
       "      <td>1.326832</td>\n",
       "      <td>3568.943382</td>\n",
       "      <td>670.844273</td>\n",
       "      <td>1264.098174</td>\n",
       "      <td>14.159398</td>\n",
       "      <td>9.821318</td>\n",
       "      <td>17.337769</td>\n",
       "      <td>505.745865</td>\n",
       "      <td>0.706166</td>\n",
       "      <td>1.232953e+07</td>\n",
       "    </tr>\n",
       "    <tr>\n",
       "      <th>min</th>\n",
       "      <td>4.000000</td>\n",
       "      <td>1.000000</td>\n",
       "      <td>1.000000</td>\n",
       "      <td>1.000000</td>\n",
       "      <td>0.000000</td>\n",
       "      <td>0.000000</td>\n",
       "      <td>0.000000</td>\n",
       "      <td>0.000000</td>\n",
       "      <td>0.000000</td>\n",
       "      <td>1.000000</td>\n",
       "      <td>1.000000e+00</td>\n",
       "    </tr>\n",
       "    <tr>\n",
       "      <th>25%</th>\n",
       "      <td>4249.000000</td>\n",
       "      <td>2.000000</td>\n",
       "      <td>1277.000000</td>\n",
       "      <td>21.000000</td>\n",
       "      <td>10301.000000</td>\n",
       "      <td>0.000000</td>\n",
       "      <td>0.000000</td>\n",
       "      <td>0.000000</td>\n",
       "      <td>1920.000000</td>\n",
       "      <td>1.000000</td>\n",
       "      <td>3.700000e+05</td>\n",
       "    </tr>\n",
       "    <tr>\n",
       "      <th>50%</th>\n",
       "      <td>9032.000000</td>\n",
       "      <td>3.000000</td>\n",
       "      <td>3167.000000</td>\n",
       "      <td>50.000000</td>\n",
       "      <td>11207.000000</td>\n",
       "      <td>1.000000</td>\n",
       "      <td>0.000000</td>\n",
       "      <td>1.000000</td>\n",
       "      <td>1940.000000</td>\n",
       "      <td>2.000000</td>\n",
       "      <td>6.255000e+05</td>\n",
       "    </tr>\n",
       "    <tr>\n",
       "      <th>75%</th>\n",
       "      <td>15777.000000</td>\n",
       "      <td>4.000000</td>\n",
       "      <td>6107.000000</td>\n",
       "      <td>1002.000000</td>\n",
       "      <td>11356.000000</td>\n",
       "      <td>2.000000</td>\n",
       "      <td>0.000000</td>\n",
       "      <td>2.000000</td>\n",
       "      <td>1966.000000</td>\n",
       "      <td>2.000000</td>\n",
       "      <td>1.070000e+06</td>\n",
       "    </tr>\n",
       "    <tr>\n",
       "      <th>max</th>\n",
       "      <td>26738.000000</td>\n",
       "      <td>5.000000</td>\n",
       "      <td>16319.000000</td>\n",
       "      <td>9106.000000</td>\n",
       "      <td>11694.000000</td>\n",
       "      <td>1844.000000</td>\n",
       "      <td>2261.000000</td>\n",
       "      <td>2261.000000</td>\n",
       "      <td>2017.000000</td>\n",
       "      <td>4.000000</td>\n",
       "      <td>2.210000e+09</td>\n",
       "    </tr>\n",
       "  </tbody>\n",
       "</table>\n",
       "</div>"
      ],
      "text/plain": [
       "         Unnamed: 0       BOROUGH         BLOCK           LOT      ZIP CODE  \\\n",
       "count  59759.000000  59759.000000  59759.000000  59759.000000  59759.000000   \n",
       "mean   10300.064877      2.939875   4151.617982    390.768621  10705.739269   \n",
       "std     7088.112601      1.326832   3568.943382    670.844273   1264.098174   \n",
       "min        4.000000      1.000000      1.000000      1.000000      0.000000   \n",
       "25%     4249.000000      2.000000   1277.000000     21.000000  10301.000000   \n",
       "50%     9032.000000      3.000000   3167.000000     50.000000  11207.000000   \n",
       "75%    15777.000000      4.000000   6107.000000   1002.000000  11356.000000   \n",
       "max    26738.000000      5.000000  16319.000000   9106.000000  11694.000000   \n",
       "\n",
       "       RESIDENTIAL UNITS  COMMERCIAL UNITS   TOTAL UNITS    YEAR BUILT  \\\n",
       "count       59759.000000      59759.000000  59759.000000  59759.000000   \n",
       "mean            1.728208          0.163172      1.903663   1810.107599   \n",
       "std            14.159398          9.821318     17.337769    505.745865   \n",
       "min             0.000000          0.000000      0.000000      0.000000   \n",
       "25%             0.000000          0.000000      0.000000   1920.000000   \n",
       "50%             1.000000          0.000000      1.000000   1940.000000   \n",
       "75%             2.000000          0.000000      2.000000   1966.000000   \n",
       "max          1844.000000       2261.000000   2261.000000   2017.000000   \n",
       "\n",
       "       TAX CLASS AT TIME OF SALE    SALE PRICE  \n",
       "count               59759.000000  5.975900e+04  \n",
       "mean                    1.629629  1.494927e+06  \n",
       "std                     0.706166  1.232953e+07  \n",
       "min                     1.000000  1.000000e+00  \n",
       "25%                     1.000000  3.700000e+05  \n",
       "50%                     2.000000  6.255000e+05  \n",
       "75%                     2.000000  1.070000e+06  \n",
       "max                     4.000000  2.210000e+09  "
      ]
     },
     "execution_count": 9,
     "metadata": {},
     "output_type": "execute_result"
    }
   ],
   "source": [
    "data.describe()"
   ]
  },
  {
   "cell_type": "code",
   "execution_count": 10,
   "metadata": {},
   "outputs": [
    {
     "data": {
      "text/html": [
       "<div>\n",
       "<style scoped>\n",
       "    .dataframe tbody tr th:only-of-type {\n",
       "        vertical-align: middle;\n",
       "    }\n",
       "\n",
       "    .dataframe tbody tr th {\n",
       "        vertical-align: top;\n",
       "    }\n",
       "\n",
       "    .dataframe thead th {\n",
       "        text-align: right;\n",
       "    }\n",
       "</style>\n",
       "<table border=\"1\" class=\"dataframe\">\n",
       "  <thead>\n",
       "    <tr style=\"text-align: right;\">\n",
       "      <th></th>\n",
       "      <th>NEIGHBORHOOD</th>\n",
       "      <th>BUILDING CLASS CATEGORY</th>\n",
       "      <th>TAX CLASS AT PRESENT</th>\n",
       "      <th>EASE-MENT</th>\n",
       "      <th>BUILDING CLASS AT PRESENT</th>\n",
       "      <th>ADDRESS</th>\n",
       "      <th>APARTMENT NUMBER</th>\n",
       "      <th>LAND SQUARE FEET</th>\n",
       "      <th>GROSS SQUARE FEET</th>\n",
       "      <th>BUILDING CLASS AT TIME OF SALE</th>\n",
       "      <th>SALE DATE</th>\n",
       "    </tr>\n",
       "  </thead>\n",
       "  <tbody>\n",
       "    <tr>\n",
       "      <th>count</th>\n",
       "      <td>59759</td>\n",
       "      <td>59759</td>\n",
       "      <td>59759</td>\n",
       "      <td>59759</td>\n",
       "      <td>59759</td>\n",
       "      <td>59759</td>\n",
       "      <td>59759</td>\n",
       "      <td>59759</td>\n",
       "      <td>59759</td>\n",
       "      <td>59759</td>\n",
       "      <td>59759</td>\n",
       "    </tr>\n",
       "    <tr>\n",
       "      <th>unique</th>\n",
       "      <td>254</td>\n",
       "      <td>46</td>\n",
       "      <td>10</td>\n",
       "      <td>1</td>\n",
       "      <td>155</td>\n",
       "      <td>49453</td>\n",
       "      <td>3065</td>\n",
       "      <td>4834</td>\n",
       "      <td>4517</td>\n",
       "      <td>155</td>\n",
       "      <td>342</td>\n",
       "    </tr>\n",
       "    <tr>\n",
       "      <th>top</th>\n",
       "      <td>FLUSHING-NORTH</td>\n",
       "      <td>01 ONE FAMILY DWELLINGS</td>\n",
       "      <td>2</td>\n",
       "      <td></td>\n",
       "      <td>D4</td>\n",
       "      <td>131-05 40TH   ROAD</td>\n",
       "      <td></td>\n",
       "      <td>-</td>\n",
       "      <td>-</td>\n",
       "      <td>D4</td>\n",
       "      <td>2017-06-29 00:00:00</td>\n",
       "    </tr>\n",
       "    <tr>\n",
       "      <th>freq</th>\n",
       "      <td>2200</td>\n",
       "      <td>13007</td>\n",
       "      <td>25896</td>\n",
       "      <td>59759</td>\n",
       "      <td>11332</td>\n",
       "      <td>209</td>\n",
       "      <td>46183</td>\n",
       "      <td>21188</td>\n",
       "      <td>21739</td>\n",
       "      <td>11334</td>\n",
       "      <td>417</td>\n",
       "    </tr>\n",
       "  </tbody>\n",
       "</table>\n",
       "</div>"
      ],
      "text/plain": [
       "          NEIGHBORHOOD                      BUILDING CLASS CATEGORY  \\\n",
       "count            59759                                        59759   \n",
       "unique             254                                           46   \n",
       "top     FLUSHING-NORTH  01 ONE FAMILY DWELLINGS                       \n",
       "freq              2200                                        13007   \n",
       "\n",
       "       TAX CLASS AT PRESENT EASE-MENT BUILDING CLASS AT PRESENT  \\\n",
       "count                 59759     59759                     59759   \n",
       "unique                   10         1                       155   \n",
       "top                       2                                  D4   \n",
       "freq                  25896     59759                     11332   \n",
       "\n",
       "                   ADDRESS APARTMENT NUMBER LAND SQUARE FEET  \\\n",
       "count                59759            59759            59759   \n",
       "unique               49453             3065             4834   \n",
       "top     131-05 40TH   ROAD                               -     \n",
       "freq                   209            46183            21188   \n",
       "\n",
       "       GROSS SQUARE FEET BUILDING CLASS AT TIME OF SALE            SALE DATE  \n",
       "count              59759                          59759                59759  \n",
       "unique              4517                            155                  342  \n",
       "top                  -                               D4  2017-06-29 00:00:00  \n",
       "freq               21739                          11334                  417  "
      ]
     },
     "execution_count": 10,
     "metadata": {},
     "output_type": "execute_result"
    }
   ],
   "source": [
    "data.describe(include=['object','bool'])"
   ]
  },
  {
   "cell_type": "code",
   "execution_count": 11,
   "metadata": {},
   "outputs": [
    {
     "name": "stdout",
     "output_type": "stream",
     "text": [
      "                           Unnamed: 0   BOROUGH     BLOCK       LOT  ZIP CODE  \\\n",
      "Unnamed: 0                   1.000000  0.094246  0.270765 -0.033223  0.168766   \n",
      "BOROUGH                      0.094246  1.000000  0.442712 -0.266421  0.285929   \n",
      "BLOCK                        0.270765  0.442712  1.000000 -0.238997  0.257812   \n",
      "LOT                         -0.033223 -0.266421 -0.238997  1.000000 -0.153238   \n",
      "ZIP CODE                     0.168766  0.285929  0.257812 -0.153238  1.000000   \n",
      "RESIDENTIAL UNITS           -0.015155 -0.016944 -0.008772 -0.030872  0.006352   \n",
      "COMMERCIAL UNITS            -0.000774  0.001154  0.001652 -0.008577  0.002657   \n",
      "TOTAL UNITS                 -0.012699 -0.013389 -0.006548 -0.029105  0.006755   \n",
      "YEAR BUILT                  -0.010596  0.116704  0.087388 -0.312055  0.335090   \n",
      "TAX CLASS AT TIME OF SALE    0.014005 -0.364660 -0.329280  0.268008 -0.141925   \n",
      "SALE PRICE                  -0.017895 -0.076723 -0.062132  0.009996 -0.033567   \n",
      "\n",
      "                           RESIDENTIAL UNITS  COMMERCIAL UNITS  TOTAL UNITS  \\\n",
      "Unnamed: 0                         -0.015155         -0.000774    -0.012699   \n",
      "BOROUGH                            -0.016944          0.001154    -0.013389   \n",
      "BLOCK                              -0.008772          0.001652    -0.006548   \n",
      "LOT                                -0.030872         -0.008577    -0.029105   \n",
      "ZIP CODE                            0.006352          0.002657     0.006755   \n",
      "RESIDENTIAL UNITS                   1.000000          0.013294     0.824104   \n",
      "COMMERCIAL UNITS                    0.013294          1.000000     0.577298   \n",
      "TOTAL UNITS                         0.824104          0.577298     1.000000   \n",
      "YEAR BUILT                          0.019424          0.004277     0.017820   \n",
      "TAX CLASS AT TIME OF SALE           0.000349          0.044417     0.027873   \n",
      "SALE PRICE                          0.134716          0.046416     0.136367   \n",
      "\n",
      "                           YEAR BUILT  TAX CLASS AT TIME OF SALE  SALE PRICE  \n",
      "Unnamed: 0                  -0.010596                   0.014005   -0.017895  \n",
      "BOROUGH                      0.116704                  -0.364660   -0.076723  \n",
      "BLOCK                        0.087388                  -0.329280   -0.062132  \n",
      "LOT                         -0.312055                   0.268008    0.009996  \n",
      "ZIP CODE                     0.335090                  -0.141925   -0.033567  \n",
      "RESIDENTIAL UNITS            0.019424                   0.000349    0.134716  \n",
      "COMMERCIAL UNITS             0.004277                   0.044417    0.046416  \n",
      "TOTAL UNITS                  0.017820                   0.027873    0.136367  \n",
      "YEAR BUILT                   1.000000                  -0.158966   -0.006528  \n",
      "TAX CLASS AT TIME OF SALE   -0.158966                   1.000000    0.110197  \n",
      "SALE PRICE                  -0.006528                   0.110197    1.000000  \n"
     ]
    }
   ],
   "source": [
    "corrdf = data.corr(method='pearson')\n",
    "print corrdf"
   ]
  },
  {
   "cell_type": "code",
   "execution_count": 12,
   "metadata": {},
   "outputs": [],
   "source": [
    "import matplotlib.pyplot as plt\n",
    "import numpy as np\n",
    "import seaborn as sns\n",
    "##cmap = sns.diverging_palette(220, 10, as_cmap=True) ## сгенерировать цветовую карту\n",
    "sns.set(style=\"white\")# цвет фона\n",
    "\n",
    "# построить \"маску\" для отображения только половины корреляционной матрицы\n",
    "mask = np.zeros_like(corrdf, dtype=np.bool)\n",
    "mask[np.triu_indices_from(mask)] = True\n",
    "\n",
    "fig, ax = plt.subplots(figsize=(9,9))\n",
    "sns.set(font_scale=0.8) # размер шрифта\n",
    "\n",
    "# Построить тепловую карту\n",
    "sns.heatmap(data=corrdf, vmin=-1, vmax=1, center=0,\n",
    "            annot=True, \n",
    "            cmap = 'RdBu',\n",
    "            mask=mask,   # применить маску\n",
    "            square=True, # форма ячейки - квадрат\n",
    "            linewidths=1.0, # зазор между ячейки\n",
    "            #cbar_kws={\"shrink\": .5}  # уменьшить размер легенды\n",
    "           )\n",
    "plt.title(u'Матрица корреляции признаков');"
   ]
  },
  {
   "cell_type": "markdown",
   "metadata": {},
   "source": [
    "### Выбор целевого значения и признаков для анализа данных "
   ]
  },
  {
   "cell_type": "markdown",
   "metadata": {},
   "source": [
    "На основе информации о взаимозависимости и степени влияния признаков выберем целевое значение:\n",
    "- 'SALE PRICE' - Стоимость.\n",
    "\n",
    "Признаки для анализа следует выбирать с высоким коэфф. корреляции с целевым значением, но при этом как можно более не связанные  между собой: \n",
    "  * 'RESIDENTIAL UNITS' - число жилых помещений\n",
    "  * 'TAX CLASS AT TIME OF SALE' - класс налога на момент продажи"
   ]
  },
  {
   "cell_type": "code",
   "execution_count": 13,
   "metadata": {},
   "outputs": [
    {
     "name": "stdout",
     "output_type": "stream",
     "text": [
      "RESIDENTIAL UNITS, ['SALE PRICE'] =  0.135\n",
      "TAX CLASS AT TIME OF SALE, ['SALE PRICE'] =  0.110\n"
     ]
    }
   ],
   "source": [
    "features = ['RESIDENTIAL UNITS', 'TAX CLASS AT TIME OF SALE']\n",
    "target = ['SALE PRICE']\n",
    "\n",
    "for features_name in features:\n",
    "    print \"{:<9}, {} = {:>6.3f}\".format(features_name, target, corrdf[features_name][target[0]])"
   ]
  },
  {
   "cell_type": "code",
   "execution_count": 14,
   "metadata": {},
   "outputs": [
    {
     "data": {
      "image/png": "[encoded data removed]",
      "text/plain": [
       "<Figure size 540x540 with 12 Axes>"
      ]
     },
     "metadata": {
      "needs_background": "light"
     },
     "output_type": "display_data"
    }
   ],
   "source": [
    "# График признаков попарно с разделением по типу\n",
    "%config InlineBackend.figure_format = 'png' # формат изображений PNG, для сокращения времени отрисовки графиков\n",
    "sns.pairplot(data[features + target], \n",
    "            #hue = 'Type', # Признак разделения\n",
    "            kind=\"reg\", # Fit linear regression models to the scatter plots:\n",
    "            diag_kind = 'kde', # Признак разделения тип графика\n",
    "            ); "
   ]
  },
  {
   "cell_type": "code",
   "execution_count": 15,
   "metadata": {},
   "outputs": [
    {
     "data": {
      "text/plain": [
       "<matplotlib.collections.PathCollection at 0x7f4b839c3d10>"
      ]
     },
     "execution_count": 15,
     "metadata": {},
     "output_type": "execute_result"
    },
    {
     "data": {
      "image/png": "[encoded data removed]",
      "text/plain": [
       "<Figure size 432x288 with 1 Axes>"
      ]
     },
     "metadata": {
      "needs_background": "light"
     },
     "output_type": "display_data"
    }
   ],
   "source": [
    "#plt.scatter(data['ZIP CODE'],data['TOTAL UNITS'])\n",
    "plt.scatter(data['RESIDENTIAL UNITS'],data['TOTAL UNITS'])"
   ]
  },
  {
   "cell_type": "markdown",
   "metadata": {},
   "source": [
    "### Просмотр характеристик выбранных признаков"
   ]
  },
  {
   "cell_type": "code",
   "execution_count": 16,
   "metadata": {},
   "outputs": [
    {
     "name": "stdout",
     "output_type": "stream",
     "text": [
      "RESIDENTIAL UNITS 0 1844\n",
      "TAX CLASS AT TIME OF SALE 1 4\n"
     ]
    },
    {
     "data": {
      "image/png": "[encoded data removed]",
      "text/plain": [
       "<Figure size 1152x360 with 2 Axes>"
      ]
     },
     "metadata": {
      "needs_background": "light"
     },
     "output_type": "display_data"
    }
   ],
   "source": [
    "# Строим гистограммы по каждому признаку: \n",
    "#data[features].hist() #Упрощенный вывод графиков\n",
    "\n",
    "plt.figure(figsize=(16, 5))\n",
    "plot_number = 0\n",
    "for feature_name in features:\n",
    "    plot_number += 1\n",
    "    plt.subplot(1,3,plot_number)\n",
    "    plt.hist(data[feature_name])\n",
    "    \n",
    "    #plt.xlim( data[feature_name].min(), data[feature_name].max() )\n",
    "    \n",
    "    plt.title(feature_name)\n",
    "    plt.xlabel(u'Значения')\n",
    "    plt.ylabel(u'Частота')\n",
    "    print feature_name, data[feature_name].min(), data[feature_name].max()"
   ]
  },
  {
   "cell_type": "markdown",
   "metadata": {},
   "source": [
    "### Признак 'RESIDENTIAL UNITS'"
   ]
  },
  {
   "cell_type": "code",
   "execution_count": 17,
   "metadata": {
    "scrolled": true
   },
   "outputs": [
    {
     "data": {
      "text/html": [
       "<div>\n",
       "<style scoped>\n",
       "    .dataframe tbody tr th:only-of-type {\n",
       "        vertical-align: middle;\n",
       "    }\n",
       "\n",
       "    .dataframe tbody tr th {\n",
       "        vertical-align: top;\n",
       "    }\n",
       "\n",
       "    .dataframe thead th {\n",
       "        text-align: right;\n",
       "    }\n",
       "</style>\n",
       "<table border=\"1\" class=\"dataframe\">\n",
       "  <thead>\n",
       "    <tr style=\"text-align: right;\">\n",
       "      <th></th>\n",
       "      <th>RESIDENTIAL UNITS</th>\n",
       "    </tr>\n",
       "  </thead>\n",
       "  <tbody>\n",
       "    <tr>\n",
       "      <th>count</th>\n",
       "      <td>59759.000000</td>\n",
       "    </tr>\n",
       "    <tr>\n",
       "      <th>mean</th>\n",
       "      <td>1.728208</td>\n",
       "    </tr>\n",
       "    <tr>\n",
       "      <th>std</th>\n",
       "      <td>14.159398</td>\n",
       "    </tr>\n",
       "    <tr>\n",
       "      <th>min</th>\n",
       "      <td>0.000000</td>\n",
       "    </tr>\n",
       "    <tr>\n",
       "      <th>25%</th>\n",
       "      <td>0.000000</td>\n",
       "    </tr>\n",
       "    <tr>\n",
       "      <th>50%</th>\n",
       "      <td>1.000000</td>\n",
       "    </tr>\n",
       "    <tr>\n",
       "      <th>75%</th>\n",
       "      <td>2.000000</td>\n",
       "    </tr>\n",
       "    <tr>\n",
       "      <th>max</th>\n",
       "      <td>1844.000000</td>\n",
       "    </tr>\n",
       "  </tbody>\n",
       "</table>\n",
       "</div>"
      ],
      "text/plain": [
       "       RESIDENTIAL UNITS\n",
       "count       59759.000000\n",
       "mean            1.728208\n",
       "std            14.159398\n",
       "min             0.000000\n",
       "25%             0.000000\n",
       "50%             1.000000\n",
       "75%             2.000000\n",
       "max          1844.000000"
      ]
     },
     "execution_count": 17,
     "metadata": {},
     "output_type": "execute_result"
    }
   ],
   "source": [
    "data[['RESIDENTIAL UNITS']].describe()"
   ]
  },
  {
   "cell_type": "code",
   "execution_count": 18,
   "metadata": {},
   "outputs": [
    {
     "data": {
      "text/plain": [
       "<matplotlib.axes._subplots.AxesSubplot at 0x7f4b83a4eb90>"
      ]
     },
     "execution_count": 18,
     "metadata": {},
     "output_type": "execute_result"
    },
    {
     "data": {
      "text/plain": [
       "<Figure size 1152x360 with 0 Axes>"
      ]
     },
     "metadata": {},
     "output_type": "display_data"
    },
    {
     "data": {
      "image/png": "[encoded data removed]",
      "text/plain": [
       "<Figure size 432x288 with 1 Axes>"
      ]
     },
     "metadata": {
      "needs_background": "light"
     },
     "output_type": "display_data"
    }
   ],
   "source": [
    "plt.figure(figsize=(16, 5))\n",
    "data[['RESIDENTIAL UNITS']].plot(kind='line')"
   ]
  },
  {
   "cell_type": "code",
   "execution_count": 19,
   "metadata": {},
   "outputs": [
    {
     "data": {
      "text/plain": [
       "<matplotlib.axes._subplots.AxesSubplot at 0x7f4b83a39dd0>"
      ]
     },
     "execution_count": 19,
     "metadata": {},
     "output_type": "execute_result"
    },
    {
     "data": {
      "image/png": "[encoded data removed]",
      "text/plain": [
       "<Figure size 1152x72 with 1 Axes>"
      ]
     },
     "metadata": {
      "needs_background": "light"
     },
     "output_type": "display_data"
    }
   ],
   "source": [
    "plt.figure(figsize=(16, 1))\n",
    "sns.boxplot( data=data[['RESIDENTIAL UNITS']], orient=\"h\")"
   ]
  },
  {
   "cell_type": "code",
   "execution_count": 20,
   "metadata": {},
   "outputs": [
    {
     "name": "stdout",
     "output_type": "stream",
     "text": [
      "В выборке обнаружен \"выброс\" - 33 из 59759 значение(ий) с величиной отличающейся в 267.960 раз чем у 0.999448 части оставшейся выборки.\n"
     ]
    }
   ],
   "source": [
    "dcount = data['RESIDENTIAL UNITS'].count() # кол-во эл. общее\n",
    "dmean = data['RESIDENTIAL UNITS'].mean() # среднее зн. общее\n",
    "over_count = len(data[data['RESIDENTIAL UNITS'] > 200]) # кол-во эл. выше порогового\n",
    "over_mean = data[ data['RESIDENTIAL UNITS']  > 200 ]['RESIDENTIAL UNITS'].mean()  # среднее зн. выше порогового\n",
    "\n",
    "print \"В выборке обнаружен \\\"выброс\\\" - {} из {} значение(ий) с величиной отличающейся в {:.3f} раз чем у {:.6f} части оставшейся выборки.\".format( \n",
    "    over_count,\n",
    "    dcount,\n",
    "    over_mean / dmean, \n",
    "    (dcount - over_count * 1.0) / dcount )"
   ]
  },
  {
   "cell_type": "markdown",
   "metadata": {},
   "source": [
    "Данные элементы будут отброшены и не будут учитываться в дальнейшем анализе."
   ]
  },
  {
   "cell_type": "code",
   "execution_count": 21,
   "metadata": {},
   "outputs": [],
   "source": [
    "# оставить строки, с значение ниже порогового\n",
    "data = data[  ~  (data['RESIDENTIAL UNITS'] > 200) ]\n",
    "data = data[data['RESIDENTIAL UNITS'] != 0]"
   ]
  },
  {
   "cell_type": "code",
   "execution_count": 22,
   "metadata": {},
   "outputs": [
    {
     "data": {
      "text/plain": [
       "41031"
      ]
     },
     "execution_count": 22,
     "metadata": {},
     "output_type": "execute_result"
    }
   ],
   "source": [
    "len(data['RESIDENTIAL UNITS'])"
   ]
  },
  {
   "cell_type": "code",
   "execution_count": 23,
   "metadata": {},
   "outputs": [
    {
     "data": {
      "text/html": [
       "<div>\n",
       "<style scoped>\n",
       "    .dataframe tbody tr th:only-of-type {\n",
       "        vertical-align: middle;\n",
       "    }\n",
       "\n",
       "    .dataframe tbody tr th {\n",
       "        vertical-align: top;\n",
       "    }\n",
       "\n",
       "    .dataframe thead th {\n",
       "        text-align: right;\n",
       "    }\n",
       "</style>\n",
       "<table border=\"1\" class=\"dataframe\">\n",
       "  <thead>\n",
       "    <tr style=\"text-align: right;\">\n",
       "      <th></th>\n",
       "      <th>RESIDENTIAL UNITS</th>\n",
       "    </tr>\n",
       "  </thead>\n",
       "  <tbody>\n",
       "    <tr>\n",
       "      <th>count</th>\n",
       "      <td>41031.000000</td>\n",
       "    </tr>\n",
       "    <tr>\n",
       "      <th>mean</th>\n",
       "      <td>2.144574</td>\n",
       "    </tr>\n",
       "    <tr>\n",
       "      <th>std</th>\n",
       "      <td>6.195150</td>\n",
       "    </tr>\n",
       "    <tr>\n",
       "      <th>min</th>\n",
       "      <td>1.000000</td>\n",
       "    </tr>\n",
       "    <tr>\n",
       "      <th>25%</th>\n",
       "      <td>1.000000</td>\n",
       "    </tr>\n",
       "    <tr>\n",
       "      <th>50%</th>\n",
       "      <td>1.000000</td>\n",
       "    </tr>\n",
       "    <tr>\n",
       "      <th>75%</th>\n",
       "      <td>2.000000</td>\n",
       "    </tr>\n",
       "    <tr>\n",
       "      <th>max</th>\n",
       "      <td>198.000000</td>\n",
       "    </tr>\n",
       "  </tbody>\n",
       "</table>\n",
       "</div>"
      ],
      "text/plain": [
       "       RESIDENTIAL UNITS\n",
       "count       41031.000000\n",
       "mean            2.144574\n",
       "std             6.195150\n",
       "min             1.000000\n",
       "25%             1.000000\n",
       "50%             1.000000\n",
       "75%             2.000000\n",
       "max           198.000000"
      ]
     },
     "execution_count": 23,
     "metadata": {},
     "output_type": "execute_result"
    }
   ],
   "source": [
    "data[['RESIDENTIAL UNITS']].describe()"
   ]
  },
  {
   "cell_type": "code",
   "execution_count": 24,
   "metadata": {},
   "outputs": [
    {
     "data": {
      "text/plain": [
       "<matplotlib.axes._subplots.AxesSubplot at 0x7f4b83eb3310>"
      ]
     },
     "execution_count": 24,
     "metadata": {},
     "output_type": "execute_result"
    },
    {
     "data": {
      "text/plain": [
       "<Figure size 1152x360 with 0 Axes>"
      ]
     },
     "metadata": {},
     "output_type": "display_data"
    },
    {
     "data": {
      "image/png": "[encoded data removed]",
      "text/plain": [
       "<Figure size 432x288 with 1 Axes>"
      ]
     },
     "metadata": {
      "needs_background": "light"
     },
     "output_type": "display_data"
    }
   ],
   "source": [
    "plt.figure(figsize=(16, 5))\n",
    "data[['RESIDENTIAL UNITS']].plot(kind='line')"
   ]
  },
  {
   "cell_type": "code",
   "execution_count": 25,
   "metadata": {},
   "outputs": [
    {
     "data": {
      "text/plain": [
       "1     25968\n",
       "2     10282\n",
       "3      2525\n",
       "4       717\n",
       "6       373\n",
       "8       153\n",
       "5       138\n",
       "10       79\n",
       "7        68\n",
       "9        64\n",
       "Name: RESIDENTIAL UNITS, dtype: int64"
      ]
     },
     "execution_count": 25,
     "metadata": {},
     "output_type": "execute_result"
    }
   ],
   "source": [
    "data['RESIDENTIAL UNITS'].value_counts().head(10)"
   ]
  },
  {
   "cell_type": "code",
   "execution_count": 26,
   "metadata": {
    "scrolled": true
   },
   "outputs": [
    {
     "data": {
      "text/plain": [
       "<matplotlib.axes._subplots.AxesSubplot at 0x7f4b83ead4d0>"
      ]
     },
     "execution_count": 26,
     "metadata": {},
     "output_type": "execute_result"
    },
    {
     "data": {
      "image/png": "[encoded data removed]",
      "text/plain": [
       "<Figure size 1152x72 with 1 Axes>"
      ]
     },
     "metadata": {
      "needs_background": "light"
     },
     "output_type": "display_data"
    }
   ],
   "source": [
    "plt.figure(figsize=(16, 1))\n",
    "sns.boxplot( data=data[['RESIDENTIAL UNITS']], orient=\"h\")"
   ]
  },
  {
   "cell_type": "code",
   "execution_count": 27,
   "metadata": {
    "scrolled": true
   },
   "outputs": [
    {
     "name": "stdout",
     "output_type": "stream",
     "text": [
      "RESIDENTIAL UNITS 1 198\n",
      "TAX CLASS AT TIME OF SALE 1 4\n"
     ]
    },
    {
     "data": {
      "image/png": "[encoded data removed]",
      "text/plain": [
       "<Figure size 1152x360 with 2 Axes>"
      ]
     },
     "metadata": {
      "needs_background": "light"
     },
     "output_type": "display_data"
    }
   ],
   "source": [
    "# Строим гистограммы по каждому признаку: \n",
    "#data[features].hist() #Упрощенный вывод графиков\n",
    "\n",
    "plt.figure(num=1, figsize=(16, 5))\n",
    "plot_number = 0\n",
    "for feature_name in features:\n",
    "    plot_number += 1\n",
    "    plt.subplot(1,3,plot_number)\n",
    "    plt.hist(data[feature_name])\n",
    "    #plt.xlim( data[feature_name].min(), data[feature_name].max() )\n",
    "    \n",
    "    plt.title(feature_name)\n",
    "    plt.xlabel(u'Значения')\n",
    "    plt.ylabel(u'Частота')\n",
    "    print feature_name, data[feature_name].min(), data[feature_name].max()"
   ]
  },
  {
   "cell_type": "markdown",
   "metadata": {},
   "source": [
    "### Гистограмма целевой переменной"
   ]
  },
  {
   "cell_type": "code",
   "execution_count": 28,
   "metadata": {},
   "outputs": [
    {
     "data": {
      "text/html": [
       "<div>\n",
       "<style scoped>\n",
       "    .dataframe tbody tr th:only-of-type {\n",
       "        vertical-align: middle;\n",
       "    }\n",
       "\n",
       "    .dataframe tbody tr th {\n",
       "        vertical-align: top;\n",
       "    }\n",
       "\n",
       "    .dataframe thead th {\n",
       "        text-align: right;\n",
       "    }\n",
       "</style>\n",
       "<table border=\"1\" class=\"dataframe\">\n",
       "  <thead>\n",
       "    <tr style=\"text-align: right;\">\n",
       "      <th></th>\n",
       "      <th>SALE PRICE</th>\n",
       "    </tr>\n",
       "  </thead>\n",
       "  <tbody>\n",
       "    <tr>\n",
       "      <th>count</th>\n",
       "      <td>4.103100e+04</td>\n",
       "    </tr>\n",
       "    <tr>\n",
       "      <th>mean</th>\n",
       "      <td>1.299644e+06</td>\n",
       "    </tr>\n",
       "    <tr>\n",
       "      <th>std</th>\n",
       "      <td>3.305081e+06</td>\n",
       "    </tr>\n",
       "    <tr>\n",
       "      <th>min</th>\n",
       "      <td>1.000000e+00</td>\n",
       "    </tr>\n",
       "    <tr>\n",
       "      <th>25%</th>\n",
       "      <td>4.450000e+05</td>\n",
       "    </tr>\n",
       "    <tr>\n",
       "      <th>50%</th>\n",
       "      <td>6.800000e+05</td>\n",
       "    </tr>\n",
       "    <tr>\n",
       "      <th>75%</th>\n",
       "      <td>1.115000e+06</td>\n",
       "    </tr>\n",
       "    <tr>\n",
       "      <th>max</th>\n",
       "      <td>1.725000e+08</td>\n",
       "    </tr>\n",
       "  </tbody>\n",
       "</table>\n",
       "</div>"
      ],
      "text/plain": [
       "         SALE PRICE\n",
       "count  4.103100e+04\n",
       "mean   1.299644e+06\n",
       "std    3.305081e+06\n",
       "min    1.000000e+00\n",
       "25%    4.450000e+05\n",
       "50%    6.800000e+05\n",
       "75%    1.115000e+06\n",
       "max    1.725000e+08"
      ]
     },
     "execution_count": 28,
     "metadata": {},
     "output_type": "execute_result"
    }
   ],
   "source": [
    "data[target].describe()"
   ]
  },
  {
   "cell_type": "code",
   "execution_count": 29,
   "metadata": {},
   "outputs": [
    {
     "name": "stdout",
     "output_type": "stream",
     "text": [
      "600000    336\n",
      "650000    323\n",
      "550000    321\n",
      "450000    319\n",
      "700000    318\n",
      "400000    298\n",
      "750000    290\n",
      "500000    278\n",
      "900000    267\n",
      "800000    265\n",
      "Name: SALE PRICE, dtype: int64\n"
     ]
    },
    {
     "data": {
      "text/plain": [
       "1    26357\n",
       "2    13779\n",
       "4      195\n",
       "Name: TAX CLASS AT TIME OF SALE, dtype: int64"
      ]
     },
     "execution_count": 29,
     "metadata": {},
     "output_type": "execute_result"
    }
   ],
   "source": [
    "data = data[data['SALE PRICE'] != 10]\n",
    "print data['SALE PRICE'].value_counts().head(10)\n",
    "data['TAX CLASS AT TIME OF SALE'].value_counts().head(10)"
   ]
  },
  {
   "cell_type": "code",
   "execution_count": 30,
   "metadata": {
    "scrolled": true
   },
   "outputs": [
    {
     "data": {
      "text/plain": [
       "<matplotlib.axes._subplots.AxesSubplot at 0x7f4b83b84b90>"
      ]
     },
     "execution_count": 30,
     "metadata": {},
     "output_type": "execute_result"
    },
    {
     "data": {
      "text/plain": [
       "<Figure size 1152x360 with 0 Axes>"
      ]
     },
     "metadata": {},
     "output_type": "display_data"
    },
    {
     "data": {
      "image/png": "[encoded data removed]",
      "text/plain": [
       "<Figure size 432x288 with 1 Axes>"
      ]
     },
     "metadata": {
      "needs_background": "light"
     },
     "output_type": "display_data"
    }
   ],
   "source": [
    "plt.figure(figsize=(16, 5))\n",
    "data[target].plot(kind='line')"
   ]
  },
  {
   "cell_type": "code",
   "execution_count": 31,
   "metadata": {
    "scrolled": true
   },
   "outputs": [
    {
     "data": {
      "text/plain": [
       "<matplotlib.axes._subplots.AxesSubplot at 0x7f4b83dfbe90>"
      ]
     },
     "execution_count": 31,
     "metadata": {},
     "output_type": "execute_result"
    },
    {
     "data": {
      "image/png": "[encoded data removed]",
      "text/plain": [
       "<Figure size 1152x72 with 1 Axes>"
      ]
     },
     "metadata": {
      "needs_background": "light"
     },
     "output_type": "display_data"
    }
   ],
   "source": [
    "plt.figure(figsize=(16, 1))\n",
    "sns.boxplot( data=data[target], orient=\"h\")"
   ]
  },
  {
   "cell_type": "code",
   "execution_count": 32,
   "metadata": {},
   "outputs": [
    {
     "name": "stdout",
     "output_type": "stream",
     "text": [
      "В выборке обнаружен \"выброс\" - 135 из 40331 значение(ий) с величиной отличающейся в 31.562 раз чем у 0.996653 части оставшейся выборки.\n"
     ]
    }
   ],
   "source": [
    "dcount = data['SALE PRICE'].count() # кол-во эл. общее\n",
    "dmean = data['SALE PRICE'].mean() # среднее зн. общее\n",
    "over_count = len(data[data['SALE PRICE'] > 23000000]) # кол-во эл. выше порогового\n",
    "over_mean = data[ data['SALE PRICE']  > 23000000 ]['SALE PRICE'].mean()  # среднее зн. выше порогового\n",
    "\n",
    "print \"В выборке обнаружен \\\"выброс\\\" - {} из {} значение(ий) с величиной отличающейся в {:.3f} раз чем у {:.6f} части оставшейся выборки.\".format( \n",
    "    over_count,\n",
    "    dcount,\n",
    "    over_mean / dmean, \n",
    "    (dcount - over_count * 1.0) / dcount )"
   ]
  },
  {
   "cell_type": "code",
   "execution_count": 33,
   "metadata": {},
   "outputs": [],
   "source": [
    "data = data[  ~  (data['SALE PRICE'] > 23000000) ]"
   ]
  },
  {
   "cell_type": "code",
   "execution_count": 34,
   "metadata": {},
   "outputs": [
    {
     "name": "stdout",
     "output_type": "stream",
     "text": [
      "Коэфф. асимметрии, эксцесса в числовом виде\n"
     ]
    },
    {
     "data": {
      "image/png": "[encoded data removed]",
      "text/plain": [
       "<Figure size 576x360 with 1 Axes>"
      ]
     },
     "metadata": {
      "needs_background": "light"
     },
     "output_type": "display_data"
    }
   ],
   "source": [
    "plt.figure(figsize=(8,5))\n",
    "sns.distplot(data[target],  hist=True) # Ядерная оценка плотности (KDE - Kernel density estimation)\n",
    "plt.title(u'График распределения величины')\n",
    "print \"Коэфф. асимметрии, эксцесса в числовом виде\""
   ]
  },
  {
   "cell_type": "code",
   "execution_count": 35,
   "metadata": {},
   "outputs": [
    {
     "data": {
      "text/plain": [
       "((array([-4.14160715, -3.93351091, -3.81996654, ...,  3.81996654,\n",
       "          3.93351091,  4.14160715]),\n",
       "  array([       1,        1,        1, ..., 23000000, 23000000, 23000000])),\n",
       " (1254045.7908988122, 1186483.2983878988, 0.6723566896299799))"
      ]
     },
     "execution_count": 35,
     "metadata": {},
     "output_type": "execute_result"
    },
    {
     "data": {
      "image/png": "[encoded data removed]",
      "text/plain": [
       "<Figure size 576x360 with 1 Axes>"
      ]
     },
     "metadata": {
      "needs_background": "light"
     },
     "output_type": "display_data"
    }
   ],
   "source": [
    "# диаграмма вероятности\n",
    "plt.figure(figsize=(8,5))\n",
    "stats.probplot(data['SALE PRICE'], plot=plt)"
   ]
  },
  {
   "cell_type": "markdown",
   "metadata": {},
   "source": [
    "## Построение регрессионных моделей"
   ]
  },
  {
   "cell_type": "code",
   "execution_count": 36,
   "metadata": {},
   "outputs": [],
   "source": [
    "valid_size = 0.3 # доля тестовой части в выборке\n",
    "rand_seed = 8 # начальное состояние генератора случ. чисел\n",
    "\n",
    "x_train, x_test, y_train, y_test =  train_test_split(\n",
    "    data[features], data[target], # исходные данные\n",
    "    test_size = valid_size, \n",
    "    random_state=rand_seed, \n",
    "    shuffle=True # перемешивание\n",
    ") "
   ]
  },
  {
   "cell_type": "code",
   "execution_count": 37,
   "metadata": {},
   "outputs": [
    {
     "name": "stdout",
     "output_type": "stream",
     "text": [
      "Кол-во элементов: \n",
      "  x_train: 28137, y_train 28137 \n",
      "  x_test:  12059, y_test  12059 \n",
      "  total x: 40196, total y 40196 \n"
     ]
    }
   ],
   "source": [
    "print \"Кол-во элементов: \\n  x_train: {}, y_train {} \\n  x_test:  {}, y_test  {} \\n  total x: {}, total y {} \".format  (\n",
    "    len(x_train), len(y_train),\n",
    "    len(x_test),  len(x_test), \n",
    "    len(x_train)+len(x_test), len(y_train)+len(x_test),\n",
    ")"
   ]
  },
  {
   "cell_type": "code",
   "execution_count": 38,
   "metadata": {},
   "outputs": [
    {
     "data": {
      "text/html": [
       "<div>\n",
       "<style scoped>\n",
       "    .dataframe tbody tr th:only-of-type {\n",
       "        vertical-align: middle;\n",
       "    }\n",
       "\n",
       "    .dataframe tbody tr th {\n",
       "        vertical-align: top;\n",
       "    }\n",
       "\n",
       "    .dataframe thead th {\n",
       "        text-align: right;\n",
       "    }\n",
       "</style>\n",
       "<table border=\"1\" class=\"dataframe\">\n",
       "  <thead>\n",
       "    <tr style=\"text-align: right;\">\n",
       "      <th></th>\n",
       "      <th>RESIDENTIAL UNITS</th>\n",
       "      <th>TAX CLASS AT TIME OF SALE</th>\n",
       "    </tr>\n",
       "  </thead>\n",
       "  <tbody>\n",
       "    <tr>\n",
       "      <th>8439</th>\n",
       "      <td>1</td>\n",
       "      <td>2</td>\n",
       "    </tr>\n",
       "    <tr>\n",
       "      <th>61924</th>\n",
       "      <td>3</td>\n",
       "      <td>1</td>\n",
       "    </tr>\n",
       "    <tr>\n",
       "      <th>53459</th>\n",
       "      <td>1</td>\n",
       "      <td>1</td>\n",
       "    </tr>\n",
       "  </tbody>\n",
       "</table>\n",
       "</div>"
      ],
      "text/plain": [
       "       RESIDENTIAL UNITS  TAX CLASS AT TIME OF SALE\n",
       "8439                   1                          2\n",
       "61924                  3                          1\n",
       "53459                  1                          1"
      ]
     },
     "execution_count": 38,
     "metadata": {},
     "output_type": "execute_result"
    }
   ],
   "source": [
    "x_train[:3]"
   ]
  },
  {
   "cell_type": "code",
   "execution_count": 39,
   "metadata": {},
   "outputs": [
    {
     "data": {
      "text/html": [
       "<div>\n",
       "<style scoped>\n",
       "    .dataframe tbody tr th:only-of-type {\n",
       "        vertical-align: middle;\n",
       "    }\n",
       "\n",
       "    .dataframe tbody tr th {\n",
       "        vertical-align: top;\n",
       "    }\n",
       "\n",
       "    .dataframe thead th {\n",
       "        text-align: right;\n",
       "    }\n",
       "</style>\n",
       "<table border=\"1\" class=\"dataframe\">\n",
       "  <thead>\n",
       "    <tr style=\"text-align: right;\">\n",
       "      <th></th>\n",
       "      <th>SALE PRICE</th>\n",
       "    </tr>\n",
       "  </thead>\n",
       "  <tbody>\n",
       "    <tr>\n",
       "      <th>8439</th>\n",
       "      <td>3100000</td>\n",
       "    </tr>\n",
       "    <tr>\n",
       "      <th>61924</th>\n",
       "      <td>667479</td>\n",
       "    </tr>\n",
       "    <tr>\n",
       "      <th>53459</th>\n",
       "      <td>650000</td>\n",
       "    </tr>\n",
       "  </tbody>\n",
       "</table>\n",
       "</div>"
      ],
      "text/plain": [
       "       SALE PRICE\n",
       "8439      3100000\n",
       "61924      667479\n",
       "53459      650000"
      ]
     },
     "execution_count": 39,
     "metadata": {},
     "output_type": "execute_result"
    }
   ],
   "source": [
    "y_train[:3]"
   ]
  },
  {
   "cell_type": "code",
   "execution_count": 40,
   "metadata": {},
   "outputs": [],
   "source": [
    "from sklearn import linear_model\n",
    "from sklearn.linear_model import LinearRegression"
   ]
  },
  {
   "cell_type": "markdown",
   "metadata": {},
   "source": [
    "### Одномерная модель от признака 'RESIDENTIAL UNITS'"
   ]
  },
  {
   "cell_type": "code",
   "execution_count": 41,
   "metadata": {},
   "outputs": [],
   "source": [
    "lr = linear_model.LinearRegression()\n",
    "\n",
    "x1 = x_train['RESIDENTIAL UNITS'].values.reshape(-1, 1)\n",
    "y1 = y_train['SALE PRICE'].values.reshape(-1, 1)\n",
    "x2 = x_test['RESIDENTIAL UNITS'].values.reshape(-1, 1)\n",
    "y2 = y_test['SALE PRICE'].values.reshape(-1, 1)"
   ]
  },
  {
   "cell_type": "code",
   "execution_count": 42,
   "metadata": {},
   "outputs": [],
   "source": [
    "# Вычислить коэфф. на тренировочном наборе\n",
    "lin_model = lr.fit(x1, y1)\n",
    "# Получить предсказание на проверочном наборе\n",
    "y_pred  = lin_model.predict(x2)"
   ]
  },
  {
   "cell_type": "code",
   "execution_count": 43,
   "metadata": {},
   "outputs": [
    {
     "data": {
      "text/plain": [
       "<Figure size 1080x360 with 0 Axes>"
      ]
     },
     "metadata": {},
     "output_type": "display_data"
    },
    {
     "data": {
      "image/png": "[encoded data removed]",
      "text/plain": [
       "<Figure size 432x288 with 1 Axes>"
      ]
     },
     "metadata": {
      "needs_background": "light"
     },
     "output_type": "display_data"
    }
   ],
   "source": [
    "plt.figure(figsize=(15,5))\n",
    "fig, ax = plt.subplots()\n",
    "ax.scatter(x1, y1, label=u'Тренировочный') # тренировочный\n",
    "ax.scatter(x2, y2, label=u'Проверочный') # проверочный\n",
    "ax.plot( x2, y_pred, lw=2, color='red',\n",
    "        label=\"y_pred (x) = x * {:.0f} + {:.0f}\".format(lin_model.coef_[0][0], lin_model.intercept_[0]))\n",
    "ax.legend(loc=\"best\")\n",
    "ax.set_xlabel('RESIDENTIAL UNITS')\n",
    "ax.set_ylabel(target[0])\n",
    "\n",
    "plt.show()"
   ]
  },
  {
   "cell_type": "code",
   "execution_count": 44,
   "metadata": {},
   "outputs": [
    {
     "data": {
      "text/plain": [
       "Text(0.5,0,u'\\u0417\\u043d\\u0430\\u0447\\u0435\\u043d\\u0438\\u0435')"
      ]
     },
     "execution_count": 44,
     "metadata": {},
     "output_type": "execute_result"
    },
    {
     "data": {
      "image/png": "[encoded data removed]",
      "text/plain": [
       "<Figure size 432x288 with 1 Axes>"
      ]
     },
     "metadata": {
      "needs_background": "light"
     },
     "output_type": "display_data"
    }
   ],
   "source": [
    "plt.figure(figsize=(6,4))\n",
    "sns.distplot(y2 - y_pred)\n",
    "plt.title(u'Плотность распределения ошибок');\n",
    "plt.ylabel(u'Плотность')\n",
    "plt.xlabel(u'Значение')"
   ]
  },
  {
   "cell_type": "code",
   "execution_count": 45,
   "metadata": {},
   "outputs": [
    {
     "name": "stdout",
     "output_type": "stream",
     "text": [
      "y_pred (x) = x * 120072 + 944818\n",
      "\n",
      "MAE Mean absolute error: 841018\n",
      "MSE Mean squared error: 2925920779145\n",
      "RMSE: 1710532\n",
      "R2 of Linear Regression (1 is perfect): 0.124\n"
     ]
    }
   ],
   "source": [
    "print \"y_pred (x) = x * {:.0f} + {:.0f}\\n\".format(lin_model.coef_[0][0], lin_model.intercept_[0])\n",
    "\n",
    "print \"MAE Mean absolute error: {:.0f}\".format( mean_absolute_error(y2, y_pred))\n",
    "print \"MSE Mean squared error: {:.0f}\".format( mean_squared_error(y2, y_pred))\n",
    "print \"RMSE: {:.0f}\".format(np.sqrt( mean_squared_error(y2, y_pred) ))\n",
    "print \"R2 of Linear Regression (1 is perfect): {:.3f}\".format( r2_score(y2, y_pred))"
   ]
  },
  {
   "cell_type": "code",
   "execution_count": 46,
   "metadata": {},
   "outputs": [
    {
     "data": {
      "text/html": [
       "<div>\n",
       "<style scoped>\n",
       "    .dataframe tbody tr th:only-of-type {\n",
       "        vertical-align: middle;\n",
       "    }\n",
       "\n",
       "    .dataframe tbody tr th {\n",
       "        vertical-align: top;\n",
       "    }\n",
       "\n",
       "    .dataframe thead th {\n",
       "        text-align: right;\n",
       "    }\n",
       "</style>\n",
       "<table border=\"1\" class=\"dataframe\">\n",
       "  <thead>\n",
       "    <tr style=\"text-align: right;\">\n",
       "      <th></th>\n",
       "      <th>__Проверочное</th>\n",
       "      <th>_Предсказанные</th>\n",
       "      <th>Ошибка</th>\n",
       "    </tr>\n",
       "  </thead>\n",
       "  <tbody>\n",
       "    <tr>\n",
       "      <th>0</th>\n",
       "      <td>1055000</td>\n",
       "      <td>1.064890e+06</td>\n",
       "      <td>-9890.406363</td>\n",
       "    </tr>\n",
       "    <tr>\n",
       "      <th>1</th>\n",
       "      <td>800000</td>\n",
       "      <td>1.064890e+06</td>\n",
       "      <td>-264890.406363</td>\n",
       "    </tr>\n",
       "    <tr>\n",
       "      <th>2</th>\n",
       "      <td>1130000</td>\n",
       "      <td>1.305035e+06</td>\n",
       "      <td>-175035.132475</td>\n",
       "    </tr>\n",
       "    <tr>\n",
       "      <th>3</th>\n",
       "      <td>380000</td>\n",
       "      <td>1.064890e+06</td>\n",
       "      <td>-684890.406363</td>\n",
       "    </tr>\n",
       "    <tr>\n",
       "      <th>4</th>\n",
       "      <td>830000</td>\n",
       "      <td>1.184963e+06</td>\n",
       "      <td>-354962.769419</td>\n",
       "    </tr>\n",
       "  </tbody>\n",
       "</table>\n",
       "</div>"
      ],
      "text/plain": [
       "   __Проверочное  _Предсказанные         Ошибка\n",
       "0        1055000    1.064890e+06   -9890.406363\n",
       "1         800000    1.064890e+06 -264890.406363\n",
       "2        1130000    1.305035e+06 -175035.132475\n",
       "3         380000    1.064890e+06 -684890.406363\n",
       "4         830000    1.184963e+06 -354962.769419"
      ]
     },
     "execution_count": 46,
     "metadata": {},
     "output_type": "execute_result"
    }
   ],
   "source": [
    "df = { u'__Проверочное':  y2.reshape(1,-1)[0],\n",
    "       u'_Предсказанные': y_pred.reshape(1,-1)[0],\n",
    "       u'Ошибка':  (y2 - y_pred).reshape(1,-1)[0]} \n",
    "df = pd.DataFrame(df) \n",
    "df.head()"
   ]
  },
  {
   "cell_type": "code",
   "execution_count": 47,
   "metadata": {},
   "outputs": [
    {
     "data": {
      "text/plain": [
       "Text(0,0.5,u'\\u041f\\u0440\\u0435\\u0434\\u0441\\u043a\\u0430\\u0437\\u0430\\u043d\\u043d\\u043e\\u0435 Y')"
      ]
     },
     "execution_count": 47,
     "metadata": {},
     "output_type": "execute_result"
    },
    {
     "data": {
      "image/png": "[encoded data removed]",
      "text/plain": [
       "<Figure size 432x288 with 1 Axes>"
      ]
     },
     "metadata": {
      "needs_background": "light"
     },
     "output_type": "display_data"
    }
   ],
   "source": [
    "plt.scatter(y2,y_pred)\n",
    "plt.scatter(y2,y2)\n",
    "plt.title(u'График ошибок');\n",
    "plt.xlabel(u'Проверочное Y')\n",
    "plt.ylabel(u'Предсказанное Y')"
   ]
  },
  {
   "cell_type": "code",
   "execution_count": 48,
   "metadata": {},
   "outputs": [
    {
     "data": {
      "text/plain": [
       "Text(0,0.5,u'\\u0410\\u0431\\u0441\\u043e\\u043b\\u044e\\u0442\\u043d\\u0430\\u044f \\u043e\\u0448\\u0438\\u0431\\u043a\\u0430')"
      ]
     },
     "execution_count": 48,
     "metadata": {},
     "output_type": "execute_result"
    },
    {
     "data": {
      "image/png": "[encoded data removed]",
      "text/plain": [
       "<Figure size 432x288 with 1 Axes>"
      ]
     },
     "metadata": {
      "needs_background": "light"
     },
     "output_type": "display_data"
    }
   ],
   "source": [
    "plt.scatter(y2,y2- y_pred)\n",
    "\n",
    "plt.title(u'График ошибок')\n",
    "plt.xlabel(u'Проверочное Y')\n",
    "plt.ylabel(u'Абсолютная ошибка')"
   ]
  },
  {
   "cell_type": "markdown",
   "metadata": {},
   "source": [
    "###  Одномерная модель от признака 'TAX CLASS AT TIME OF SALE'"
   ]
  },
  {
   "cell_type": "code",
   "execution_count": 49,
   "metadata": {},
   "outputs": [],
   "source": [
    "lr = linear_model.LinearRegression()\n",
    "\n",
    "x1 = x_train['TAX CLASS AT TIME OF SALE'].values.reshape(-1, 1)\n",
    "y1 = y_train['SALE PRICE'].values.reshape(-1, 1)\n",
    "x2 = x_test['TAX CLASS AT TIME OF SALE'].values.reshape(-1, 1)\n",
    "y2 = y_test['SALE PRICE'].values.reshape(-1, 1)"
   ]
  },
  {
   "cell_type": "code",
   "execution_count": 50,
   "metadata": {},
   "outputs": [],
   "source": [
    "# Вычислить коэфф. на тренировочном наборе\n",
    "lin_model = lr.fit(x1, y1)\n",
    "# Получить предсказание на проверочном наборе\n",
    "y_pred  = lin_model.predict(x2)"
   ]
  },
  {
   "cell_type": "code",
   "execution_count": 51,
   "metadata": {},
   "outputs": [
    {
     "data": {
      "text/plain": [
       "<Figure size 1080x360 with 0 Axes>"
      ]
     },
     "metadata": {},
     "output_type": "display_data"
    },
    {
     "data": {
      "image/png": "[encoded data removed]",
      "text/plain": [
       "<Figure size 432x288 with 1 Axes>"
      ]
     },
     "metadata": {
      "needs_background": "light"
     },
     "output_type": "display_data"
    }
   ],
   "source": [
    "plt.figure(figsize=(15,5))\n",
    "fig, ax = plt.subplots()\n",
    "ax.scatter(x1, y1, label=u'Тренировочный') # тренировочный\n",
    "ax.scatter(x2, y2, label=u'Проверочный') # проверочный\n",
    "ax.plot( x2, y_pred, lw=2, color='red',\n",
    "        label=\"y_pred (x) = x * {:.0f} + {:.0f}\".format(lin_model.coef_[0][0], lin_model.intercept_[0]))\n",
    "ax.legend(loc=\"best\")\n",
    "ax.set_xlabel('TAX CLASS AT TIME OF SALE')\n",
    "ax.set_ylabel(target[0])\n",
    "\n",
    "plt.show()"
   ]
  },
  {
   "cell_type": "code",
   "execution_count": 52,
   "metadata": {},
   "outputs": [
    {
     "data": {
      "text/plain": [
       "Text(0.5,0,u'\\u0417\\u043d\\u0430\\u0447\\u0435\\u043d\\u0438\\u0435')"
      ]
     },
     "execution_count": 52,
     "metadata": {},
     "output_type": "execute_result"
    },
    {
     "data": {
      "image/png": "[encoded data removed]",
      "text/plain": [
       "<Figure size 432x288 with 1 Axes>"
      ]
     },
     "metadata": {
      "needs_background": "light"
     },
     "output_type": "display_data"
    }
   ],
   "source": [
    "plt.figure(figsize=(6,4))\n",
    "sns.distplot(y2 - y_pred)\n",
    "plt.title(u'Плотность распределения ошибок');\n",
    "plt.ylabel(u'Плотность')\n",
    "plt.xlabel(u'Значение')"
   ]
  },
  {
   "cell_type": "code",
   "execution_count": 53,
   "metadata": {},
   "outputs": [
    {
     "name": "stdout",
     "output_type": "stream",
     "text": [
      "y_pred (x) = x * 1199461 + -435197\n",
      "\n",
      "MAE Mean absolute error: 810763\n",
      "MSE Mean squared error: 2984955423457\n",
      "RMSE: 1727702\n",
      "R2 of Linear Regression (1 is perfect): 0.106\n"
     ]
    }
   ],
   "source": [
    "print \"y_pred (x) = x * {:.0f} + {:.0f}\\n\".format(lin_model.coef_[0][0], lin_model.intercept_[0])\n",
    "\n",
    "print \"MAE Mean absolute error: {:.0f}\".format( mean_absolute_error(y2, y_pred))\n",
    "print \"MSE Mean squared error: {:.0f}\".format( mean_squared_error(y2, y_pred))\n",
    "print \"RMSE: {:.0f}\".format(np.sqrt( mean_squared_error(y2, y_pred) ))\n",
    "print \"R2 of Linear Regression (1 is perfect): {:.3f}\".format( r2_score(y2, y_pred))"
   ]
  },
  {
   "cell_type": "code",
   "execution_count": 54,
   "metadata": {},
   "outputs": [
    {
     "data": {
      "text/html": [
       "<div>\n",
       "<style scoped>\n",
       "    .dataframe tbody tr th:only-of-type {\n",
       "        vertical-align: middle;\n",
       "    }\n",
       "\n",
       "    .dataframe tbody tr th {\n",
       "        vertical-align: top;\n",
       "    }\n",
       "\n",
       "    .dataframe thead th {\n",
       "        text-align: right;\n",
       "    }\n",
       "</style>\n",
       "<table border=\"1\" class=\"dataframe\">\n",
       "  <thead>\n",
       "    <tr style=\"text-align: right;\">\n",
       "      <th></th>\n",
       "      <th>__Проверочное</th>\n",
       "      <th>_Предсказанные</th>\n",
       "      <th>Ошибка</th>\n",
       "    </tr>\n",
       "  </thead>\n",
       "  <tbody>\n",
       "    <tr>\n",
       "      <th>0</th>\n",
       "      <td>1055000</td>\n",
       "      <td>1.963726e+06</td>\n",
       "      <td>-908725.650212</td>\n",
       "    </tr>\n",
       "    <tr>\n",
       "      <th>1</th>\n",
       "      <td>800000</td>\n",
       "      <td>7.642642e+05</td>\n",
       "      <td>35735.811022</td>\n",
       "    </tr>\n",
       "    <tr>\n",
       "      <th>2</th>\n",
       "      <td>1130000</td>\n",
       "      <td>7.642642e+05</td>\n",
       "      <td>365735.811022</td>\n",
       "    </tr>\n",
       "    <tr>\n",
       "      <th>3</th>\n",
       "      <td>380000</td>\n",
       "      <td>7.642642e+05</td>\n",
       "      <td>-384264.188978</td>\n",
       "    </tr>\n",
       "    <tr>\n",
       "      <th>4</th>\n",
       "      <td>830000</td>\n",
       "      <td>7.642642e+05</td>\n",
       "      <td>65735.811022</td>\n",
       "    </tr>\n",
       "  </tbody>\n",
       "</table>\n",
       "</div>"
      ],
      "text/plain": [
       "   __Проверочное  _Предсказанные         Ошибка\n",
       "0        1055000    1.963726e+06 -908725.650212\n",
       "1         800000    7.642642e+05   35735.811022\n",
       "2        1130000    7.642642e+05  365735.811022\n",
       "3         380000    7.642642e+05 -384264.188978\n",
       "4         830000    7.642642e+05   65735.811022"
      ]
     },
     "execution_count": 54,
     "metadata": {},
     "output_type": "execute_result"
    }
   ],
   "source": [
    "df = { u'__Проверочное':  y2.reshape(1,-1)[0],\n",
    "       u'_Предсказанные': y_pred.reshape(1,-1)[0],\n",
    "       u'Ошибка':  (y2 - y_pred).reshape(1,-1)[0]} \n",
    "df = pd.DataFrame(df) \n",
    "df.head()"
   ]
  },
  {
   "cell_type": "code",
   "execution_count": 55,
   "metadata": {},
   "outputs": [
    {
     "data": {
      "text/plain": [
       "Text(0,0.5,u'\\u041f\\u0440\\u0435\\u0434\\u0441\\u043a\\u0430\\u0437\\u0430\\u043d\\u043d\\u043e\\u0435 Y')"
      ]
     },
     "execution_count": 55,
     "metadata": {},
     "output_type": "execute_result"
    },
    {
     "data": {
      "image/png": "[encoded data removed]",
      "text/plain": [
       "<Figure size 432x288 with 1 Axes>"
      ]
     },
     "metadata": {
      "needs_background": "light"
     },
     "output_type": "display_data"
    }
   ],
   "source": [
    "plt.scatter(y2,y_pred)\n",
    "plt.scatter(y2,y2)\n",
    "plt.title(u'График ошибок');\n",
    "plt.xlabel(u'Проверочное Y')\n",
    "plt.ylabel(u'Предсказанное Y')"
   ]
  },
  {
   "cell_type": "code",
   "execution_count": 56,
   "metadata": {},
   "outputs": [
    {
     "data": {
      "text/plain": [
       "Text(0,0.5,u'\\u0410\\u0431\\u0441\\u043e\\u043b\\u044e\\u0442\\u043d\\u0430\\u044f \\u043e\\u0448\\u0438\\u0431\\u043a\\u0430')"
      ]
     },
     "execution_count": 56,
     "metadata": {},
     "output_type": "execute_result"
    },
    {
     "data": {
      "image/png": "[encoded data removed]",
      "text/plain": [
       "<Figure size 432x288 with 1 Axes>"
      ]
     },
     "metadata": {
      "needs_background": "light"
     },
     "output_type": "display_data"
    }
   ],
   "source": [
    "plt.scatter(y2,y2- y_pred)\n",
    "\n",
    "plt.title(u'График ошибок')\n",
    "plt.xlabel(u'Проверочное Y')\n",
    "plt.ylabel(u'Абсолютная ошибка')"
   ]
  },
  {
   "cell_type": "markdown",
   "metadata": {},
   "source": [
    "## Вывод\n",
    "Не наблюдается корреляция между ценой продажи и количеством помещений. Корреляция между ценой продажи и классом налога на момент продажи также отсутствует."
   ]
  },
  {
   "cell_type": "markdown",
   "metadata": {},
   "source": [
    "## Для ЛР2\n"
   ]
  },
  {
   "cell_type": "code",
   "execution_count": 58,
   "metadata": {},
   "outputs": [],
   "source": [
    "#Сохраняем данные в csv\n",
    "data.to_csv('../Lab2/data.csv', index=False)"
   ]
  },
  {
   "cell_type": "code",
   "execution_count": 59,
   "metadata": {},
   "outputs": [
    {
     "data": {
      "text/plain": [
       "(40196, 22)"
      ]
     },
     "execution_count": 59,
     "metadata": {},
     "output_type": "execute_result"
    }
   ],
   "source": [
    "data.shape\n"
   ]
  },
  {
   "cell_type": "code",
   "execution_count": null,
   "metadata": {},
   "outputs": [],
   "source": []
  }
 ],
 "metadata": {
  "kernelspec": {
   "display_name": "Python 2",
   "language": "python",
   "name": "python2"
  },
  "language_info": {
   "codemirror_mode": {
    "name": "ipython",
    "version": 2
   },
   "file_extension": ".py",
   "mimetype": "text/x-python",
   "name": "python",
   "nbconvert_exporter": "python",
   "pygments_lexer": "ipython2",
   "version": "2.7.15+"
  }
 },
 "nbformat": 4,
 "nbformat_minor": 2
}
