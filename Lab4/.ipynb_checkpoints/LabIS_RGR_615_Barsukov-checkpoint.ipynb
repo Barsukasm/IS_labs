{
 "cells": [
  {
   "cell_type": "code",
   "execution_count": 1,
   "metadata": {},
   "outputs": [],
   "source": [
    "import pandas as pd\n",
    "import numpy as np\n",
    "\n",
    "###import pybrain as pb\n",
    "from pybrain.tools.shortcuts import buildNetwork\n",
    "from pybrain.supervised.trainers import BackpropTrainer\n",
    "from pybrain.datasets import SupervisedDataSet\n",
    "from pybrain.structure import SigmoidLayer\n",
    "from pybrain.structure import LinearLayer\n",
    "from pybrain.structure import SoftmaxLayer\n",
    "\n",
    "from sklearn import linear_model\n",
    "from sklearn import tree\n",
    "from sklearn import metrics\n",
    "from sklearn import preprocessing\n",
    "from sklearn.model_selection import train_test_split, cross_val_score\n",
    "\n",
    "from sklearn.preprocessing import MinMaxScaler\n",
    "from sklearn.preprocessing import MaxAbsScaler\n",
    "from sklearn.preprocessing import StandardScaler\n",
    "from sklearn.preprocessing import RobustScaler\n",
    "\n",
    "from sklearn.preprocessing import Normalizer\n",
    "from sklearn.preprocessing import QuantileTransformer\n",
    "from sklearn.preprocessing import PowerTransformer\n",
    "\n",
    "import pickle\n",
    "import json\n",
    "\n",
    "import seaborn as sns; sns.set()\n",
    "import matplotlib.pyplot as plt\n",
    "from sklearn.tree import export_graphviz\n",
    "\n",
    "pd.set_option('display.precision', 3);\n",
    "%matplotlib inline\n",
    "\n",
    "import numpy as np\n",
    "from scipy.stats import norm\n",
    "from sklearn.linear_model import LinearRegression\n",
    "import json"
   ]
  },
  {
   "cell_type": "markdown",
   "metadata": {},
   "source": [
    "# Загрузка данных"
   ]
  },
  {
   "cell_type": "code",
   "execution_count": 2,
   "metadata": {},
   "outputs": [],
   "source": [
    "dataTEST = pd.read_csv(\"./WV_test.csv\", # путь к файлу, используй автодотолнение\n",
    "                   sep=',', # разделитель данных в файле\n",
    "                   header=0 # номер строки с заголовками. header='None', если заголовки отсутствуют\n",
    "                  )\n",
    "dataTEST_Norm = pd.read_csv(\"./WVNorm_test.csv\", # путь к файлу, используй автодотолнение\n",
    "                   sep=',', # разделитель данных в файле\n",
    "                   header=0 # номер строки с заголовками. header='None', если заголовки отсутствуют\n",
    "                  )"
   ]
  },
  {
   "cell_type": "code",
   "execution_count": 3,
   "metadata": {},
   "outputs": [
    {
     "data": {
      "text/plain": [
       "(12059, 22)"
      ]
     },
     "execution_count": 3,
     "metadata": {},
     "output_type": "execute_result"
    }
   ],
   "source": [
    "dataTEST.shape"
   ]
  },
  {
   "cell_type": "code",
   "execution_count": 4,
   "metadata": {},
   "outputs": [
    {
     "data": {
      "text/plain": [
       "Index([u'Unnamed: 0', u'BOROUGH', u'NEIGHBORHOOD', u'BUILDING CLASS CATEGORY',\n",
       "       u'TAX CLASS AT PRESENT', u'BLOCK', u'LOT', u'EASE-MENT',\n",
       "       u'BUILDING CLASS AT PRESENT', u'ADDRESS', u'APARTMENT NUMBER',\n",
       "       u'ZIP CODE', u'RESIDENTIAL UNITS', u'COMMERCIAL UNITS', u'TOTAL UNITS',\n",
       "       u'LAND SQUARE FEET', u'GROSS SQUARE FEET', u'YEAR BUILT',\n",
       "       u'TAX CLASS AT TIME OF SALE', u'BUILDING CLASS AT TIME OF SALE',\n",
       "       u'SALE DATE', u'SALE PRICE'],\n",
       "      dtype='object')"
      ]
     },
     "execution_count": 4,
     "metadata": {},
     "output_type": "execute_result"
    }
   ],
   "source": [
    "dataTEST.columns"
   ]
  },
  {
   "cell_type": "code",
   "execution_count": 5,
   "metadata": {},
   "outputs": [],
   "source": [
    "features = ['RESIDENTIAL UNITS', 'TAX CLASS AT TIME OF SALE']\n",
    "target = ['SALE PRICE']"
   ]
  },
  {
   "cell_type": "code",
   "execution_count": 6,
   "metadata": {},
   "outputs": [
    {
     "data": {
      "text/html": [
       "<div>\n",
       "<style scoped>\n",
       "    .dataframe tbody tr th:only-of-type {\n",
       "        vertical-align: middle;\n",
       "    }\n",
       "\n",
       "    .dataframe tbody tr th {\n",
       "        vertical-align: top;\n",
       "    }\n",
       "\n",
       "    .dataframe thead th {\n",
       "        text-align: right;\n",
       "    }\n",
       "</style>\n",
       "<table border=\"1\" class=\"dataframe\">\n",
       "  <thead>\n",
       "    <tr style=\"text-align: right;\">\n",
       "      <th></th>\n",
       "      <th>Unnamed: 0</th>\n",
       "      <th>BOROUGH</th>\n",
       "      <th>NEIGHBORHOOD</th>\n",
       "      <th>BUILDING CLASS CATEGORY</th>\n",
       "      <th>TAX CLASS AT PRESENT</th>\n",
       "      <th>BLOCK</th>\n",
       "      <th>LOT</th>\n",
       "      <th>EASE-MENT</th>\n",
       "      <th>BUILDING CLASS AT PRESENT</th>\n",
       "      <th>ADDRESS</th>\n",
       "      <th>...</th>\n",
       "      <th>RESIDENTIAL UNITS</th>\n",
       "      <th>COMMERCIAL UNITS</th>\n",
       "      <th>TOTAL UNITS</th>\n",
       "      <th>LAND SQUARE FEET</th>\n",
       "      <th>GROSS SQUARE FEET</th>\n",
       "      <th>YEAR BUILT</th>\n",
       "      <th>TAX CLASS AT TIME OF SALE</th>\n",
       "      <th>BUILDING CLASS AT TIME OF SALE</th>\n",
       "      <th>SALE DATE</th>\n",
       "      <th>SALE PRICE</th>\n",
       "    </tr>\n",
       "  </thead>\n",
       "  <tbody>\n",
       "    <tr>\n",
       "      <th>0</th>\n",
       "      <td>13152</td>\n",
       "      <td>1</td>\n",
       "      <td>UPPER EAST SIDE (59-79)</td>\n",
       "      <td>13 CONDOS - ELEVATOR APARTMENTS</td>\n",
       "      <td>2</td>\n",
       "      <td>1484</td>\n",
       "      <td>1109</td>\n",
       "      <td></td>\n",
       "      <td>R4</td>\n",
       "      <td>515 EAST 72ND STREET</td>\n",
       "      <td>...</td>\n",
       "      <td>1</td>\n",
       "      <td>0</td>\n",
       "      <td>1</td>\n",
       "      <td>-</td>\n",
       "      <td>-</td>\n",
       "      <td>1985</td>\n",
       "      <td>2</td>\n",
       "      <td>R4</td>\n",
       "      <td>2017-04-25 00:00:00</td>\n",
       "      <td>1055000</td>\n",
       "    </tr>\n",
       "    <tr>\n",
       "      <th>1</th>\n",
       "      <td>1605</td>\n",
       "      <td>4</td>\n",
       "      <td>BAYSIDE</td>\n",
       "      <td>01 ONE FAMILY DWELLINGS</td>\n",
       "      <td>1</td>\n",
       "      <td>6167</td>\n",
       "      <td>22</td>\n",
       "      <td></td>\n",
       "      <td>A1</td>\n",
       "      <td>35-34 212TH   STREET</td>\n",
       "      <td>...</td>\n",
       "      <td>1</td>\n",
       "      <td>0</td>\n",
       "      <td>1</td>\n",
       "      <td>4000</td>\n",
       "      <td>1970</td>\n",
       "      <td>1920</td>\n",
       "      <td>1</td>\n",
       "      <td>A1</td>\n",
       "      <td>2016-09-07 00:00:00</td>\n",
       "      <td>800000</td>\n",
       "    </tr>\n",
       "  </tbody>\n",
       "</table>\n",
       "<p>2 rows × 22 columns</p>\n",
       "</div>"
      ],
      "text/plain": [
       "   Unnamed: 0  BOROUGH             NEIGHBORHOOD  \\\n",
       "0       13152        1  UPPER EAST SIDE (59-79)   \n",
       "1        1605        4                  BAYSIDE   \n",
       "\n",
       "                       BUILDING CLASS CATEGORY TAX CLASS AT PRESENT  BLOCK  \\\n",
       "0  13 CONDOS - ELEVATOR APARTMENTS                                2   1484   \n",
       "1  01 ONE FAMILY DWELLINGS                                        1   6167   \n",
       "\n",
       "    LOT EASE-MENT BUILDING CLASS AT PRESENT               ADDRESS  ...  \\\n",
       "0  1109                                  R4  515 EAST 72ND STREET  ...   \n",
       "1    22                                  A1  35-34 212TH   STREET  ...   \n",
       "\n",
       "  RESIDENTIAL UNITS  COMMERCIAL UNITS  TOTAL UNITS  LAND SQUARE FEET  \\\n",
       "0                 1                 0            1               -     \n",
       "1                 1                 0            1              4000   \n",
       "\n",
       "   GROSS SQUARE FEET YEAR BUILT TAX CLASS AT TIME OF SALE  \\\n",
       "0                -         1985                         2   \n",
       "1               1970       1920                         1   \n",
       "\n",
       "   BUILDING CLASS AT TIME OF SALE            SALE DATE SALE PRICE  \n",
       "0                              R4  2017-04-25 00:00:00    1055000  \n",
       "1                              A1  2016-09-07 00:00:00     800000  \n",
       "\n",
       "[2 rows x 22 columns]"
      ]
     },
     "execution_count": 6,
     "metadata": {},
     "output_type": "execute_result"
    }
   ],
   "source": [
    "dataTEST[:2]"
   ]
  },
  {
   "cell_type": "code",
   "execution_count": 7,
   "metadata": {},
   "outputs": [
    {
     "data": {
      "text/html": [
       "<div>\n",
       "<style scoped>\n",
       "    .dataframe tbody tr th:only-of-type {\n",
       "        vertical-align: middle;\n",
       "    }\n",
       "\n",
       "    .dataframe tbody tr th {\n",
       "        vertical-align: top;\n",
       "    }\n",
       "\n",
       "    .dataframe thead th {\n",
       "        text-align: right;\n",
       "    }\n",
       "</style>\n",
       "<table border=\"1\" class=\"dataframe\">\n",
       "  <thead>\n",
       "    <tr style=\"text-align: right;\">\n",
       "      <th></th>\n",
       "      <th>Unnamed: 0</th>\n",
       "      <th>BOROUGH</th>\n",
       "      <th>BLOCK</th>\n",
       "      <th>LOT</th>\n",
       "      <th>ZIP CODE</th>\n",
       "      <th>RESIDENTIAL UNITS</th>\n",
       "      <th>COMMERCIAL UNITS</th>\n",
       "      <th>TOTAL UNITS</th>\n",
       "      <th>YEAR BUILT</th>\n",
       "      <th>TAX CLASS AT TIME OF SALE</th>\n",
       "      <th>SALE PRICE</th>\n",
       "    </tr>\n",
       "  </thead>\n",
       "  <tbody>\n",
       "    <tr>\n",
       "      <th>0</th>\n",
       "      <td>0.493</td>\n",
       "      <td>0.00</td>\n",
       "      <td>0.091</td>\n",
       "      <td>0.122</td>\n",
       "      <td>0.857</td>\n",
       "      <td>0.0</td>\n",
       "      <td>0.0</td>\n",
       "      <td>0.0</td>\n",
       "      <td>0.984</td>\n",
       "      <td>0.333</td>\n",
       "      <td>0.046</td>\n",
       "    </tr>\n",
       "    <tr>\n",
       "      <th>1</th>\n",
       "      <td>0.060</td>\n",
       "      <td>0.75</td>\n",
       "      <td>0.378</td>\n",
       "      <td>0.002</td>\n",
       "      <td>0.972</td>\n",
       "      <td>0.0</td>\n",
       "      <td>0.0</td>\n",
       "      <td>0.0</td>\n",
       "      <td>0.952</td>\n",
       "      <td>0.000</td>\n",
       "      <td>0.035</td>\n",
       "    </tr>\n",
       "  </tbody>\n",
       "</table>\n",
       "</div>"
      ],
      "text/plain": [
       "   Unnamed: 0  BOROUGH  BLOCK    LOT  ZIP CODE  RESIDENTIAL UNITS  \\\n",
       "0       0.493     0.00  0.091  0.122     0.857                0.0   \n",
       "1       0.060     0.75  0.378  0.002     0.972                0.0   \n",
       "\n",
       "   COMMERCIAL UNITS  TOTAL UNITS  YEAR BUILT  TAX CLASS AT TIME OF SALE  \\\n",
       "0               0.0          0.0       0.984                      0.333   \n",
       "1               0.0          0.0       0.952                      0.000   \n",
       "\n",
       "   SALE PRICE  \n",
       "0       0.046  \n",
       "1       0.035  "
      ]
     },
     "execution_count": 7,
     "metadata": {},
     "output_type": "execute_result"
    }
   ],
   "source": [
    "dataTEST_Norm[:2]"
   ]
  },
  {
   "cell_type": "code",
   "execution_count": 8,
   "metadata": {},
   "outputs": [
    {
     "data": {
      "text/html": [
       "<div>\n",
       "<style scoped>\n",
       "    .dataframe tbody tr th:only-of-type {\n",
       "        vertical-align: middle;\n",
       "    }\n",
       "\n",
       "    .dataframe tbody tr th {\n",
       "        vertical-align: top;\n",
       "    }\n",
       "\n",
       "    .dataframe thead th {\n",
       "        text-align: right;\n",
       "    }\n",
       "</style>\n",
       "<table border=\"1\" class=\"dataframe\">\n",
       "  <thead>\n",
       "    <tr style=\"text-align: right;\">\n",
       "      <th></th>\n",
       "      <th>Unnamed: 0</th>\n",
       "      <th>BOROUGH</th>\n",
       "      <th>BLOCK</th>\n",
       "      <th>LOT</th>\n",
       "      <th>ZIP CODE</th>\n",
       "      <th>RESIDENTIAL UNITS</th>\n",
       "      <th>COMMERCIAL UNITS</th>\n",
       "      <th>TOTAL UNITS</th>\n",
       "      <th>YEAR BUILT</th>\n",
       "      <th>TAX CLASS AT TIME OF SALE</th>\n",
       "      <th>SALE PRICE</th>\n",
       "    </tr>\n",
       "  </thead>\n",
       "  <tbody>\n",
       "    <tr>\n",
       "      <th>count</th>\n",
       "      <td>12059.000</td>\n",
       "      <td>12059.000</td>\n",
       "      <td>12059.000</td>\n",
       "      <td>12059.000</td>\n",
       "      <td>12059.000</td>\n",
       "      <td>12059.000</td>\n",
       "      <td>12059.000</td>\n",
       "      <td>12059.000</td>\n",
       "      <td>12059.000</td>\n",
       "      <td>12059.000</td>\n",
       "      <td>1.206e+04</td>\n",
       "    </tr>\n",
       "    <tr>\n",
       "      <th>mean</th>\n",
       "      <td>10169.199</td>\n",
       "      <td>3.197</td>\n",
       "      <td>4672.837</td>\n",
       "      <td>461.460</td>\n",
       "      <td>10882.433</td>\n",
       "      <td>1.943</td>\n",
       "      <td>0.052</td>\n",
       "      <td>1.994</td>\n",
       "      <td>1837.964</td>\n",
       "      <td>1.349</td>\n",
       "      <td>1.177e+06</td>\n",
       "    </tr>\n",
       "    <tr>\n",
       "      <th>std</th>\n",
       "      <td>7384.827</td>\n",
       "      <td>1.248</td>\n",
       "      <td>3743.815</td>\n",
       "      <td>708.877</td>\n",
       "      <td>634.034</td>\n",
       "      <td>4.170</td>\n",
       "      <td>0.330</td>\n",
       "      <td>4.262</td>\n",
       "      <td>460.495</td>\n",
       "      <td>0.508</td>\n",
       "      <td>1.828e+06</td>\n",
       "    </tr>\n",
       "    <tr>\n",
       "      <th>min</th>\n",
       "      <td>4.000</td>\n",
       "      <td>1.000</td>\n",
       "      <td>1.000</td>\n",
       "      <td>1.000</td>\n",
       "      <td>0.000</td>\n",
       "      <td>1.000</td>\n",
       "      <td>0.000</td>\n",
       "      <td>1.000</td>\n",
       "      <td>0.000</td>\n",
       "      <td>1.000</td>\n",
       "      <td>1.000e+00</td>\n",
       "    </tr>\n",
       "    <tr>\n",
       "      <th>25%</th>\n",
       "      <td>3853.000</td>\n",
       "      <td>3.000</td>\n",
       "      <td>1494.000</td>\n",
       "      <td>28.000</td>\n",
       "      <td>10312.000</td>\n",
       "      <td>1.000</td>\n",
       "      <td>0.000</td>\n",
       "      <td>1.000</td>\n",
       "      <td>1920.000</td>\n",
       "      <td>1.000</td>\n",
       "      <td>4.500e+05</td>\n",
       "    </tr>\n",
       "    <tr>\n",
       "      <th>50%</th>\n",
       "      <td>8307.000</td>\n",
       "      <td>3.000</td>\n",
       "      <td>4003.000</td>\n",
       "      <td>61.000</td>\n",
       "      <td>11213.000</td>\n",
       "      <td>1.000</td>\n",
       "      <td>0.000</td>\n",
       "      <td>1.000</td>\n",
       "      <td>1935.000</td>\n",
       "      <td>1.000</td>\n",
       "      <td>6.900e+05</td>\n",
       "    </tr>\n",
       "    <tr>\n",
       "      <th>75%</th>\n",
       "      <td>16076.500</td>\n",
       "      <td>4.000</td>\n",
       "      <td>6816.000</td>\n",
       "      <td>1029.000</td>\n",
       "      <td>11358.000</td>\n",
       "      <td>2.000</td>\n",
       "      <td>0.000</td>\n",
       "      <td>2.000</td>\n",
       "      <td>1986.000</td>\n",
       "      <td>2.000</td>\n",
       "      <td>1.125e+06</td>\n",
       "    </tr>\n",
       "    <tr>\n",
       "      <th>max</th>\n",
       "      <td>26661.000</td>\n",
       "      <td>5.000</td>\n",
       "      <td>16319.000</td>\n",
       "      <td>9099.000</td>\n",
       "      <td>11694.000</td>\n",
       "      <td>109.000</td>\n",
       "      <td>7.000</td>\n",
       "      <td>111.000</td>\n",
       "      <td>2016.000</td>\n",
       "      <td>4.000</td>\n",
       "      <td>2.300e+07</td>\n",
       "    </tr>\n",
       "  </tbody>\n",
       "</table>\n",
       "</div>"
      ],
      "text/plain": [
       "       Unnamed: 0    BOROUGH      BLOCK        LOT   ZIP CODE  \\\n",
       "count   12059.000  12059.000  12059.000  12059.000  12059.000   \n",
       "mean    10169.199      3.197   4672.837    461.460  10882.433   \n",
       "std      7384.827      1.248   3743.815    708.877    634.034   \n",
       "min         4.000      1.000      1.000      1.000      0.000   \n",
       "25%      3853.000      3.000   1494.000     28.000  10312.000   \n",
       "50%      8307.000      3.000   4003.000     61.000  11213.000   \n",
       "75%     16076.500      4.000   6816.000   1029.000  11358.000   \n",
       "max     26661.000      5.000  16319.000   9099.000  11694.000   \n",
       "\n",
       "       RESIDENTIAL UNITS  COMMERCIAL UNITS  TOTAL UNITS  YEAR BUILT  \\\n",
       "count          12059.000         12059.000    12059.000   12059.000   \n",
       "mean               1.943             0.052        1.994    1837.964   \n",
       "std                4.170             0.330        4.262     460.495   \n",
       "min                1.000             0.000        1.000       0.000   \n",
       "25%                1.000             0.000        1.000    1920.000   \n",
       "50%                1.000             0.000        1.000    1935.000   \n",
       "75%                2.000             0.000        2.000    1986.000   \n",
       "max              109.000             7.000      111.000    2016.000   \n",
       "\n",
       "       TAX CLASS AT TIME OF SALE  SALE PRICE  \n",
       "count                  12059.000   1.206e+04  \n",
       "mean                       1.349   1.177e+06  \n",
       "std                        0.508   1.828e+06  \n",
       "min                        1.000   1.000e+00  \n",
       "25%                        1.000   4.500e+05  \n",
       "50%                        1.000   6.900e+05  \n",
       "75%                        2.000   1.125e+06  \n",
       "max                        4.000   2.300e+07  "
      ]
     },
     "execution_count": 8,
     "metadata": {},
     "output_type": "execute_result"
    }
   ],
   "source": [
    "dataTEST.describe()"
   ]
  },
  {
   "cell_type": "code",
   "execution_count": 9,
   "metadata": {},
   "outputs": [],
   "source": [
    "x_test = dataTEST.drop(columns=target)\n",
    "y_test = dataTEST[target]\n",
    "x_test_Norm = dataTEST_Norm.drop(columns=target)\n",
    "y_test_Norm = dataTEST_Norm[target]"
   ]
  },
  {
   "cell_type": "code",
   "execution_count": 10,
   "metadata": {},
   "outputs": [
    {
     "data": {
      "text/html": [
       "<div>\n",
       "<style scoped>\n",
       "    .dataframe tbody tr th:only-of-type {\n",
       "        vertical-align: middle;\n",
       "    }\n",
       "\n",
       "    .dataframe tbody tr th {\n",
       "        vertical-align: top;\n",
       "    }\n",
       "\n",
       "    .dataframe thead th {\n",
       "        text-align: right;\n",
       "    }\n",
       "</style>\n",
       "<table border=\"1\" class=\"dataframe\">\n",
       "  <thead>\n",
       "    <tr style=\"text-align: right;\">\n",
       "      <th></th>\n",
       "      <th>Unnamed: 0</th>\n",
       "      <th>BOROUGH</th>\n",
       "      <th>NEIGHBORHOOD</th>\n",
       "      <th>BUILDING CLASS CATEGORY</th>\n",
       "      <th>TAX CLASS AT PRESENT</th>\n",
       "      <th>BLOCK</th>\n",
       "      <th>LOT</th>\n",
       "      <th>EASE-MENT</th>\n",
       "      <th>BUILDING CLASS AT PRESENT</th>\n",
       "      <th>ADDRESS</th>\n",
       "      <th>...</th>\n",
       "      <th>ZIP CODE</th>\n",
       "      <th>RESIDENTIAL UNITS</th>\n",
       "      <th>COMMERCIAL UNITS</th>\n",
       "      <th>TOTAL UNITS</th>\n",
       "      <th>LAND SQUARE FEET</th>\n",
       "      <th>GROSS SQUARE FEET</th>\n",
       "      <th>YEAR BUILT</th>\n",
       "      <th>TAX CLASS AT TIME OF SALE</th>\n",
       "      <th>BUILDING CLASS AT TIME OF SALE</th>\n",
       "      <th>SALE DATE</th>\n",
       "    </tr>\n",
       "  </thead>\n",
       "  <tbody>\n",
       "    <tr>\n",
       "      <th>0</th>\n",
       "      <td>13152</td>\n",
       "      <td>1</td>\n",
       "      <td>UPPER EAST SIDE (59-79)</td>\n",
       "      <td>13 CONDOS - ELEVATOR APARTMENTS</td>\n",
       "      <td>2</td>\n",
       "      <td>1484</td>\n",
       "      <td>1109</td>\n",
       "      <td></td>\n",
       "      <td>R4</td>\n",
       "      <td>515 EAST 72ND STREET</td>\n",
       "      <td>...</td>\n",
       "      <td>10021</td>\n",
       "      <td>1</td>\n",
       "      <td>0</td>\n",
       "      <td>1</td>\n",
       "      <td>-</td>\n",
       "      <td>-</td>\n",
       "      <td>1985</td>\n",
       "      <td>2</td>\n",
       "      <td>R4</td>\n",
       "      <td>2017-04-25 00:00:00</td>\n",
       "    </tr>\n",
       "    <tr>\n",
       "      <th>1</th>\n",
       "      <td>1605</td>\n",
       "      <td>4</td>\n",
       "      <td>BAYSIDE</td>\n",
       "      <td>01 ONE FAMILY DWELLINGS</td>\n",
       "      <td>1</td>\n",
       "      <td>6167</td>\n",
       "      <td>22</td>\n",
       "      <td></td>\n",
       "      <td>A1</td>\n",
       "      <td>35-34 212TH   STREET</td>\n",
       "      <td>...</td>\n",
       "      <td>11361</td>\n",
       "      <td>1</td>\n",
       "      <td>0</td>\n",
       "      <td>1</td>\n",
       "      <td>4000</td>\n",
       "      <td>1970</td>\n",
       "      <td>1920</td>\n",
       "      <td>1</td>\n",
       "      <td>A1</td>\n",
       "      <td>2016-09-07 00:00:00</td>\n",
       "    </tr>\n",
       "  </tbody>\n",
       "</table>\n",
       "<p>2 rows × 21 columns</p>\n",
       "</div>"
      ],
      "text/plain": [
       "   Unnamed: 0  BOROUGH             NEIGHBORHOOD  \\\n",
       "0       13152        1  UPPER EAST SIDE (59-79)   \n",
       "1        1605        4                  BAYSIDE   \n",
       "\n",
       "                       BUILDING CLASS CATEGORY TAX CLASS AT PRESENT  BLOCK  \\\n",
       "0  13 CONDOS - ELEVATOR APARTMENTS                                2   1484   \n",
       "1  01 ONE FAMILY DWELLINGS                                        1   6167   \n",
       "\n",
       "    LOT EASE-MENT BUILDING CLASS AT PRESENT               ADDRESS  ...  \\\n",
       "0  1109                                  R4  515 EAST 72ND STREET  ...   \n",
       "1    22                                  A1  35-34 212TH   STREET  ...   \n",
       "\n",
       "  ZIP CODE  RESIDENTIAL UNITS  COMMERCIAL UNITS  TOTAL UNITS  \\\n",
       "0    10021                  1                 0            1   \n",
       "1    11361                  1                 0            1   \n",
       "\n",
       "   LAND SQUARE FEET GROSS SQUARE FEET YEAR BUILT  TAX CLASS AT TIME OF SALE  \\\n",
       "0               -                 -         1985                          2   \n",
       "1              4000              1970       1920                          1   \n",
       "\n",
       "   BUILDING CLASS AT TIME OF SALE            SALE DATE  \n",
       "0                              R4  2017-04-25 00:00:00  \n",
       "1                              A1  2016-09-07 00:00:00  \n",
       "\n",
       "[2 rows x 21 columns]"
      ]
     },
     "execution_count": 10,
     "metadata": {},
     "output_type": "execute_result"
    }
   ],
   "source": [
    "x_test[:2]"
   ]
  },
  {
   "cell_type": "code",
   "execution_count": 11,
   "metadata": {},
   "outputs": [
    {
     "data": {
      "text/html": [
       "<div>\n",
       "<style scoped>\n",
       "    .dataframe tbody tr th:only-of-type {\n",
       "        vertical-align: middle;\n",
       "    }\n",
       "\n",
       "    .dataframe tbody tr th {\n",
       "        vertical-align: top;\n",
       "    }\n",
       "\n",
       "    .dataframe thead th {\n",
       "        text-align: right;\n",
       "    }\n",
       "</style>\n",
       "<table border=\"1\" class=\"dataframe\">\n",
       "  <thead>\n",
       "    <tr style=\"text-align: right;\">\n",
       "      <th></th>\n",
       "      <th>Unnamed: 0</th>\n",
       "      <th>BOROUGH</th>\n",
       "      <th>BLOCK</th>\n",
       "      <th>LOT</th>\n",
       "      <th>ZIP CODE</th>\n",
       "      <th>RESIDENTIAL UNITS</th>\n",
       "      <th>COMMERCIAL UNITS</th>\n",
       "      <th>TOTAL UNITS</th>\n",
       "      <th>YEAR BUILT</th>\n",
       "      <th>TAX CLASS AT TIME OF SALE</th>\n",
       "    </tr>\n",
       "  </thead>\n",
       "  <tbody>\n",
       "    <tr>\n",
       "      <th>0</th>\n",
       "      <td>0.493</td>\n",
       "      <td>0.00</td>\n",
       "      <td>0.091</td>\n",
       "      <td>0.122</td>\n",
       "      <td>0.857</td>\n",
       "      <td>0.0</td>\n",
       "      <td>0.0</td>\n",
       "      <td>0.0</td>\n",
       "      <td>0.984</td>\n",
       "      <td>0.333</td>\n",
       "    </tr>\n",
       "    <tr>\n",
       "      <th>1</th>\n",
       "      <td>0.060</td>\n",
       "      <td>0.75</td>\n",
       "      <td>0.378</td>\n",
       "      <td>0.002</td>\n",
       "      <td>0.972</td>\n",
       "      <td>0.0</td>\n",
       "      <td>0.0</td>\n",
       "      <td>0.0</td>\n",
       "      <td>0.952</td>\n",
       "      <td>0.000</td>\n",
       "    </tr>\n",
       "  </tbody>\n",
       "</table>\n",
       "</div>"
      ],
      "text/plain": [
       "   Unnamed: 0  BOROUGH  BLOCK    LOT  ZIP CODE  RESIDENTIAL UNITS  \\\n",
       "0       0.493     0.00  0.091  0.122     0.857                0.0   \n",
       "1       0.060     0.75  0.378  0.002     0.972                0.0   \n",
       "\n",
       "   COMMERCIAL UNITS  TOTAL UNITS  YEAR BUILT  TAX CLASS AT TIME OF SALE  \n",
       "0               0.0          0.0       0.984                      0.333  \n",
       "1               0.0          0.0       0.952                      0.000  "
      ]
     },
     "execution_count": 11,
     "metadata": {},
     "output_type": "execute_result"
    }
   ],
   "source": [
    "x_test_Norm[:2]"
   ]
  },
  {
   "cell_type": "markdown",
   "metadata": {},
   "source": [
    "# Шкалы стандартизации. Коэфф."
   ]
  },
  {
   "cell_type": "code",
   "execution_count": 12,
   "metadata": {},
   "outputs": [
    {
     "name": "stdout",
     "output_type": "stream",
     "text": [
      "Нормализация  [[0.80729115]]\n",
      "Денормализация  [[156.00009984]]\n"
     ]
    }
   ],
   "source": [
    "'''\n",
    "RESIDENTIAL UNITS =   156.000000 истинное ~  [[0.80729167]] шкалированное \n",
    "RESIDENTIAL UNITS     =     2.000000 шкалированное  ~  [[385.]] истинное \n",
    "\n",
    "RESIDENTIAL UNITS\n",
    "data_min_    =  [1.]\n",
    "data_max_    =  [193.]\n",
    "min_ =  [-0.00520833]\n",
    "scale_ =  [0.00520833]\n",
    "data_range_  =  [192.]\n",
    "'''\n",
    "# RESIDENTIAL UNITS\n",
    "newScaler_Residential = MinMaxScaler(feature_range=(0, 1))\n",
    "\n",
    "newScaler_Residential.data_min_    =  [1.]\n",
    "newScaler_Residential.data_max_    =  [193.]\n",
    "newScaler_Residential.min_ =  [-0.00520833]\n",
    "newScaler_Residential.scale_ =  [0.00520833]\n",
    "newScaler_Residential.data_range_  =  [192.]\n",
    "\n",
    "# .transform( [[156.000000]] ) - привести значение 156.000000 к заданному диапазону\n",
    "print \"Нормализация \",newScaler_Residential.transform( [[156.000000]] )\n",
    "\n",
    "# .inverse_transform( [[0.80729167]] ) - привести значение 0.80729167 к исходному диапазону\n",
    "print \"Денормализация \",newScaler_Residential.inverse_transform( [[0.80729167]])"
   ]
  },
  {
   "cell_type": "code",
   "execution_count": 13,
   "metadata": {},
   "outputs": [
    {
     "name": "stdout",
     "output_type": "stream",
     "text": [
      "Нормализация  [[0.]]\n",
      "Денормализация  [[1.]]\n"
     ]
    }
   ],
   "source": [
    "'''\n",
    "TAX CLASS AT TIME OF SALE =     1.000000 истинное ~  [[0.]] шкалированное \n",
    "TAX CLASS AT TIME OF SALE     =     4.000000 шкалированное  ~  [[13.]] истинное \n",
    "\n",
    "TAX CLASS AT TIME OF SALE\n",
    "data_min_    =  [1.]\n",
    "data_max_    =  [4.]\n",
    "min_ =  [-0.33333333]\n",
    "scale_ =  [0.33333333]\n",
    "data_range_  =  [3.]\n",
    "\n",
    "'''\n",
    "# Temperature\n",
    "newScaler_Tax = MinMaxScaler(feature_range=(0, 1))\n",
    "\n",
    "newScaler_Tax.data_min_    =  [1.]\n",
    "newScaler_Tax.data_max_    =  [4.]\n",
    "newScaler_Tax.min_ =  [-0.33333333]\n",
    "newScaler_Tax.scale_ =  [0.33333333]\n",
    "newScaler_Tax.data_range_  =  [3.]\n",
    "\n",
    "\n",
    "# .transform( [[1.000000]] ) - привести значение  1.000000 к заданному диапазону\n",
    "print \"Нормализация \",newScaler_Tax.transform( [[1.000000]] )\n",
    "\n",
    "# .inverse_transform( [[0.]] ) - привести значение 0. к исходному диапазону\n",
    "print \"Денормализация \",newScaler_Tax.inverse_transform( [[0.]])"
   ]
  },
  {
   "cell_type": "code",
   "execution_count": 14,
   "metadata": {},
   "outputs": [
    {
     "name": "stdout",
     "output_type": "stream",
     "text": [
      "Нормализация  [[0.6521739]]\n",
      "Денормализация  [[15000000.03400004]]\n"
     ]
    }
   ],
   "source": [
    "'''\n",
    "SALE PRICE\n",
    "data_min_    =  [1.]\n",
    "data_max_    =  [23000000.]\n",
    "min_ =  [-4.34782628e-08]\n",
    "scale_ =  [4.34782628e-08]\n",
    "data_range_  =  [22999999.]\n",
    "\n",
    "SALE PRICE = 15000000.000000 истинное ~  [[0.6521739]] шкалированное \n",
    "SALE PRICE =     0.356000 шкалированное ~  [[8188000.644]] истинное \n",
    "\n",
    "'''\n",
    "# SALE PRICE\n",
    "newScaler_price = MinMaxScaler(feature_range=(0, 1))\n",
    "\n",
    "newScaler_price.data_min_    =  [1.]\n",
    "newScaler_price.data_max_    =  [23000000.]\n",
    "newScaler_price.min_ =  [-4.34782628e-08]\n",
    "newScaler_price.scale_ =  [4.34782628e-08]\n",
    "newScaler_price.data_range_  =  [22999999.]\n",
    "\n",
    "# .transform( [[15000000.000000]] ) - привести значение 15000000.000000 к заданному диапазону\n",
    "print \"Нормализация \",newScaler_price.transform( [[15000000.000000]] )\n",
    "\n",
    "# .inverse_transform( [[0.6521739]] ) - привести значение 0.6521739 к исходному диапазону\n",
    "print \"Денормализация \",newScaler_price.inverse_transform( [[0.6521739]])"
   ]
  },
  {
   "cell_type": "code",
   "execution_count": null,
   "metadata": {},
   "outputs": [],
   "source": []
  },
  {
   "cell_type": "code",
   "execution_count": 15,
   "metadata": {},
   "outputs": [],
   "source": [
    "descriptionJson = open(\"./model_description.json\",'r')\n",
    "description = json.load(descriptionJson)"
   ]
  },
  {
   "cell_type": "markdown",
   "metadata": {},
   "source": [
    "# Нейронная сеть. Файл pickle."
   ]
  },
  {
   "cell_type": "markdown",
   "metadata": {},
   "source": [
    "## Модель 2 вх., 1 вых."
   ]
  },
  {
   "cell_type": "code",
   "execution_count": 16,
   "metadata": {},
   "outputs": [
    {
     "data": {
      "text/plain": [
       "array([0.        , 0.33333333])"
      ]
     },
     "execution_count": 16,
     "metadata": {},
     "output_type": "execute_result"
    }
   ],
   "source": [
    "x_sample_2 = x_test_Norm[features][0:1]\n",
    "x_sample_2.values[0]"
   ]
  },
  {
   "cell_type": "code",
   "execution_count": 17,
   "metadata": {},
   "outputs": [
    {
     "name": "stdout",
     "output_type": "stream",
     "text": [
      "Результат проверки. Нейронная сеть 2 вх., 1 вых. Файл pickle.\n",
      "[0.08128018]\n"
     ]
    }
   ],
   "source": [
    "import pickle\n",
    "fileName_net2 = \"model_Net_3to1.data_pickle\"\n",
    "\n",
    "with open(fileName_net2, 'rb') as f:\n",
    "    net2 = pickle.load(f)\n",
    "print \"Результат проверки. Нейронная сеть 2 вх., 1 вых. Файл pickle.\"\n",
    "print net2.activate(x_sample_2.values[0])"
   ]
  },
  {
   "cell_type": "code",
   "execution_count": 18,
   "metadata": {},
   "outputs": [],
   "source": [
    "resultNet2 = net2.activate( x_sample_2.values[0] )\n",
    "discNet2 = description['neuroNet2'] "
   ]
  },
  {
   "cell_type": "markdown",
   "metadata": {},
   "source": [
    "## Модель 12 вх., 1 вых."
   ]
  },
  {
   "cell_type": "code",
   "execution_count": 19,
   "metadata": {},
   "outputs": [
    {
     "data": {
      "text/plain": [
       "array([0.49304384, 0.        , 0.09088124, 0.12169138, 0.85693518,\n",
       "       0.        , 0.        , 0.        , 0.98413485, 0.33333333])"
      ]
     },
     "execution_count": 19,
     "metadata": {},
     "output_type": "execute_result"
    }
   ],
   "source": [
    "x_sample_12 = x_test_Norm[0:1]\n",
    "x_sample_12.values[0]"
   ]
  },
  {
   "cell_type": "code",
   "execution_count": 20,
   "metadata": {},
   "outputs": [
    {
     "name": "stdout",
     "output_type": "stream",
     "text": [
      "Результат проверки. Нейронная сеть 2 вх., 1 вых. Файл pickle.\n",
      "[0.11549307]\n"
     ]
    }
   ],
   "source": [
    "import pickle\n",
    "# имя файла\n",
    "fileName_net12 = \"model_Net_WV.data_pickle\"\n",
    "\n",
    "with open(fileName_net12, 'rb') as f:\n",
    "    net12 = pickle.load(f)\n",
    "print \"Результат проверки. Нейронная сеть 2 вх., 1 вых. Файл pickle.\"\n",
    "print net12.activate( x_sample_12.values[0] )"
   ]
  },
  {
   "cell_type": "code",
   "execution_count": 21,
   "metadata": {},
   "outputs": [],
   "source": [
    "resultNet12 = net12.activate( x_sample_12.values[0] )\n",
    "discNet12 = description['neuroNet12']"
   ]
  },
  {
   "cell_type": "markdown",
   "metadata": {},
   "source": [
    "## Линейная регрессия. Коэфф."
   ]
  },
  {
   "cell_type": "code",
   "execution_count": 22,
   "metadata": {},
   "outputs": [
    {
     "name": "stdout",
     "output_type": "stream",
     "text": [
      "R2   =  -127.5701516402329\n",
      "MAE  =  0.8118090996530944 [[-2.93411336e+09]]\n",
      "RMSE  = 0.811809099653 -2,934,113,356.451 \n"
     ]
    }
   ],
   "source": [
    "model_LinRegrMult           = linear_model.LinearRegression()\n",
    "model_LinRegrMult.coef_      = np.array([-0.793, -0.244])\n",
    "model_LinRegrMult.intercept_ = np.array([0.978])\n",
    "y_pred_LinRegrMult_CLEAR           = model_LinRegrMult.predict(  x_test_Norm[features]  )\n",
    "\n",
    "\n",
    "r2_Lin = metrics.r2_score(y_test_Norm, y_pred_LinRegrMult_CLEAR)\n",
    "mse_Lin = metrics.mean_squared_error(y_test_Norm, y_pred_LinRegrMult_CLEAR)\n",
    "\n",
    "print \"R2   = \", r2_Lin\n",
    "print \"MAE  = \", mse_Lin, newScaler_price.inverse_transform( [[ r2_Lin ]])\n",
    "print \"RMSE  = {} {:,.3f} \".format( mse_Lin,newScaler_price.inverse_transform( [[ r2_Lin ]])[0][0])"
   ]
  },
  {
   "cell_type": "code",
   "execution_count": 23,
   "metadata": {},
   "outputs": [
    {
     "name": "stdout",
     "output_type": "stream",
     "text": [
      "Результат проверки. Линейная регрессия. Коэфф.\n",
      "Проверочное  [[0.04586952]]\n",
      "Вычисленное  0.978\n",
      "Проверочное  [[1054999.99902757]]\n",
      "Вычисленное  [[22494000.00126644]]\n"
     ]
    }
   ],
   "source": [
    "print \"Результат проверки. Линейная регрессия. Коэфф.\"\n",
    "print \"Проверочное \", y_test_Norm.iloc[0:1].values\n",
    "print \"Вычисленное \", y_pred_LinRegrMult_CLEAR[1] \n",
    "\n",
    "print \"Проверочное \", newScaler_price.inverse_transform(y_test_Norm.iloc[0:1].values)\n",
    "print \"Вычисленное \", newScaler_price.inverse_transform([[y_pred_LinRegrMult_CLEAR[1]]])"
   ]
  },
  {
   "cell_type": "markdown",
   "metadata": {},
   "source": [
    "## Линейная регрессия. Файл pickle."
   ]
  },
  {
   "cell_type": "code",
   "execution_count": 24,
   "metadata": {},
   "outputs": [
    {
     "name": "stdout",
     "output_type": "stream",
     "text": [
      "Результат проверки. Линейная регрессия. Файл pickle.\n",
      "y_pred Исходной,  y_pred Загруженной,  delta,  delta < 0.000001\n",
      "[[0.04586952]] [0.0765559] [[-0.03068638]] [[ True]]\n",
      "[[0.03478257]] [0.03046478] [[0.00431778]] [[False]]\n",
      "[[0.04913039]] [0.03985376] [[0.00927663]] [[False]]\n",
      "[[0.0165217]] [0.03046478] [[-0.01394309]] [[ True]]\n",
      "[[0.03608691]] [0.03515927] [[0.00092764]] [[False]]\n",
      "[[0.03043474]] [0.03046478] [[-3.00424531e-05]] [[ True]]\n",
      "[[0.04565213]] [0.03046478] [[0.01518735]] [[False]]\n",
      "[[0.01469561]] [0.03046478] [[-0.01576917]] [[ True]]\n",
      "[[0.05695648]] [0.03515927] [[0.02179721]] [[False]]\n",
      "[[0.03275661]] [0.03515927] [[-0.00240266]] [[ True]]\n"
     ]
    }
   ],
   "source": [
    "import pickle\n",
    "fileName_LinRegrMult = \"model_LinRegrMult.data_pickle\"\n",
    "\n",
    "with open(fileName_LinRegrMult, 'rb') as f:\n",
    "    model_LinRegrMult = pickle.load(f)\n",
    "\n",
    "y_pred_LinRegrMult_CLEAR = model_LinRegrMult.predict(  x_test_Norm[features]  )\n",
    "discLinear = description['linear']\n",
    "print \"Результат проверки. Линейная регрессия. Файл pickle.\"\n",
    "\n",
    "print \"y_pred Исходной, \", \"y_pred Загруженной, \", \"delta, \", \"delta < 0.000001\"\n",
    "\n",
    "for i in range (0, 10):\n",
    "    delta = (y_test_Norm.iloc[i:i+1].values  - y_pred_LinRegrMult_CLEAR[i] ) \n",
    "    print y_test_Norm.iloc[i:i+1].values , y_pred_LinRegrMult_CLEAR[i], delta, delta < 0.000001"
   ]
  },
  {
   "cell_type": "markdown",
   "metadata": {},
   "source": [
    "## Дерево регрессии. Файл pickle."
   ]
  },
  {
   "cell_type": "code",
   "execution_count": 25,
   "metadata": {},
   "outputs": [
    {
     "name": "stdout",
     "output_type": "stream",
     "text": [
      "Результат проверки. Дерево регрессии\n",
      "y_pred Исходной,  y_pred Загруженной,  delta,  delta < 0.000001\n",
      "[[0.04586952]] [0.0765559] [[-0.03068638]] [[ True]]\n",
      "[[0.03478257]] [0.03046478] [[0.00431778]] [[False]]\n",
      "[[0.04913039]] [0.03985376] [[0.00927663]] [[False]]\n",
      "[[0.0165217]] [0.03046478] [[-0.01394309]] [[ True]]\n",
      "[[0.03608691]] [0.03515927] [[0.00092764]] [[False]]\n",
      "[[0.03043474]] [0.03046478] [[-3.00424531e-05]] [[ True]]\n",
      "[[0.04565213]] [0.03046478] [[0.01518735]] [[False]]\n",
      "[[0.01469561]] [0.03046478] [[-0.01576917]] [[ True]]\n",
      "[[0.05695648]] [0.03515927] [[0.02179721]] [[False]]\n",
      "[[0.03275661]] [0.03515927] [[-0.00240266]] [[ True]]\n"
     ]
    }
   ],
   "source": [
    "import pickle\n",
    "fileName_treeRegr_d6 = \"model_treeRegr_d6.data_pickle\"\n",
    "\n",
    "with open(fileName_LinRegrMult, 'rb') as f:\n",
    "    treeRegr_d6 = pickle.load(f)\n",
    "\n",
    "y_pred_treeRegr_d6 = treeRegr_d6.predict(  x_test_Norm[features]  )\n",
    "discTree = description['tree']\n",
    "print \"Результат проверки. Дерево регрессии\"\n",
    "\n",
    "print \"y_pred Исходной, \", \"y_pred Загруженной, \", \"delta, \", \"delta < 0.000001\"\n",
    "\n",
    "for i in range (0, 10):\n",
    "    delta = (y_test_Norm.iloc[i:i+1].values  - y_pred_treeRegr_d6[i] ) \n",
    "    print y_test_Norm.iloc[i:i+1].values , y_pred_treeRegr_d6[i], delta, delta < 0.000001"
   ]
  },
  {
   "cell_type": "code",
   "execution_count": 26,
   "metadata": {},
   "outputs": [
    {
     "name": "stdout",
     "output_type": "stream",
     "text": [
      "[[0.0765559]] [[1760786.64479264]]\n"
     ]
    }
   ],
   "source": [
    "print y_pred_treeRegr_d6[0:1], newScaler_price.inverse_transform(y_pred_treeRegr_d6[0:1])"
   ]
  },
  {
   "cell_type": "code",
   "execution_count": 27,
   "metadata": {},
   "outputs": [
    {
     "name": "stdout",
     "output_type": "stream",
     "text": [
      "Результат проверки. Нейронная сеть 2 вх., 1 вых. Файл pickle.\n",
      "[0.08128018]  |  [[1869444.97568915]]\n",
      "\n",
      "\n",
      "dataNormalised   True\n",
      "target   [u'SALE PRICE']\n",
      "r2   0.14647635451\n",
      "name   Нейросеть 2вх, 1 вых. 75 итераций\n",
      "mae   0.0333445912066\n",
      "features   [u'RESIDENTIAL UNITS', u'TAX CLASS AT TIME OF SALE']\n",
      "mse   0.0053892622303\n",
      "typeML   Нейронная сеть\n",
      "\n",
      "\n",
      "Результат проверки. Нейронная сеть 12 вх., 1 вых. Файл pickle.\n",
      "[0.11549307]  |  [[2656341.4373372]] \n",
      "\n",
      "\n",
      "\n",
      "Результат проверки. Линейная регрессия. Коэфф.\n",
      "[[0.04586952]]  |  [[1054999.99902757]]\n",
      "\n",
      "\n",
      "Результат проверки. Линейная регрессия. Файл pickle.\n",
      "[[0.0765559]] | [[1760786.64479264]]\n",
      "\n",
      "\n",
      "dataNormalised   True\n",
      "target   [u'temp']\n",
      "r2   0.206225805006\n",
      "name   Множественная\n",
      "mae   0.0329277937372\n",
      "features   [u'RH', u'ISI']\n",
      "mse   0.0050119962242\n",
      "typeML   Линейная регрессия\n",
      "\n",
      "\n",
      "Результат проверки. Дерево регрессии\n",
      "[[0.0765559]] | [[1760786.64479264]]\n",
      "\n",
      "\n",
      "dataNormalised   True\n",
      "target   [u'temp']\n",
      "r2   0.247328863596\n",
      "name   Дерево регрессии\n",
      "mae   0.0320355129981\n",
      "features   [u'RH', u'ISI']\n",
      "mse   0.00475246602562\n",
      "typeML   Дерево регрессии\n"
     ]
    }
   ],
   "source": [
    "print \"Результат проверки. Нейронная сеть 2 вх., 1 вых. Файл pickle.\"\n",
    "print resultNet2 ,\" | \", newScaler_price.inverse_transform([resultNet2])\n",
    "print \"\\n\"\n",
    "for key in discNet2:\n",
    "  print key,\" \",discNet2[key]\n",
    "\n",
    "print \"\\n\"\n",
    "print \"Результат проверки. Нейронная сеть 12 вх., 1 вых. Файл pickle.\"\n",
    "print resultNet12,\" | \",newScaler_price.inverse_transform([resultNet12]),\"\\n\"\n",
    "for key in discNet12:\n",
    "  print \"@\", key,\" \",discNet12[key]\n",
    "\n",
    "print \"\\n\"\n",
    "\n",
    "print \"Результат проверки. Линейная регрессия. Коэфф.\"\n",
    "print y_test_Norm.iloc[0:1].values,\" | \",newScaler_price.inverse_transform(y_test_Norm.iloc[0:1].values)\n",
    "#print \"Вычисленное \", y_pred_LinRegrMult_CLEAR[1],\" | \"#, newScaler_quality.inverse_transform([[y_pred_LinRegrMult_CLEAR[1]]])\n",
    "print \"\\n\"\n",
    "print \"Результат проверки. Линейная регрессия. Файл pickle.\"\n",
    "print y_pred_LinRegrMult_CLEAR[0:1], \"|\", newScaler_price.inverse_transform(y_pred_LinRegrMult_CLEAR[0:1])\n",
    "\n",
    "print \"\\n\"\n",
    "for key in discLinear:\n",
    "  print key,\" \",discLinear[key]\n",
    "print \"\\n\"\n",
    "print \"Результат проверки. Дерево регрессии\"\n",
    "print y_pred_treeRegr_d6[0:1], \"|\", newScaler_price.inverse_transform(y_pred_treeRegr_d6[0:1])\n",
    "\n",
    "print \"\\n\"\n",
    "\n",
    "for key in discTree:\n",
    "  print key,\" \",discTree[key]"
   ]
  },
  {
   "cell_type": "markdown",
   "metadata": {},
   "source": [
    "# Выводы"
   ]
  },
  {
   "cell_type": "markdown",
   "metadata": {},
   "source": [
    "Был разработан проект сегмента базы знаний интеллектуальной системы, содержащей набор моделей, сформированных с помощью различных методов машинного обучения (модели линейной множественной регрессии, деревья решений, нейронные сети). Сопроводительная информация о моделях была сохранена в предыдущей работе в формате json.\n",
    "\n",
    "Полученные результаты:\n",
    "\n",
    "Нейронная сеть 2 вх., 1 вых. Файл pickle. [0.08128018]  |  [[1869444.97568915]]\n",
    "\n",
    "Нейронная сеть 12 вх., 1 вых. Файл pickle. [0.11549307]  |  [[2656341.4373372]] \n",
    "\n",
    "Линейная регрессия. Коэфф. [[0.04586952]]  |  [[1054999.99902757]]\n",
    "\n",
    "Линейная регрессия. Файл pickle.[[0.0765559]] | [[1760786.64479264]]\n",
    "\n",
    "Дерево регрессии [[0.0765559]] | [[1760786.64479264]]"
   ]
  },
  {
   "cell_type": "code",
   "execution_count": null,
   "metadata": {},
   "outputs": [],
   "source": []
  }
 ],
 "metadata": {
  "kernelspec": {
   "display_name": "Python 2",
   "language": "python",
   "name": "python2"
  },
  "language_info": {
   "codemirror_mode": {
    "name": "ipython",
    "version": 2
   },
   "file_extension": ".py",
   "mimetype": "text/x-python",
   "name": "python",
   "nbconvert_exporter": "python",
   "pygments_lexer": "ipython2",
   "version": "2.7.15+"
  }
 },
 "nbformat": 4,
 "nbformat_minor": 2
}
